{
 "cells": [
  {
   "metadata": {},
   "cell_type": "markdown",
   "source": "分类评估方法",
   "id": "fcd80b02c707ae5a"
  },
  {
   "metadata": {},
   "cell_type": "markdown",
   "source": "1.分类评估方法",
   "id": "b94ffc62ef52e7e3"
  },
  {
   "metadata": {},
   "cell_type": "markdown",
   "source": [
    "    1.1.精确率与召回率\n",
    "        （1）混淆矩阵\n",
    "        在分类任务下，预测结果（Predicted Condition）与正确标记（True Condition）\n",
    "        之间存在四种不同的组合，构成混淆矩阵（适用于多分类）\n",
    "![jupyter](../Sources/Pictures/Logical_Regression/混淆矩阵.png)"
   ],
   "id": "7772d0a52abac828"
  },
  {
   "metadata": {},
   "cell_type": "markdown",
   "source": [
    "    1.1.精确率与召回率\n",
    "        （2）精确率（Precision）：预测结果为正则样本中真实为正例的比例\n",
    "        精确率=（TP）/（TP+FP）\n",
    "![jupyter](../Sources/Pictures/Logical_Regression/精确率图解.png)"
   ],
   "id": "5c98faf75e1afa7"
  },
  {
   "metadata": {},
   "cell_type": "markdown",
   "source": [
    "    1.1.精确率与召回率\n",
    "        （3）召回率（Recall）：真实为正例的样本中预测结果为正例的比例（对正样本的区分能力）\n",
    "        召回率=（TP）/（TP+FN）\n",
    "![jupyter](../Sources/Pictures/Logical_Regression/召回率图解.png)"
   ],
   "id": "4f41dd434cf5cc2c"
  },
  {
   "metadata": {},
   "cell_type": "markdown",
   "source": "    补：准确率=（TP+TN）/（TP+FP+FN+TN）",
   "id": "bb48a658aaecd209"
  },
  {
   "metadata": {},
   "cell_type": "markdown",
   "source": [
    "    1.2.F1-score\n",
    "    还有其他的评估标准，F1-score反映了模型的稳健型\n",
    "![jupyter](../Sources/Pictures/Logical_Regression/F1-score.png)"
   ],
   "id": "5eda97d2f1b8ac00"
  },
  {
   "metadata": {},
   "cell_type": "markdown",
   "source": [
    "    1.3.分类评估报告API\n",
    "    sklearn.metrics.classification_report(y_true, y_pred, tables=[], target_names=None)\n",
    "        参数解释：y_true:真实目标值\n",
    "                y_pred:估计器预测目标值\n",
    "                labels：指定类别对应的数字\n",
    "                target_name:目标类别名称\n",
    "        返回值：每个类别精确率与召回率\n",
    "    使用案例：\n",
    "    ret=classification_report(y_test,y_predict,tanles=[2,4],target_names=[\"良性\",\"恶性\"])"
   ],
   "id": "97a433b14583f5e4"
  },
  {
   "metadata": {},
   "cell_type": "markdown",
   "source": [
    "    假设这样一个情况，如果99个样本癌症，1个样本非癌症，不管怎么样我全部都预测正例\n",
    "    （默认癌症为正例），准确率为99%，但是这样效果并不好，这样是样本不均衡下的评估问题。"
   ],
   "id": "738a9ced6f34762c"
  },
  {
   "metadata": {},
   "cell_type": "markdown",
   "source": [
    "    样本不均衡：当样本比例大于或等于4：1时认为是样本不均衡，\n",
    "              即一个类别占4份，一个类别1份时或者大于这个比例时。"
   ],
   "id": "8cbae2a38b5afde9"
  },
  {
   "metadata": {},
   "cell_type": "markdown",
   "source": "2.ROC曲线与AUC指标",
   "id": "85012f63ed6b485a"
  },
  {
   "metadata": {},
   "cell_type": "markdown",
   "source": [
    "    2.1.TPR与FPR\n",
    "        （1）TPR = TP / （TP+FN），TPR代表真实率\n",
    "            所有真实类别为1的样本中，预测类别为1的比例\n",
    "        （2）FPR = FP / （FP+TN）\n",
    "            所有真实类别为0的样本中，预测类别为1的比例"
   ],
   "id": "50b9bb753d736637"
  },
  {
   "metadata": {},
   "cell_type": "markdown",
   "source": [
    "    2.2.ROC曲线\n",
    "        （1）ROC曲线的横轴时FPRate，纵轴是TPRate\n",
    "        （2）当二者相等时，表示的意义：对于不论真实类别是1还是0的样本，分类器预测为1\n",
    "            的概率是相等的，此时AUC为0.5\n",
    "        （3）ROC曲线图像\n",
    "![jupyter](../Sources/Pictures/Logical_Regression/ROC曲线图像.png)"
   ],
   "id": "636896deacd8b24b"
  },
  {
   "metadata": {},
   "cell_type": "markdown",
   "source": [
    "    图像解释：\n",
    "        （1）虚线：当TPR与FPR相等的情况。此时的判断不论输入是什么都判定为1\n",
    "        （2）Perfect Classification：此时代表的是TPR为1，FPR为0\n",
    "              含义：在所有真实类别为1的样本中，预测类别都是1\n",
    "                   在所有真实类别为0的样本中，预测类别都是0\n",
    "                   说明所有的预测都是准确的\n",
    "        （3）Worst Classification：此时代表的是TPR为0，FPR为1\n",
    "              含义：在所有真实类别为1的样本中，预测类别都是0\n",
    "                   在所有真实类别为0的样本中，预测类别都是1\n",
    "                   说明所有的预测都是相反的的，预测都是错误的"
   ],
   "id": "12b1398cd589fe82"
  },
  {
   "metadata": {},
   "cell_type": "markdown",
   "source": [
    "    2.3.AUC指标\n",
    "        （1）AUC的概率意义是随机抽取一对正负样本，正样本得分大于负样本得分概率\n",
    "        （2）AUC的范围在[0,1]之间，并且越接近1越好，越接近0.5属于乱猜\n",
    "        （3）AUC=1，完美分类器，次啊用这个预测模型时，不管设定什么值都能得到完美预测\n",
    "            ，绝大多数预测的场合，不存在完美分类器\n",
    "        （4）0.5<AUC<1，优于随机预测，这个分类器（模型）妥善设定阈值的话，能有预测的价值"
   ],
   "id": "ffbaef5344b18e2a"
  },
  {
   "metadata": {},
   "cell_type": "markdown",
   "source": [
    "    2.4.AUC计算的API\n",
    "    from sklearn.metrics import roc_auc_score\n",
    "    sklearn.metrics import roc_auc_score(y_true, y_score)\n",
    "        （1）功能：计算ROC曲线面积，即AUC的值\n",
    "        （2）y_true:每个样本呢的真实类别，必须为0(反例)，1(正例)标记\n",
    "        （3）y_score：预测得分，可以是正类的估计概率，置信值或者分类器方法的返回值\n",
    "    注意：（1）AUC只能用来评价二分类,并且非常实用\n",
    "         （2）AUC非常评价样本不平衡中的分类器性能"
   ],
   "id": "d77e17f52af72963"
  },
  {
   "metadata": {},
   "cell_type": "markdown",
   "source": [
    "小结：\n",
    "    （1）混淆矩阵\n",
    "          a、真正例\n",
    "          b、伪反例\n",
    "          c、伪正例\n",
    "          d、真反例\n",
    "    （2）精确率(Precision)与召回率(Recall)\n",
    "          a、准确率；对与不对       （TP+TN） / （TP+TN+FN+FP）\n",
    "          b、精确率：查得准不准      TP / （TP+FP）\n",
    "          c、召回率：查的全不全      TP / （TP+FN）\n",
    "          d、F1-score：反映模型的稳健性\n",
    "    （3）ROC曲线与AUC指标\n",
    "          a、ROC：通过TPR和FPR来进行图形的绘制，然后绘制之后，形成一个指标AUC\n",
    "          c、AUC：越接近1，效果越好\n",
    "                 越接近0，效果越差\n",
    "                 越接近0.5，效果就是胡说\n",
    "          c、注意：这个指标主要用于评价不平衡的二分类问题"
   ],
   "id": "d8d8491acbbc5ee3"
  }
 ],
 "metadata": {
  "kernelspec": {
   "display_name": "Python 3",
   "language": "python",
   "name": "python3"
  },
  "language_info": {
   "codemirror_mode": {
    "name": "ipython",
    "version": 2
   },
   "file_extension": ".py",
   "mimetype": "text/x-python",
   "name": "python",
   "nbconvert_exporter": "python",
   "pygments_lexer": "ipython2",
   "version": "2.7.6"
  }
 },
 "nbformat": 4,
 "nbformat_minor": 5
}
