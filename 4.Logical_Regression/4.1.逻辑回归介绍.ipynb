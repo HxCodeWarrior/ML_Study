{
 "cells": [
  {
   "metadata": {},
   "cell_type": "markdown",
   "source": "逻辑回归介绍",
   "id": "c6854eec95044542"
  },
  {
   "metadata": {},
   "cell_type": "markdown",
   "source": [
    "    逻辑回归（Logical Regression）是机器学习的分类模型，逻辑回归是一种分类塞凡，虽然\n",
    "    名字中含有回归，但是它与回归之间有一定的练习。由于算法的简单和高效，在实际中应用非常广泛。"
   ],
   "id": "9c388e0f7b627588"
  },
  {
   "metadata": {},
   "cell_type": "markdown",
   "source": "1.逻辑回归应用场景",
   "id": "4fd3a9ef62295d32"
  },
  {
   "metadata": {},
   "cell_type": "markdown",
   "source": [
    "    （1）广告点击率\n",
    "    （2）是否为垃圾邮件\n",
    "    （3）是否患病\n",
    "    （4）金融诈骗\n",
    "    （5）虚假账号\n",
    "    以上的例子，我们可以发现其中的特点，那就是都属于两个类别之间的判断，逻辑回归就是解决\n",
    "    二分类问题的利器。"
   ],
   "id": "1878bc2e8f62584a"
  },
  {
   "metadata": {},
   "cell_type": "markdown",
   "source": "2.逻辑回归的原理",
   "id": "7201b80d47265d17"
  },
  {
   "metadata": {},
   "cell_type": "markdown",
   "source": [
    "    要想掌握逻辑回归，必须掌握两点：\n",
    "        （1）逻辑回归中，其输入值是什么？\n",
    "        （2）如何判断逻辑回归的输出"
   ],
   "id": "82ff1067ea6561d6"
  },
  {
   "metadata": {},
   "cell_type": "markdown",
   "source": [
    "    2.1.逻辑回归的输入\n",
    "        逻辑回归的输入就是一个线性回归的结果\n",
    "![jupyter](../Sources/Pictures/Logical_Regression/逻辑回归输入.png)"
   ],
   "id": "a08e33f59d16225c"
  },
  {
   "metadata": {},
   "cell_type": "markdown",
   "source": [
    "    2.2.激活函数\n",
    "        （1）sigmoid函数\n",
    "![jupyter](../Sources/Pictures/Logical_Regression/sigmoid激活函数.png)"
   ],
   "id": "d4d0e159df92a3a6"
  },
  {
   "metadata": {},
   "cell_type": "markdown",
   "source": [
    "    2.2.激活函数\n",
    "        （2）判断标准\n",
    "            a、回归的结果输入到sigmiod函数当中\n",
    "            b、输出结果为：[0,1]区间中的一个概率值，默认0.5为阈值\n",
    "        逻辑回归最终的分类是通过属于某个类别的概率来判断是否属于某个类别，如果概率大\n",
    "        于阈值，标记为1；如果概率小于阈值，标记为0.这个类别默认标记为1（正例），另外\n",
    "        一个类别标记为0（反例）。方便损失计算\n",
    "![jupyter](../Sources/Pictures/Logical_Regression/逻辑回归评判标准图解.png)"
   ],
   "id": "74b387eec55a44e9"
  },
  {
   "metadata": {},
   "cell_type": "markdown",
   "source": [
    "        输出结果解释（重要）：假设有两个类别A、B，并且假设我们的概率值为属于A（1）这\n",
    "        个概率值，现在有一个样本的输入到逻辑回归输出结果为0.55，那么这个概率超过0.5\n",
    "        ，意味着我们训练或者预测的结果就是A（1）类别，那么反之，如果得出结果为0.3那\n",
    "        么，训练或者预测结果为B（0）类别。\n",
    "        关于逻辑回归的阈值可以进行改变，比如上面举例中，如果把阈值设置为0.6，那么输\n",
    "        出的结果为0.55，就属于B类。"
   ],
   "id": "fd0c867f98f6b254"
  },
  {
   "metadata": {},
   "cell_type": "markdown",
   "source": [
    "        在这之前，我们用最小二乘法衡量线性回归的损失。\n",
    "        在逻辑回归中，当预测结果不对的时候，我们该怎么衡量其损失呢？\n",
    "        看下图，这个阈值设置为0.6\n",
    "        那我们该如何去衡量逻辑回归的预测结果与真实值结果的差异呢？\n",
    "![jupyter](../Sources/Pictures/Logical_Regression/逻辑回归过程图解.png)"
   ],
   "id": "d7f500b9026c621d"
  },
  {
   "metadata": {},
   "cell_type": "markdown",
   "source": "3.损失以及优化",
   "id": "50206a7c8eb7ea17"
  },
  {
   "metadata": {},
   "cell_type": "markdown",
   "source": [
    "    3.1.损失\n",
    "    逻辑回归的损失，称之为对数似然损失，公式如下：\n",
    "    注意：其中y为真实值，hθ(x)为预测值\n",
    "![jupyter](../Sources/Pictures/Logical_Regression/对数似然损失公式.png)  "
   ],
   "id": "53302b370adb2670"
  },
  {
   "metadata": {},
   "cell_type": "markdown",
   "source": [
    "        那么该怎么理解单个式子呢？这个要根据log的函数图像来理解\n",
    "![jupyter](../Sources/Pictures/Logical_Regression/对数似然损失公式理解图解.png)"
   ],
   "id": "15f368a5a78ec8ca"
  },
  {
   "metadata": {},
   "cell_type": "markdown",
   "source": [
    "        无论何时，我们都希望损失函数值，越小越好\n",
    "        发呢类情况讨论，对应的损失函数值：\n",
    "            （1）当y=1时，我们希望hθ（x）值越大越好\n",
    "            （2）当y=0时，我们希望hθ（x）值越小越好"
   ],
   "id": "366da614d9bce0b2"
  },
  {
   "metadata": {},
   "cell_type": "markdown",
   "source": [
    "综合完整损失函数   \n",
    "![jupyter](../Sources/Pictures/Logical_Regression/完整损失函数.png)"
   ],
   "id": "4d26fe700c63b45e"
  },
  {
   "metadata": {},
   "cell_type": "markdown",
   "source": [
    "    接下来我们就带入上面的那个例子来计算一遍，就能理解意义了\n",
    "![jupyter](../Sources/Pictures/Logical_Regression/完整损失函数理解应用.png)"
   ],
   "id": "d0e461aacd200b09"
  },
  {
   "metadata": {},
   "cell_type": "markdown",
   "source": "    我们已经知道log(P)，P的值越大越好，结果越小越好，所以我们可以对着损失的式子去分析",
   "id": "76a3fd7579d40077"
  },
  {
   "metadata": {},
   "cell_type": "markdown",
   "source": "    3.2.优化",
   "id": "32c65bbce61d5d1f"
  },
  {
   "metadata": {},
   "cell_type": "markdown",
   "source": "    同时使用梯度下降优化算法，去减少损失函数的值，这样去更新逻辑回归前面对应算法的权重参数，提升原本属于1类别的概率，降低原本是0类别的概率",
   "id": "12df17994954c2e9"
  },
  {
   "metadata": {},
   "cell_type": "markdown",
   "source": "小结",
   "id": "3719d6b560d17427"
  },
  {
   "metadata": {},
   "cell_type": "markdown",
   "source": [
    "    1、逻辑回归的概念【知道】\n",
    "        （1）解决的是一个二分类的问题\n",
    "        （2）逻辑回归的输入是线性回归的输出\n",
    "    2、逻辑回归的原理【掌握】\n",
    "        （1）输入：线性回归的输出\n",
    "        （2）激活函数：\n",
    "                sigmoid函数\n",
    "                把整体的值映射到[0,1]区间\n",
    "                再设置一个阈值，进行分类判断\n",
    "    3、逻辑回归的损失和优化【掌握】\n",
    "        （1）损失\n",
    "                对数似然损失\n",
    "                借助了log思想，进行完成\n",
    "                真实值等于0，等于1两种情况进行划分\n",
    "        （2）优化\n",
    "                提升原本属于1类别的概率，减低原本是0类别的概率"
   ],
   "id": "a50f4abd48ac0abf"
  }
 ],
 "metadata": {
  "kernelspec": {
   "display_name": "Python 3",
   "language": "python",
   "name": "python3"
  },
  "language_info": {
   "codemirror_mode": {
    "name": "ipython",
    "version": 2
   },
   "file_extension": ".py",
   "mimetype": "text/x-python",
   "name": "python",
   "nbconvert_exporter": "python",
   "pygments_lexer": "ipython2",
   "version": "2.7.6"
  }
 },
 "nbformat": 4,
 "nbformat_minor": 5
}
