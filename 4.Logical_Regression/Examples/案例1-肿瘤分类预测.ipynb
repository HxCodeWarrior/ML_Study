{
 "cells": [
  {
   "metadata": {},
   "cell_type": "markdown",
   "source": "案例1：癌症分类预测-良/恶性乳腺癌肿瘤预测",
   "id": "b59c75f48164960a"
  },
  {
   "metadata": {},
   "cell_type": "markdown",
   "source": [
    "    1.背景介绍(数据介绍)\n",
    "        （1）699条样本，共11列数据\n",
    "        （2）第一列用于检索id\n",
    "        （3）后9列分别始于忠烈相关的医学特征\n",
    "        （4）最后一列表示肿瘤类型的数值\n",
    "        （5）包含16个缺失值，用“？”标出\n",
    "[数据下载地址]https://archive.ics.uci.edu/dataset/15/breast+cancer+wisconsin+original)"
   ],
   "id": "455c8e3247eaba14"
  },
  {
   "metadata": {},
   "cell_type": "markdown",
   "source": [
    "    数据集使用\n",
    "    （1）在命令行输入：pip install ucimlrepo\n",
    "    （2）获取肿瘤数据集：\n",
    "            from ucimlrepo import fetch_ucirepo \n",
    "            breast_cancer_wisconsin_original = fetch_ucirepo(id=15)\n",
    "    （3）注意：在使用该数据集的时候，要保证网络状况良好，否则会报错"
   ],
   "id": "3fc93e468cb5b204"
  },
  {
   "metadata": {},
   "cell_type": "markdown",
   "source": [
    "    2.案例分析\n",
    "        （1）获取数据\n",
    "        （2）数据基本处理\n",
    "        （2.1）缺失值处理--替换/删除\n",
    "        （2.2）确定特征值、目标值\n",
    "        （2.3）分割数据集\n",
    "        （3）特征工程（标准化）\n",
    "        （4）机器学习——逻辑回归\n",
    "        （5）模型评估"
   ],
   "id": "f085dc224dfdf41f"
  }
 ],
 "metadata": {
  "kernelspec": {
   "display_name": "Python 3",
   "language": "python",
   "name": "python3"
  },
  "language_info": {
   "codemirror_mode": {
    "name": "ipython",
    "version": 2
   },
   "file_extension": ".py",
   "mimetype": "text/x-python",
   "name": "python",
   "nbconvert_exporter": "python",
   "pygments_lexer": "ipython2",
   "version": "2.7.6"
  }
 },
 "nbformat": 4,
 "nbformat_minor": 5
}
