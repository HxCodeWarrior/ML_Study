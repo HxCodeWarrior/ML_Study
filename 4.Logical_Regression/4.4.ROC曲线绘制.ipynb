{
 "cells": [
  {
   "metadata": {},
   "cell_type": "markdown",
   "source": "ROC曲线绘制",
   "id": "74c069cbc76a1ca2"
  },
  {
   "metadata": {},
   "cell_type": "markdown",
   "source": [
    "    关于ROC曲线的绘制过程，通过以下举例进行说明\n",
    "    假设有6次展示记录，有两次被点击了，得到一个展示序列（1:1,2:2,3:1,4:0,5:0,6:0）\n",
    "    前面的表示序号，后面的表示点击（1）或者没有点击（0）\n",
    "    然后在这6次展示的时候都通过model算出来点击的概率序列。\n",
    "    下面有三种情况。"
   ],
   "id": "ca6c84b9dd8f0859"
  },
  {
   "metadata": {},
   "cell_type": "markdown",
   "source": "1.曲线绘制",
   "id": "9a00f16708c6b87f"
  },
  {
   "metadata": {},
   "cell_type": "markdown",
   "source": [
    "    1.1.如果概率序列为(1:0.9,2:0,3:0,4:0,5:0.5,6:0.4)\n",
    "    与原来的序列一起，得到序列（从概率搞得到概率低的排序）\n",
    "![jupyter](../Sources/Pictures/Logical_Regression/概率排序-1.png)"
   ],
   "id": "831e1d3c1357ccc6"
  },
  {
   "metadata": {},
   "cell_type": "markdown",
   "source": [
    "    绘制的步骤：\n",
    "        （1）把概率序列从高到低排序，得到顺序（1:0.9,2:0.8,3:0.7,4:0.6,5:0.5,6:0.4）；\n",
    "        （2）从概率最大开始取一个点作为正类，取到点1，计算得到TPR=0.5，FPR=0.0；\n",
    "        （3）从概率最大开始，再取一个点作为正类，取到点2，计算得到TPR=0.5，FPR=0.25；\n",
    "        （4）再从最大开始取一个点作为正类，取到点3，计算得到TPR=1.0，FPR=0.25;\n",
    "        （5）以此类推，得到6对TPR和FPR。\n",
    "        （6）然后把这6对数据组成6个点(0,0.5),(0.25,0.5),(0.25,1),(0.5,1),\n",
    "            (0.75,1),(1.0,1.0)。这6个点在二维坐标系中能绘出来\n",
    "![jupyter](../Sources/Pictures/Logical_Regression/ROC曲线绘制-1.png)"
   ],
   "id": "8c749606c5431462"
  },
  {
   "metadata": {},
   "cell_type": "markdown",
   "source": [
    "    1.2.如果概率的序列是（1:0.9,2:0.8,3:0.7,4:0.6,5:0.5,6:0.4）\n",
    "        与原来的序列一起，得到序列（从概率从高到低排）\n",
    "![jupyter](../Sources/Pictures/Logical_Regression/概率排序-2.png)"
   ],
   "id": "ff80468734eac59e"
  },
  {
   "metadata": {},
   "cell_type": "markdown",
   "source": [
    "    绘制的步骤：\n",
    "        （1）把概率序列从高到低排序，得到顺序（1:0.9,2:0.8,3:0.7,4:0.6,5:0.5,6:0.4）；\n",
    "        （2）从概率最大开始取一个点作为正类，取到点1，计算得到TPR=0.5，FPR=0.0；\n",
    "        （3）从概率最大开始，再取一个点作为正类，取到点2，计算得到TPR=0.5，FPR=0.25；\n",
    "        （4）再从最大开始取一个点作为正类，取到点3，计算得到TPR=1.0，FPR=0.25;\n",
    "        （5）以此类推，得到6对TPR和FPR。\n",
    "        （6）然后把这6对数据组成6个点(0,0.5),(0.25,0.5),(0.25,1),(0.5,1),\n",
    "        (0.75,1),(1.0,1.0)，这6个点在二维坐标系中能绘出来。\n",
    "![jupyter](../Sources/Pictures/Logical_Regression/ROC曲线绘制-2.png)"
   ],
   "id": "3f7dfef062243df4"
  },
  {
   "metadata": {},
   "cell_type": "markdown",
   "source": [
    "    1.3 如果概率的序列是（1:0.4,2:0.6,3:0.5,4:0.7,5:0.8,6:0.9）\n",
    "        与原来的序列一起，得到序列（从概率从高到低排）\n",
    "![jupyter](../Sources/Pictures/Logical_Regression/概率排序-3.png)"
   ],
   "id": "829f529a719d8742"
  },
  {
   "metadata": {},
   "cell_type": "markdown",
   "source": [
    "    绘制的步骤：\n",
    "        （1）把概率序列从高到低排序，得到顺序（6:0.9,5:0.8,4:0.7,2:0.6,3:0.5,1:0.4）；\n",
    "        （2）从概率最大开始取一个点作为正类，取到点6，计算得到TPR=0.0，FPR=0.25；\n",
    "        （3）从概率最大开始，再取一个点作为正类，取到点5，计算得到TPR=0.0，FPR=0.5；\n",
    "        （4）再从最大开始取一个点作为正类，取到点4，计算得到TPR=0.0，FPR=0.75;\n",
    "        （5）以此类推，得到6对TPR和FPR。\n",
    "        （6）然后把这6对数据组成6个点(0.25,0.0),(0.5,0.0),(0.75,0.0),(1.0,0.0),(1.0,0.5),(1.0,1.0)，这6个点在二维坐标系中能绘出来。\n",
    "![jupyter](../Sources/Pictures/Logical_Regression/ROC曲线绘制-3.png)"
   ],
   "id": "213a33335976872f"
  },
  {
   "metadata": {},
   "cell_type": "markdown",
   "source": "2.意义解释",
   "id": "191188f310c1293"
  },
  {
   "metadata": {},
   "cell_type": "markdown",
   "source": [
    "    如上图的例子，总共6个点，2个正样本，4个负样本，取一个正样本和一个负样本的情况总共有8种。\n",
    "\n",
    "    上面的第一种情况，从上往下取，无论怎么取，正样本的概率总在负样本之上，所以分对的概\n",
    "    率为1，AUC=1。再看那个ROC曲线，它的积分是什么？也是1，ROC曲线的积分与AUC相等。\n",
    "\n",
    "    上面第二种情况，如果取到了样本2和3，那就分错了，其他情况都分对了；所以分对的概率是\n",
    "    0.875，AUC=0.875。再看那个ROC曲线，它的积分也是0.875，ROC曲线的积分与AUC相等。\n",
    "\n",
    "    上面的第三种情况，无论怎么取，都是分错的，所以分对的概率是0，AUC=0.0。再看ROC曲\n",
    "    线，它的积分也是0.0，ROC曲线的积分与AUC相等。\n",
    "\n",
    "    其实AUC的意思是——Area Under roc Curve，就是ROC曲线的积分，也是ROC曲线下面的面积。\n",
    "\n",
    "    绘制ROC曲线的意义很明显，不断地把可能分错的情况扣除掉，从概率最高往下取的点，每有\n",
    "    一个是负样本，就会导致分错排在它下面的所有正样本，所以要把它下面的正样本数扣除掉（\n",
    "    1-TPR，剩下的正样本的比例）。总的ROC曲线绘制出来了，AUC就定了，分对的概率也能求\n",
    "    出来了。"
   ],
   "id": "20fb75f69a643423"
  },
  {
   "metadata": {},
   "cell_type": "markdown",
   "source": "3.小结",
   "id": "539fed11217e9441"
  },
  {
   "metadata": {},
   "cell_type": "markdown",
   "source": [
    "    ROC曲线的绘制【知道】\n",
    "    1.构建模型，把模型的概率值从大到小进行排序\n",
    "    2.从概率最大的点开始取值，一直进行tpr和fpr的计算，然后构建整体模型，得到结果\n",
    "    3.其实就是在求解积分（面积）"
   ],
   "id": "d1d009c32e8623ee"
  }
 ],
 "metadata": {
  "kernelspec": {
   "display_name": "Python 3",
   "language": "python",
   "name": "python3"
  },
  "language_info": {
   "codemirror_mode": {
    "name": "ipython",
    "version": 2
   },
   "file_extension": ".py",
   "mimetype": "text/x-python",
   "name": "python",
   "nbconvert_exporter": "python",
   "pygments_lexer": "ipython2",
   "version": "2.7.6"
  }
 },
 "nbformat": 4,
 "nbformat_minor": 5
}
