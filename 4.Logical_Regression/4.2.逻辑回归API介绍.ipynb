{
 "cells": [
  {
   "metadata": {},
   "cell_type": "markdown",
   "source": "逻辑回归API介绍",
   "id": "b938525de5936615"
  },
  {
   "metadata": {},
   "cell_type": "markdown",
   "source": "sklearn.linear_model.LogisticRegression(solver=\"liblinear\",penalty=\"12\",C=1.0)",
   "id": "770a9dd056d45fea"
  },
  {
   "metadata": {},
   "cell_type": "markdown",
   "source": "参数介绍",
   "id": "a3f66c2a2588c4c1"
  },
  {
   "metadata": {},
   "cell_type": "markdown",
   "source": [
    "    1.solver可选参数[\"liblinear\",\"sag\",\"saga\",\"newton-cg\",\"lbfgs\"]\n",
    "        默认：“liblinear”--用于优化问题的算法\n",
    "        对于小数据集：“liblinear”是个不错的选择\n",
    "        对于大数据集：“sag”“sags”会更快\n",
    "        对于多数问题：只有“newton-cg”，“sag”，“sags”和“lbfgs”可以处理多项损失\n",
    "                    “liblinear”仅限于“one-versus-rest”分类\n",
    "    2.penalty：正则化种类\n",
    "    3.C：正则化力度\n",
    "    默认将类别数量少的当作正例"
   ],
   "id": "9223567ba96e7683"
  },
  {
   "metadata": {},
   "cell_type": "markdown",
   "source": [
    "LogisticRegression方法相当于SGDClassifier（loss=“log”，penalty=“”），SGDClassifier实现了一个普通的随机梯度下降学习，\n",
    "而是用LogisticRegression（实现了SAG）"
   ],
   "id": "ceb6dcce822b1369"
  }
 ],
 "metadata": {
  "kernelspec": {
   "display_name": "Python 3",
   "language": "python",
   "name": "python3"
  },
  "language_info": {
   "codemirror_mode": {
    "name": "ipython",
    "version": 2
   },
   "file_extension": ".py",
   "mimetype": "text/x-python",
   "name": "python",
   "nbconvert_exporter": "python",
   "pygments_lexer": "ipython2",
   "version": "2.7.6"
  }
 },
 "nbformat": 4,
 "nbformat_minor": 5
}
