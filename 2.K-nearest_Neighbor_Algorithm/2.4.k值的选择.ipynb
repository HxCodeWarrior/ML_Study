{
 "cells": [
  {
   "metadata": {},
   "cell_type": "markdown",
   "source": "k值的选择",
   "id": "79e875a495e59919"
  },
  {
   "metadata": {},
   "cell_type": "markdown",
   "source": [
    "    1.k值选择说明\n",
    "        举例说明：\n",
    "    序号    电影名称    搞笑镜头   拥抱镜头     打斗镜头     电影类型  距离 k=5时\n",
    "    1      功夫熊猫       39       0           31        喜剧片 21.47   √\n",
    "    2       叶问3        3        2           65        动作片 52.01 \n",
    "    3      二次曝光       2        3           55        爱情片 43.42\n",
    "    4      代理情人       9        38          2         爱情片 40.57   √\n",
    "    5     新步步惊心      8        34          17        爱情片 34.44   √\n",
    "    6      谍影重重       5        2           57        动作   43.87 \n",
    "    7       美人鱼       21       17           5         喜剧片 18.55   √\n",
    "    8      宝贝当家       45       2           9         喜剧片 21.56   √\n",
    "    9      唐人街探案     25        3          17          ？\n",
    "    \n",
    "        （1）k值过小，容易受到异常点的影响。k值的减小意味着整体模型变得复杂，容易发生过拟合。\n",
    "        （2）k值过大，容易受到样本均衡的问题。这时候，与输入实例较远（不相似）训练实例\n",
    "        也会对预测器作用，使预测发生错误，而且k值的增大意味着整体的模型变得简单。\n",
    "        "
   ],
   "id": "bc122f4a1608ae84"
  },
  {
   "metadata": {},
   "cell_type": "markdown",
   "source": [
    "    2.取值方法思路\n",
    "        在实际应用中，K值一般取一个比较小的数值，例如采用交叉验证法\n",
    "        交叉验证法（简单来说，就是把训练数据在分成两组-训练集和验证集）来选择最优的值"
   ],
   "id": "6f9bce4bf5612585"
  },
  {
   "metadata": {},
   "cell_type": "markdown",
   "source": [
    "    3.误差\n",
    "        （1）近似误差\n",
    "            a、对现有训练集的训练误差，关注训练集\n",
    "            b、如果近似误差过小可能会出现过拟合的现象，对现有的训练集能有很好的预测，\n",
    "               但对未知的测试样本将会出现较大的预测\n",
    "            c、模型本身不会最接近最佳模型\n",
    "        （2）估计误差\n",
    "            a、可理解为对测试集的测试误差，关注测试集\n",
    "            b、估计误差小说明对未知数据的预测能力好\n",
    "            c、模型本身最接近最佳模型"
   ],
   "id": "29f04df7349bbcc1"
  }
 ],
 "metadata": {
  "kernelspec": {
   "display_name": "Python 3",
   "language": "python",
   "name": "python3"
  },
  "language_info": {
   "codemirror_mode": {
    "name": "ipython",
    "version": 2
   },
   "file_extension": ".py",
   "mimetype": "text/x-python",
   "name": "python",
   "nbconvert_exporter": "python",
   "pygments_lexer": "ipython2",
   "version": "2.7.6"
  }
 },
 "nbformat": 4,
 "nbformat_minor": 5
}
