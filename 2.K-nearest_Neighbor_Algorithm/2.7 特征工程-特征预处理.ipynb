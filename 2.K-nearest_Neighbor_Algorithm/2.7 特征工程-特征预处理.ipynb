{
 "cells": [
  {
   "metadata": {},
   "cell_type": "markdown",
   "source": "特征工程-特征预处理",
   "id": "6007119188ba15be"
  },
  {
   "metadata": {},
   "cell_type": "markdown",
   "source": "    1 什么是特征预处理",
   "id": "48576634cd76dda1"
  },
  {
   "metadata": {},
   "cell_type": "markdown",
   "source": [
    "    1.1 特征预处理定义：通过一些缓缓函数将特征数据转换成更加适合算法模型的特征数据的过程\n",
    "![jupyter](../Sources/Pictures/k-近邻算法/特征预处理-归一化.png)"
   ],
   "id": "27fa33d29f19aaef"
  },
  {
   "metadata": {},
   "cell_type": "markdown",
   "source": [
    "        （1）归一化/标准化原因\n",
    "            特征的单位或者大小相差较大，或者某特征的方差相比其他的特征要大出几个数量\n",
    "            级，容易影响（支配）目标结果，使得一些算法无法学习到其他的特征。\n",
    "        （2）归一化方法：无量纲化，是不同规格的数据转换到统一规格"
   ],
   "id": "aa970d94e5d3bde4"
  },
  {
   "metadata": {},
   "cell_type": "markdown",
   "source": [
    "    1.2 包含内容（数值数据的无量纲化）\n",
    "        （1）归一化\n",
    "        （2）标准化\n",
    "    1.3 特征预处理API\n",
    "        sklearn.preprocessing"
   ],
   "id": "3b1411ea09e823d9"
  },
  {
   "metadata": {},
   "cell_type": "markdown",
   "source": "    2. 归一化",
   "id": "931009c010529739"
  },
  {
   "metadata": {},
   "cell_type": "markdown",
   "source": "        2.1 定义：铜鼓对原始数据进行变换把数据映射到（默认为[0,1]）之间",
   "id": "9b6abac970543170"
  },
  {
   "metadata": {},
   "cell_type": "markdown",
   "source": [
    "    2.2 公式\n",
    "            X' = (x-min)/(max-min)\n",
    "            X'' = X' * (mx - mi) + mi\n",
    "        解释：公式作用域每一列特征值\n",
    "             max：一列的最大值\n",
    "             min：一列的最小值\n",
    "             X''：最终结果\n",
    "             mx、mi：分别为指定区间的默认值，mx为1，mi为0\n",
    "![jupyter](../Sources/Pictures/k-近邻算法/归一化公式-解释.png)"
   ],
   "id": "9f77ed68273c9fcc"
  },
  {
   "metadata": {},
   "cell_type": "markdown",
   "source": [
    "        2.3 API\n",
    "        sklearn.preprocessing.MinMaxScaier(feature_range=(0,1)……)\n",
    "            MinMaxScalar.fit_transform(X)\n",
    "                X:numpy.array格式数据[n_samples, n_features]\n",
    "            返回值：准换后的形状相同的array"
   ],
   "id": "ef903d3661b1b083"
  },
  {
   "metadata": {},
   "cell_type": "markdown",
   "source": [
    "        2.4 数据计算\n",
    "            流程：（1）实例化MinMaxScalar\n",
    "                 （2）通过fit-transform转换"
   ],
   "id": "a92c5a97bfc9647b"
  },
  {
   "metadata": {},
   "cell_type": "markdown",
   "source": [
    "        2.5 归一化总结\n",
    "            注意最大最小值是变化的，另外，最大值与最小值非常容易受到异常点的影响（鲁\n",
    "            棒性，说人话就是确定性），所以这种方法选择性较差，传统只适合精确小数据场\n",
    "            景。\n",
    "![jupyter](../Sources/Pictures/k-近邻算法/归一化图.png)"
   ],
   "id": "b632991f61de278a"
  },
  {
   "metadata": {
    "ExecuteTime": {
     "end_time": "2024-07-06T01:31:16.699435Z",
     "start_time": "2024-07-06T01:31:16.696335Z"
    }
   },
   "cell_type": "code",
   "source": [
    "import pandas as pd\n",
    "import numpy as np\n",
    "from sklearn.preprocessing import MinMaxScaler\n",
    "\n",
    "def minmax_demo(in_data):\n",
    "    \"\"\"\n",
    "    归一化演示\n",
    "    :return: \n",
    "    \"\"\"\n",
    "    print(in_data)\n",
    "    \n",
    "    # 1.实例化一个转换器类型\n",
    "    transform = MinMaxScaler(feature_range=(0,1))\n",
    "    # 2.调用fit_transform\n",
    "    data = transform.fit_transform(in_data[[\"milage\",\"Liters\",\"Consumption\"]])\n",
    "    # 3.数据输出\n",
    "    return data"
   ],
   "id": "64ab3982ce462155",
   "outputs": [],
   "execution_count": 10
  },
  {
   "metadata": {
    "ExecuteTime": {
     "end_time": "2024-07-06T01:31:17.701601Z",
     "start_time": "2024-07-06T01:31:17.687582Z"
    }
   },
   "cell_type": "code",
   "source": [
    "# 数据准备\n",
    "test_data = pd.DataFrame({\n",
    "    \"milage\":[np.random.randint(1000,100000) for i in range(1000)],\n",
    "    \"Liters\":[np.random.uniform(5.00000,20.00000) for j in range(1000)],\n",
    "    \"Consumption\":[np.random.uniform(0.00000,10.00000) for k in range(1000)],\n",
    "    \"target\":[np.random.randint(1,3) for l in range(1000)]\n",
    "})\n",
    "\n",
    "test_data"
   ],
   "id": "47f8c28df426e4af",
   "outputs": [
    {
     "data": {
      "text/plain": [
       "     milage     Liters  Consumption  target\n",
       "0     15954  12.832335     9.633145       2\n",
       "1      5026  15.011248     6.132834       2\n",
       "2     47369  17.672280     3.992464       2\n",
       "3     40534   5.513159     8.597601       2\n",
       "4     15924  15.385771     4.293040       1\n",
       "..      ...        ...          ...     ...\n",
       "995   99226  13.172669     2.440185       2\n",
       "996    7727   6.442512     3.082203       1\n",
       "997   97754  19.122873     1.198194       1\n",
       "998   83862   6.667132     1.413561       1\n",
       "999   81242  16.606117     5.121020       2\n",
       "\n",
       "[1000 rows x 4 columns]"
      ],
      "text/html": [
       "<div>\n",
       "<style scoped>\n",
       "    .dataframe tbody tr th:only-of-type {\n",
       "        vertical-align: middle;\n",
       "    }\n",
       "\n",
       "    .dataframe tbody tr th {\n",
       "        vertical-align: top;\n",
       "    }\n",
       "\n",
       "    .dataframe thead th {\n",
       "        text-align: right;\n",
       "    }\n",
       "</style>\n",
       "<table border=\"1\" class=\"dataframe\">\n",
       "  <thead>\n",
       "    <tr style=\"text-align: right;\">\n",
       "      <th></th>\n",
       "      <th>milage</th>\n",
       "      <th>Liters</th>\n",
       "      <th>Consumption</th>\n",
       "      <th>target</th>\n",
       "    </tr>\n",
       "  </thead>\n",
       "  <tbody>\n",
       "    <tr>\n",
       "      <th>0</th>\n",
       "      <td>15954</td>\n",
       "      <td>12.832335</td>\n",
       "      <td>9.633145</td>\n",
       "      <td>2</td>\n",
       "    </tr>\n",
       "    <tr>\n",
       "      <th>1</th>\n",
       "      <td>5026</td>\n",
       "      <td>15.011248</td>\n",
       "      <td>6.132834</td>\n",
       "      <td>2</td>\n",
       "    </tr>\n",
       "    <tr>\n",
       "      <th>2</th>\n",
       "      <td>47369</td>\n",
       "      <td>17.672280</td>\n",
       "      <td>3.992464</td>\n",
       "      <td>2</td>\n",
       "    </tr>\n",
       "    <tr>\n",
       "      <th>3</th>\n",
       "      <td>40534</td>\n",
       "      <td>5.513159</td>\n",
       "      <td>8.597601</td>\n",
       "      <td>2</td>\n",
       "    </tr>\n",
       "    <tr>\n",
       "      <th>4</th>\n",
       "      <td>15924</td>\n",
       "      <td>15.385771</td>\n",
       "      <td>4.293040</td>\n",
       "      <td>1</td>\n",
       "    </tr>\n",
       "    <tr>\n",
       "      <th>...</th>\n",
       "      <td>...</td>\n",
       "      <td>...</td>\n",
       "      <td>...</td>\n",
       "      <td>...</td>\n",
       "    </tr>\n",
       "    <tr>\n",
       "      <th>995</th>\n",
       "      <td>99226</td>\n",
       "      <td>13.172669</td>\n",
       "      <td>2.440185</td>\n",
       "      <td>2</td>\n",
       "    </tr>\n",
       "    <tr>\n",
       "      <th>996</th>\n",
       "      <td>7727</td>\n",
       "      <td>6.442512</td>\n",
       "      <td>3.082203</td>\n",
       "      <td>1</td>\n",
       "    </tr>\n",
       "    <tr>\n",
       "      <th>997</th>\n",
       "      <td>97754</td>\n",
       "      <td>19.122873</td>\n",
       "      <td>1.198194</td>\n",
       "      <td>1</td>\n",
       "    </tr>\n",
       "    <tr>\n",
       "      <th>998</th>\n",
       "      <td>83862</td>\n",
       "      <td>6.667132</td>\n",
       "      <td>1.413561</td>\n",
       "      <td>1</td>\n",
       "    </tr>\n",
       "    <tr>\n",
       "      <th>999</th>\n",
       "      <td>81242</td>\n",
       "      <td>16.606117</td>\n",
       "      <td>5.121020</td>\n",
       "      <td>2</td>\n",
       "    </tr>\n",
       "  </tbody>\n",
       "</table>\n",
       "<p>1000 rows × 4 columns</p>\n",
       "</div>"
      ]
     },
     "execution_count": 11,
     "metadata": {},
     "output_type": "execute_result"
    }
   ],
   "execution_count": 11
  },
  {
   "metadata": {},
   "cell_type": "code",
   "outputs": [],
   "execution_count": null,
   "source": [
    "# 数据归一化处理\n",
    "print(\"数据最大值最小值归一化结果：\\n{}\".format(minmax_demo(test_data)))"
   ],
   "id": "5d84b4eff93f6029"
  },
  {
   "metadata": {},
   "cell_type": "markdown",
   "source": "3.标准化",
   "id": "733b377205417f2"
  },
  {
   "metadata": {},
   "cell_type": "markdown",
   "source": "    3.1 定义：通过对原始数据进行变换，把数据变换到均值为0，标准差为1范围内",
   "id": "c8bd03d55f8f589c"
  },
  {
   "metadata": {},
   "cell_type": "markdown",
   "source": [
    "    3.2 公式：\n",
    "            X' = (x - mean) / σ\n",
    "        解释：公式作用域每一列，\n",
    "             mean：平均值\n",
    "             σ：标准差"
   ],
   "id": "7ad378ae5880874a"
  },
  {
   "metadata": {},
   "cell_type": "markdown",
   "source": "![jupyter](../Sources/Pictures/k-近邻算法/标准化图.png)",
   "id": "38687e79f712b595"
  },
  {
   "metadata": {},
   "cell_type": "markdown",
   "source": [
    "        对于归一化：如果出现异常点，影响了最大值和最小值，那么结果显示会发生改变\n",
    "        对于标准化：如果出现异常点，由于具有一定数据量，少量的异常点对于平均值的影响\n",
    "                 并不大，从而方差改变较小"
   ],
   "id": "2b718e6f89a685f7"
  },
  {
   "metadata": {},
   "cell_type": "markdown",
   "source": [
    "    3.3 标准化API\n",
    "        sklearn.preprocessing.StandardScaler()\n",
    "            （1）功能：处理之后每列来说所有数据都聚焦在均值0附近，标准差为1\n",
    "            （2）StandardScaler.fit_transdorm(X)\n",
    "                X:numpy.array格式的数据[n_samples, n_features]\n",
    "            （3）返回值：转换后的形状相同的array"
   ],
   "id": "5dec5235cbb1d383"
  },
  {
   "metadata": {},
   "cell_type": "markdown",
   "source": [
    "    3.4 数据计算流程\n",
    "        （1）实例化StandardScaler\n",
    "        （2）通过fit_transform转换"
   ],
   "id": "1445c96c703249ba"
  },
  {
   "metadata": {
    "ExecuteTime": {
     "end_time": "2024-07-06T01:56:26.173845Z",
     "start_time": "2024-07-06T01:56:26.170599Z"
    }
   },
   "cell_type": "code",
   "source": [
    "import numpy as np\n",
    "import pandas as pd\n",
    "from sklearn.preprocessing import StandardScaler\n",
    "\n",
    "def stand_demo(in_data):\n",
    "    \"\"\"\n",
    "    标准化演示\n",
    "    :param in_data: DataFrame\n",
    "    :return: data:标准化结果\n",
    "             transfer.mean_:每一列的平均值\n",
    "             transfer.ver_:每一列特征的方差\n",
    "    \"\"\"\n",
    "    # 1.实例化一个转换器类\n",
    "    transfer = StandardScaler()\n",
    "    # 2. 调用fit_transform\n",
    "    data = transfer.fit_transform(in_data[[\"milage\",\"Liters\",\"Consumption\"]])\n",
    "    # 3.返回结果\n",
    "    return data, transfer.mean_, transfer.var_"
   ],
   "id": "8600043dcb91af95",
   "outputs": [],
   "execution_count": 14
  },
  {
   "metadata": {
    "ExecuteTime": {
     "end_time": "2024-07-06T01:56:27.394630Z",
     "start_time": "2024-07-06T01:56:27.380853Z"
    }
   },
   "cell_type": "code",
   "source": [
    "# 数据准备\n",
    "test_data = pd.DataFrame({\n",
    "    \"milage\":[np.random.randint(1000,100000) for si in range(1000)],\n",
    "    \"Liters\":[np.random.uniform(5.00000,20.00000) for sj in range(1000)],\n",
    "    \"Consumption\":[np.random.uniform(0.00000,10.00000) for sk in range(1000)],\n",
    "    \"target\":[np.random.randint(1,3) for sl in range(1000)]\n",
    "})\n",
    "\n",
    "test_data"
   ],
   "id": "bfe581b6cb456279",
   "outputs": [
    {
     "data": {
      "text/plain": [
       "     milage     Liters  Consumption  target\n",
       "0     94616  15.947958     2.210823       1\n",
       "1     46572  14.746397     8.314498       2\n",
       "2     84644   9.809696     6.252575       2\n",
       "3     54279  17.111537     9.713287       2\n",
       "4     73487  11.150529     8.134254       2\n",
       "..      ...        ...          ...     ...\n",
       "995   92964  15.590437     4.798144       1\n",
       "996   66911   5.165299     6.893869       1\n",
       "997   61103  10.181520     6.169872       1\n",
       "998   20156  14.667379     1.430757       1\n",
       "999   64626   7.517587     0.141996       1\n",
       "\n",
       "[1000 rows x 4 columns]"
      ],
      "text/html": [
       "<div>\n",
       "<style scoped>\n",
       "    .dataframe tbody tr th:only-of-type {\n",
       "        vertical-align: middle;\n",
       "    }\n",
       "\n",
       "    .dataframe tbody tr th {\n",
       "        vertical-align: top;\n",
       "    }\n",
       "\n",
       "    .dataframe thead th {\n",
       "        text-align: right;\n",
       "    }\n",
       "</style>\n",
       "<table border=\"1\" class=\"dataframe\">\n",
       "  <thead>\n",
       "    <tr style=\"text-align: right;\">\n",
       "      <th></th>\n",
       "      <th>milage</th>\n",
       "      <th>Liters</th>\n",
       "      <th>Consumption</th>\n",
       "      <th>target</th>\n",
       "    </tr>\n",
       "  </thead>\n",
       "  <tbody>\n",
       "    <tr>\n",
       "      <th>0</th>\n",
       "      <td>94616</td>\n",
       "      <td>15.947958</td>\n",
       "      <td>2.210823</td>\n",
       "      <td>1</td>\n",
       "    </tr>\n",
       "    <tr>\n",
       "      <th>1</th>\n",
       "      <td>46572</td>\n",
       "      <td>14.746397</td>\n",
       "      <td>8.314498</td>\n",
       "      <td>2</td>\n",
       "    </tr>\n",
       "    <tr>\n",
       "      <th>2</th>\n",
       "      <td>84644</td>\n",
       "      <td>9.809696</td>\n",
       "      <td>6.252575</td>\n",
       "      <td>2</td>\n",
       "    </tr>\n",
       "    <tr>\n",
       "      <th>3</th>\n",
       "      <td>54279</td>\n",
       "      <td>17.111537</td>\n",
       "      <td>9.713287</td>\n",
       "      <td>2</td>\n",
       "    </tr>\n",
       "    <tr>\n",
       "      <th>4</th>\n",
       "      <td>73487</td>\n",
       "      <td>11.150529</td>\n",
       "      <td>8.134254</td>\n",
       "      <td>2</td>\n",
       "    </tr>\n",
       "    <tr>\n",
       "      <th>...</th>\n",
       "      <td>...</td>\n",
       "      <td>...</td>\n",
       "      <td>...</td>\n",
       "      <td>...</td>\n",
       "    </tr>\n",
       "    <tr>\n",
       "      <th>995</th>\n",
       "      <td>92964</td>\n",
       "      <td>15.590437</td>\n",
       "      <td>4.798144</td>\n",
       "      <td>1</td>\n",
       "    </tr>\n",
       "    <tr>\n",
       "      <th>996</th>\n",
       "      <td>66911</td>\n",
       "      <td>5.165299</td>\n",
       "      <td>6.893869</td>\n",
       "      <td>1</td>\n",
       "    </tr>\n",
       "    <tr>\n",
       "      <th>997</th>\n",
       "      <td>61103</td>\n",
       "      <td>10.181520</td>\n",
       "      <td>6.169872</td>\n",
       "      <td>1</td>\n",
       "    </tr>\n",
       "    <tr>\n",
       "      <th>998</th>\n",
       "      <td>20156</td>\n",
       "      <td>14.667379</td>\n",
       "      <td>1.430757</td>\n",
       "      <td>1</td>\n",
       "    </tr>\n",
       "    <tr>\n",
       "      <th>999</th>\n",
       "      <td>64626</td>\n",
       "      <td>7.517587</td>\n",
       "      <td>0.141996</td>\n",
       "      <td>1</td>\n",
       "    </tr>\n",
       "  </tbody>\n",
       "</table>\n",
       "<p>1000 rows × 4 columns</p>\n",
       "</div>"
      ]
     },
     "execution_count": 15,
     "metadata": {},
     "output_type": "execute_result"
    }
   ],
   "execution_count": 15
  },
  {
   "metadata": {
    "ExecuteTime": {
     "end_time": "2024-07-06T01:56:29.010927Z",
     "start_time": "2024-07-06T01:56:29.006364Z"
    }
   },
   "cell_type": "code",
   "source": [
    "stand_result =stand_demo(test_data)\n",
    "# 标准化结果\n",
    "result = stand_result[0]\n",
    "# 每一列特征的平均值\n",
    "result_mean = stand_result[1]\n",
    "# 每一列特征的方差\n",
    "result_var = stand_result[2]"
   ],
   "id": "7028cf56e4d1c479",
   "outputs": [],
   "execution_count": 16
  },
  {
   "metadata": {
    "ExecuteTime": {
     "end_time": "2024-07-06T01:56:30.322781Z",
     "start_time": "2024-07-06T01:56:30.318537Z"
    }
   },
   "cell_type": "code",
   "source": "result",
   "id": "719d07c36b95c373",
   "outputs": [
    {
     "data": {
      "text/plain": [
       "array([[ 1.5279653 ,  0.77926771, -1.00557172],\n",
       "       [-0.14909642,  0.49365448,  1.11904037],\n",
       "       [ 1.17987481, -0.6798078 ,  0.40131108],\n",
       "       ...,\n",
       "       [ 0.35813412, -0.59142462,  0.37252314],\n",
       "       [-1.07119413,  0.47487186, -1.27710275],\n",
       "       [ 0.48111073, -1.22464621, -1.72570399]])"
      ]
     },
     "execution_count": 17,
     "metadata": {},
     "output_type": "execute_result"
    }
   ],
   "execution_count": 17
  },
  {
   "metadata": {
    "ExecuteTime": {
     "end_time": "2024-07-06T01:56:31.656898Z",
     "start_time": "2024-07-06T01:56:31.653387Z"
    }
   },
   "cell_type": "code",
   "source": "result_mean",
   "id": "666a4f7cf74e43e4",
   "outputs": [
    {
     "data": {
      "text/plain": [
       "array([5.08432730e+04, 1.26696155e+01, 5.09967162e+00])"
      ]
     },
     "execution_count": 18,
     "metadata": {},
     "output_type": "execute_result"
    }
   ],
   "execution_count": 18
  },
  {
   "metadata": {
    "ExecuteTime": {
     "end_time": "2024-07-06T01:56:32.832905Z",
     "start_time": "2024-07-06T01:56:32.829686Z"
    }
   },
   "cell_type": "code",
   "source": "result_var",
   "id": "60c674c6ebbd0e6a",
   "outputs": [
    {
     "data": {
      "text/plain": [
       "array([8.20692044e+08, 1.76984519e+01, 8.25322190e+00])"
      ]
     },
     "execution_count": 19,
     "metadata": {},
     "output_type": "execute_result"
    }
   ],
   "execution_count": 19
  },
  {
   "metadata": {},
   "cell_type": "code",
   "outputs": [],
   "execution_count": null,
   "source": "",
   "id": "22425616b5bbf53e"
  }
 ],
 "metadata": {
  "kernelspec": {
   "display_name": "Python 3",
   "language": "python",
   "name": "python3"
  },
  "language_info": {
   "codemirror_mode": {
    "name": "ipython",
    "version": 2
   },
   "file_extension": ".py",
   "mimetype": "text/x-python",
   "name": "python",
   "nbconvert_exporter": "python",
   "pygments_lexer": "ipython2",
   "version": "2.7.6"
  }
 },
 "nbformat": 4,
 "nbformat_minor": 5
}
