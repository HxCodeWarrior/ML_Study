{
 "cells": [
  {
   "metadata": {},
   "cell_type": "markdown",
   "source": "距离度量",
   "id": "565eb66aad8d4fdd"
  },
  {
   "metadata": {},
   "cell_type": "markdown",
   "source": [
    "    1.距离公式的基本性质\n",
    "    在机器学习过程中，对于函数dist()，它是“距离度量”（distance measure），需要满足一些基本性质：\n",
    "        （1）非负性：dist(Xi,Xj) >= 0\n",
    "        （2）同一性：dist(Xi,Xj)=0，当且仅当Xi = Xj\n",
    "        （3）对称性：dist(Xi,Xj) = dist(Xj,Xi)\n",
    "        （4）直递性：dist(Xi,Xj) <= dist(Xi,Xk) + dist(Xk,Xj)\n",
    "        注意：直递性常被称为“三角不等式"
   ],
   "id": "56217544982e388e"
  },
  {
   "metadata": {},
   "cell_type": "markdown",
   "source": [
    "    2.常见距离公式\n",
    "        2.1.欧式距离（Eclidean Distance）\n",
    "        空间中的两点之间的坐标公式\n",
    "            d12 = (∑(x1k - x2k))^0.5\n",
    "    \n",
    "        2.2.曼哈顿距离（Manhattan Distance）\n",
    "            （1）背景简介\n",
    "            在曼哈顿截取要从一个十字路口开车到另一个十字路口，驾驶距离显然不是两点间的直线距离。这个实际驾驶距离就是“曼哈顿距离”。\n",
    "            曼哈顿距离也被称为“城市街区距离”（City Block distance）\n",
    "            （2）公式：\n",
    "                    二维平面点a(x1, y2)到b(x2, y2)间的曼哈顿距离：\n",
    "                        d12 = |s1 - x2|+|y1 - y2|\n",
    "                    n维空间点a(x11, x12, x13,……)到b(x21, x22, x23)间的曼哈顿距离：\n",
    "                        d12 = ∑|x1k - x2k|\n",
    "        \n",
    "        2.3.切比雪夫距离（Chebyshev Distance）\n",
    "            （1）背景介绍\n",
    "            国际象棋中，国王可以直行、横行、斜行，所以国王走一步可以移动到相邻的八个方格中的任意以一个。\n",
    "            国王从格子(x1, y1)移动到格子(x2, y2)最少需要走多少步？这个距离就是切比雪夫距离。\n",
    "            （2）公式：\n",
    "                    二维空间平面          d12=max(|x1 - x2|,|y1 - y2|)\n",
    "                    n维空间中点a(x11, x12, x13，……)到点b(x21, x22, x23,……)的切比雪夫距离：\n",
    "                                d12=max(|x1i - x2i|)  \n",
    "        \n",
    "        2.闵科夫斯基距离（Minkowski Distance）\n",
    "            (1)简介：闵氏距离不是一种距离，而是一组距离的定义，是对多个距离度量公式的概括性的表述。\n",
    "            （2）公式介绍：\n",
    "                两个n维变量a(x11, x12,……，x1n)与b(x21, x22,……，x2n）间的闵可夫斯基距离定义为：\n",
    "                            d12=(∑|x1k - x2k|^p)^p\n",
    "                其中p是一个参数变量：\n",
    "                    p=1，就是曼哈顿距离\n",
    "                    p=2，就是欧式距离\n",
    "                    p=∞，就是切比雪夫距离\n",
    "                根据p的不同，闵氏距离可以表示某一类/种的距离\n",
    "            （3）公式缺点：\n",
    "                    * 将各个分量的量纲（scale），也就是“单位”相同地看待\n",
    "                    * 未考虑各个分量的分布（期望，方差等等）可能是不同的"
   ],
   "id": "69fda97748e7a6ee"
  },
  {
   "metadata": {},
   "cell_type": "markdown",
   "source": [
    "    3.“连续属性”和“离散属性”的距离计算\n",
    "        我们将属性划分为“连续属性”（continuous attribute）和“离散属性”（categorical attribute）。\n",
    "        前者在定义域上有无穷多个可能的取值，后者在定义域上是有限个取值。\n",
    "        （1）若属性值之间存在序关系，则可以将其转化为连续值，可以进行前后排序\n",
    "            例如：身高属性“高”“中等”“矮”，这是一个排序的值，可转化为[1,0.5,0]\n",
    "            *** 闵氏距离可以用于有序属性\n",
    "        （2）若属性值之间不存在序关系，则通常将其转化为向量的形式。\n",
    "            例如：性别属性“男”“女”，可转化为[(1,0), (0,1)]"
   ],
   "id": "875d0cdbcca08c6f"
  }
 ],
 "metadata": {
  "kernelspec": {
   "display_name": "Python 3",
   "language": "python",
   "name": "python3"
  },
  "language_info": {
   "codemirror_mode": {
    "name": "ipython",
    "version": 2
   },
   "file_extension": ".py",
   "mimetype": "text/x-python",
   "name": "python",
   "nbconvert_exporter": "python",
   "pygments_lexer": "ipython2",
   "version": "2.7.6"
  }
 },
 "nbformat": 4,
 "nbformat_minor": 5
}
