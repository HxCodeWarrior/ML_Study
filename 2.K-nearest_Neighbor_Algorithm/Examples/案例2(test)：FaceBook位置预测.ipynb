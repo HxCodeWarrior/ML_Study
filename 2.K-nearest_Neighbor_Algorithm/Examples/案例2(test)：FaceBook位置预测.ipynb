{
 "cells": [
  {
   "cell_type": "code",
   "id": "initial_id",
   "metadata": {
    "collapsed": true,
    "ExecuteTime": {
     "end_time": "2024-07-06T11:23:08.719960Z",
     "start_time": "2024-07-06T11:22:54.948917Z"
    }
   },
   "source": [
    "# 0.导包\n",
    "# 0.1 pandas导入数据集\n",
    "import pandas as pd\n",
    "# 0.2 数据集分割\n",
    "from sklearn.model_selection import train_test_split, GridSearchCV\n",
    "# 0.3 数据标准化处理\n",
    "from sklearn.preprocessing import StandardScaler\n",
    "# 0.4 机器学习 KNN+CV\n",
    "from sklearn.neighbors import KNeighborsClassifier\n",
    "\n",
    "# 1.读取数据\n",
    "original_train_data = pd.read_csv(\"../../Data/facebook-vpredicting-check-ins/train.csv\")\n"
   ],
   "outputs": [],
   "execution_count": 57
  },
  {
   "metadata": {
    "ExecuteTime": {
     "end_time": "2024-07-06T11:23:13.479417Z",
     "start_time": "2024-07-06T11:23:13.033836Z"
    }
   },
   "cell_type": "code",
   "source": [
    "# 2.基本数据处理\n",
    "# 2.1 最小化数据集\n",
    "train_data = original_train_data.query(\"x>2.0 & x < 2.5 & y>2.0 & y<2.5\")\n",
    "train_data"
   ],
   "id": "bbd156b615aae8a8",
   "outputs": [
    {
     "data": {
      "text/plain": [
       "            row_id       x       y  accuracy    time    place_id\n",
       "163            163  2.1663  2.3755        84  669737  3869813743\n",
       "310            310  2.3695  2.2034         3  234719  2636621520\n",
       "658            658  2.3236  2.1768        66  502343  7877745055\n",
       "1368          1368  2.2613  2.3392        73  319822  9775192577\n",
       "1627          1627  2.3331  2.0011        66  595084  6731326909\n",
       "...            ...     ...     ...       ...     ...         ...\n",
       "29116142  29116142  2.0804  2.0657       168  217886  1247398579\n",
       "29116267  29116267  2.4309  2.4646        33  314360  1951613663\n",
       "29116295  29116295  2.1797  2.1707        89   74954  4724115005\n",
       "29116475  29116475  2.3924  2.2704        62  206257  2819110495\n",
       "29117203  29117203  2.4942  2.2430        11  160483  2634419689\n",
       "\n",
       "[71664 rows x 6 columns]"
      ],
      "text/html": [
       "<div>\n",
       "<style scoped>\n",
       "    .dataframe tbody tr th:only-of-type {\n",
       "        vertical-align: middle;\n",
       "    }\n",
       "\n",
       "    .dataframe tbody tr th {\n",
       "        vertical-align: top;\n",
       "    }\n",
       "\n",
       "    .dataframe thead th {\n",
       "        text-align: right;\n",
       "    }\n",
       "</style>\n",
       "<table border=\"1\" class=\"dataframe\">\n",
       "  <thead>\n",
       "    <tr style=\"text-align: right;\">\n",
       "      <th></th>\n",
       "      <th>row_id</th>\n",
       "      <th>x</th>\n",
       "      <th>y</th>\n",
       "      <th>accuracy</th>\n",
       "      <th>time</th>\n",
       "      <th>place_id</th>\n",
       "    </tr>\n",
       "  </thead>\n",
       "  <tbody>\n",
       "    <tr>\n",
       "      <th>163</th>\n",
       "      <td>163</td>\n",
       "      <td>2.1663</td>\n",
       "      <td>2.3755</td>\n",
       "      <td>84</td>\n",
       "      <td>669737</td>\n",
       "      <td>3869813743</td>\n",
       "    </tr>\n",
       "    <tr>\n",
       "      <th>310</th>\n",
       "      <td>310</td>\n",
       "      <td>2.3695</td>\n",
       "      <td>2.2034</td>\n",
       "      <td>3</td>\n",
       "      <td>234719</td>\n",
       "      <td>2636621520</td>\n",
       "    </tr>\n",
       "    <tr>\n",
       "      <th>658</th>\n",
       "      <td>658</td>\n",
       "      <td>2.3236</td>\n",
       "      <td>2.1768</td>\n",
       "      <td>66</td>\n",
       "      <td>502343</td>\n",
       "      <td>7877745055</td>\n",
       "    </tr>\n",
       "    <tr>\n",
       "      <th>1368</th>\n",
       "      <td>1368</td>\n",
       "      <td>2.2613</td>\n",
       "      <td>2.3392</td>\n",
       "      <td>73</td>\n",
       "      <td>319822</td>\n",
       "      <td>9775192577</td>\n",
       "    </tr>\n",
       "    <tr>\n",
       "      <th>1627</th>\n",
       "      <td>1627</td>\n",
       "      <td>2.3331</td>\n",
       "      <td>2.0011</td>\n",
       "      <td>66</td>\n",
       "      <td>595084</td>\n",
       "      <td>6731326909</td>\n",
       "    </tr>\n",
       "    <tr>\n",
       "      <th>...</th>\n",
       "      <td>...</td>\n",
       "      <td>...</td>\n",
       "      <td>...</td>\n",
       "      <td>...</td>\n",
       "      <td>...</td>\n",
       "      <td>...</td>\n",
       "    </tr>\n",
       "    <tr>\n",
       "      <th>29116142</th>\n",
       "      <td>29116142</td>\n",
       "      <td>2.0804</td>\n",
       "      <td>2.0657</td>\n",
       "      <td>168</td>\n",
       "      <td>217886</td>\n",
       "      <td>1247398579</td>\n",
       "    </tr>\n",
       "    <tr>\n",
       "      <th>29116267</th>\n",
       "      <td>29116267</td>\n",
       "      <td>2.4309</td>\n",
       "      <td>2.4646</td>\n",
       "      <td>33</td>\n",
       "      <td>314360</td>\n",
       "      <td>1951613663</td>\n",
       "    </tr>\n",
       "    <tr>\n",
       "      <th>29116295</th>\n",
       "      <td>29116295</td>\n",
       "      <td>2.1797</td>\n",
       "      <td>2.1707</td>\n",
       "      <td>89</td>\n",
       "      <td>74954</td>\n",
       "      <td>4724115005</td>\n",
       "    </tr>\n",
       "    <tr>\n",
       "      <th>29116475</th>\n",
       "      <td>29116475</td>\n",
       "      <td>2.3924</td>\n",
       "      <td>2.2704</td>\n",
       "      <td>62</td>\n",
       "      <td>206257</td>\n",
       "      <td>2819110495</td>\n",
       "    </tr>\n",
       "    <tr>\n",
       "      <th>29117203</th>\n",
       "      <td>29117203</td>\n",
       "      <td>2.4942</td>\n",
       "      <td>2.2430</td>\n",
       "      <td>11</td>\n",
       "      <td>160483</td>\n",
       "      <td>2634419689</td>\n",
       "    </tr>\n",
       "  </tbody>\n",
       "</table>\n",
       "<p>71664 rows × 6 columns</p>\n",
       "</div>"
      ]
     },
     "execution_count": 58,
     "metadata": {},
     "output_type": "execute_result"
    }
   ],
   "execution_count": 58
  },
  {
   "metadata": {
    "ExecuteTime": {
     "end_time": "2024-07-06T11:23:15.923467Z",
     "start_time": "2024-07-06T11:23:15.907844Z"
    }
   },
   "cell_type": "code",
   "source": "time",
   "id": "1bf1ac201f2abf7f",
   "outputs": [
    {
     "data": {
      "text/plain": [
       "163        1970-01-08 18:02:17\n",
       "310        1970-01-03 17:11:59\n",
       "658        1970-01-06 19:32:23\n",
       "1368       1970-01-04 16:50:22\n",
       "1627       1970-01-07 21:18:04\n",
       "                   ...        \n",
       "29116142   1970-01-03 12:31:26\n",
       "29116267   1970-01-04 15:19:20\n",
       "29116295   1970-01-01 20:49:14\n",
       "29116475   1970-01-03 09:17:37\n",
       "29117203   1970-01-02 20:34:43\n",
       "Name: time, Length: 70682, dtype: datetime64[ns]"
      ]
     },
     "execution_count": 59,
     "metadata": {},
     "output_type": "execute_result"
    }
   ],
   "execution_count": 59
  },
  {
   "metadata": {},
   "cell_type": "code",
   "outputs": [],
   "execution_count": null,
   "source": [
    "# 2.2 选择时间特征\n",
    "time = pd.to_datetime(train_data[\"time\"], unit='s')     # unit声明时间单位秒s\n",
    "train_data[\"day\"] = time.day\n",
    "train_data[\"hour\"] = time.hour\n",
    "train_data[\"weekday\"] = time.weekday"
   ],
   "id": "692547c69fcb98d7"
  },
  {
   "metadata": {
    "ExecuteTime": {
     "end_time": "2024-07-06T10:28:00.659528Z",
     "start_time": "2024-07-06T10:28:00.652698Z"
    }
   },
   "cell_type": "code",
   "source": "train_data.shape",
   "id": "8aac3f7732a32176",
   "outputs": [
    {
     "data": {
      "text/plain": [
       "(71664, 6)"
      ]
     },
     "execution_count": 39,
     "metadata": {},
     "output_type": "execute_result"
    }
   ],
   "execution_count": 39
  },
  {
   "metadata": {
    "ExecuteTime": {
     "end_time": "2024-07-06T10:28:02.451971Z",
     "start_time": "2024-07-06T10:28:02.431869Z"
    }
   },
   "cell_type": "code",
   "source": "time",
   "id": "28940b9a0643243a",
   "outputs": [
    {
     "data": {
      "text/plain": [
       "163        1970-01-08 18:02:17\n",
       "310        1970-01-03 17:11:59\n",
       "658        1970-01-06 19:32:23\n",
       "1368       1970-01-04 16:50:22\n",
       "1627       1970-01-07 21:18:04\n",
       "                   ...        \n",
       "29116142   1970-01-03 12:31:26\n",
       "29116267   1970-01-04 15:19:20\n",
       "29116295   1970-01-01 20:49:14\n",
       "29116475   1970-01-03 09:17:37\n",
       "29117203   1970-01-02 20:34:43\n",
       "Name: time, Length: 71664, dtype: datetime64[ns]"
      ]
     },
     "execution_count": 40,
     "metadata": {},
     "output_type": "execute_result"
    }
   ],
   "execution_count": 40
  },
  {
   "metadata": {
    "ExecuteTime": {
     "end_time": "2024-07-06T10:28:04.280054Z",
     "start_time": "2024-07-06T10:28:04.270918Z"
    }
   },
   "cell_type": "code",
   "source": [
    "time = pd.DatetimeIndex(time)\n",
    "time"
   ],
   "id": "c6129f6699ee0188",
   "outputs": [
    {
     "data": {
      "text/plain": [
       "DatetimeIndex(['1970-01-08 18:02:17', '1970-01-03 17:11:59',\n",
       "               '1970-01-06 19:32:23', '1970-01-04 16:50:22',\n",
       "               '1970-01-07 21:18:04', '1970-01-02 03:14:59',\n",
       "               '1970-01-07 03:45:16', '1970-01-05 03:28:43',\n",
       "               '1970-01-01 18:59:03', '1970-01-09 07:50:12',\n",
       "               ...\n",
       "               '1970-01-09 20:03:34', '1970-01-08 09:26:50',\n",
       "               '1970-01-07 04:45:59', '1970-01-07 22:36:18',\n",
       "               '1970-01-06 23:29:43', '1970-01-03 12:31:26',\n",
       "               '1970-01-04 15:19:20', '1970-01-01 20:49:14',\n",
       "               '1970-01-03 09:17:37', '1970-01-02 20:34:43'],\n",
       "              dtype='datetime64[ns]', name='time', length=71664, freq=None)"
      ]
     },
     "execution_count": 41,
     "metadata": {},
     "output_type": "execute_result"
    }
   ],
   "execution_count": 41
  },
  {
   "metadata": {
    "ExecuteTime": {
     "end_time": "2024-07-06T10:28:05.803182Z",
     "start_time": "2024-07-06T10:28:05.785794Z"
    }
   },
   "cell_type": "code",
   "source": "time.hour",
   "id": "4d24bac73fc7e9ad",
   "outputs": [
    {
     "data": {
      "text/plain": [
       "Index([18, 17, 19, 16, 21,  3,  3,  3, 18,  7,\n",
       "       ...\n",
       "       20,  9,  4, 22, 23, 12, 15, 20,  9, 20],\n",
       "      dtype='int32', name='time', length=71664)"
      ]
     },
     "execution_count": 42,
     "metadata": {},
     "output_type": "execute_result"
    }
   ],
   "execution_count": 42
  },
  {
   "metadata": {
    "ExecuteTime": {
     "end_time": "2024-07-06T10:28:07.170511Z",
     "start_time": "2024-07-06T10:28:07.161627Z"
    }
   },
   "cell_type": "code",
   "source": "time.day",
   "id": "33af9a3aa1cace67",
   "outputs": [
    {
     "data": {
      "text/plain": [
       "Index([8, 3, 6, 4, 7, 2, 7, 5, 1, 9,\n",
       "       ...\n",
       "       9, 8, 7, 7, 6, 3, 4, 1, 3, 2],\n",
       "      dtype='int32', name='time', length=71664)"
      ]
     },
     "execution_count": 43,
     "metadata": {},
     "output_type": "execute_result"
    }
   ],
   "execution_count": 43
  },
  {
   "metadata": {
    "ExecuteTime": {
     "end_time": "2024-07-06T10:28:07.875359Z",
     "start_time": "2024-07-06T10:28:07.866796Z"
    }
   },
   "cell_type": "code",
   "source": "time.weekday",
   "id": "ad06d93d4a5f6f1a",
   "outputs": [
    {
     "data": {
      "text/plain": [
       "Index([3, 5, 1, 6, 2, 4, 2, 0, 3, 4,\n",
       "       ...\n",
       "       4, 3, 2, 2, 1, 5, 6, 3, 5, 4],\n",
       "      dtype='int32', name='time', length=71664)"
      ]
     },
     "execution_count": 44,
     "metadata": {},
     "output_type": "execute_result"
    }
   ],
   "execution_count": 44
  },
  {
   "metadata": {
    "ExecuteTime": {
     "end_time": "2024-07-06T10:28:08.550974Z",
     "start_time": "2024-07-06T10:28:08.538314Z"
    }
   },
   "cell_type": "code",
   "source": "train_data",
   "id": "2cbcaab7361bb1fa",
   "outputs": [
    {
     "data": {
      "text/plain": [
       "            row_id       x       y  accuracy    time    place_id\n",
       "163            163  2.1663  2.3755        84  669737  3869813743\n",
       "310            310  2.3695  2.2034         3  234719  2636621520\n",
       "658            658  2.3236  2.1768        66  502343  7877745055\n",
       "1368          1368  2.2613  2.3392        73  319822  9775192577\n",
       "1627          1627  2.3331  2.0011        66  595084  6731326909\n",
       "...            ...     ...     ...       ...     ...         ...\n",
       "29116142  29116142  2.0804  2.0657       168  217886  1247398579\n",
       "29116267  29116267  2.4309  2.4646        33  314360  1951613663\n",
       "29116295  29116295  2.1797  2.1707        89   74954  4724115005\n",
       "29116475  29116475  2.3924  2.2704        62  206257  2819110495\n",
       "29117203  29117203  2.4942  2.2430        11  160483  2634419689\n",
       "\n",
       "[71664 rows x 6 columns]"
      ],
      "text/html": [
       "<div>\n",
       "<style scoped>\n",
       "    .dataframe tbody tr th:only-of-type {\n",
       "        vertical-align: middle;\n",
       "    }\n",
       "\n",
       "    .dataframe tbody tr th {\n",
       "        vertical-align: top;\n",
       "    }\n",
       "\n",
       "    .dataframe thead th {\n",
       "        text-align: right;\n",
       "    }\n",
       "</style>\n",
       "<table border=\"1\" class=\"dataframe\">\n",
       "  <thead>\n",
       "    <tr style=\"text-align: right;\">\n",
       "      <th></th>\n",
       "      <th>row_id</th>\n",
       "      <th>x</th>\n",
       "      <th>y</th>\n",
       "      <th>accuracy</th>\n",
       "      <th>time</th>\n",
       "      <th>place_id</th>\n",
       "    </tr>\n",
       "  </thead>\n",
       "  <tbody>\n",
       "    <tr>\n",
       "      <th>163</th>\n",
       "      <td>163</td>\n",
       "      <td>2.1663</td>\n",
       "      <td>2.3755</td>\n",
       "      <td>84</td>\n",
       "      <td>669737</td>\n",
       "      <td>3869813743</td>\n",
       "    </tr>\n",
       "    <tr>\n",
       "      <th>310</th>\n",
       "      <td>310</td>\n",
       "      <td>2.3695</td>\n",
       "      <td>2.2034</td>\n",
       "      <td>3</td>\n",
       "      <td>234719</td>\n",
       "      <td>2636621520</td>\n",
       "    </tr>\n",
       "    <tr>\n",
       "      <th>658</th>\n",
       "      <td>658</td>\n",
       "      <td>2.3236</td>\n",
       "      <td>2.1768</td>\n",
       "      <td>66</td>\n",
       "      <td>502343</td>\n",
       "      <td>7877745055</td>\n",
       "    </tr>\n",
       "    <tr>\n",
       "      <th>1368</th>\n",
       "      <td>1368</td>\n",
       "      <td>2.2613</td>\n",
       "      <td>2.3392</td>\n",
       "      <td>73</td>\n",
       "      <td>319822</td>\n",
       "      <td>9775192577</td>\n",
       "    </tr>\n",
       "    <tr>\n",
       "      <th>1627</th>\n",
       "      <td>1627</td>\n",
       "      <td>2.3331</td>\n",
       "      <td>2.0011</td>\n",
       "      <td>66</td>\n",
       "      <td>595084</td>\n",
       "      <td>6731326909</td>\n",
       "    </tr>\n",
       "    <tr>\n",
       "      <th>...</th>\n",
       "      <td>...</td>\n",
       "      <td>...</td>\n",
       "      <td>...</td>\n",
       "      <td>...</td>\n",
       "      <td>...</td>\n",
       "      <td>...</td>\n",
       "    </tr>\n",
       "    <tr>\n",
       "      <th>29116142</th>\n",
       "      <td>29116142</td>\n",
       "      <td>2.0804</td>\n",
       "      <td>2.0657</td>\n",
       "      <td>168</td>\n",
       "      <td>217886</td>\n",
       "      <td>1247398579</td>\n",
       "    </tr>\n",
       "    <tr>\n",
       "      <th>29116267</th>\n",
       "      <td>29116267</td>\n",
       "      <td>2.4309</td>\n",
       "      <td>2.4646</td>\n",
       "      <td>33</td>\n",
       "      <td>314360</td>\n",
       "      <td>1951613663</td>\n",
       "    </tr>\n",
       "    <tr>\n",
       "      <th>29116295</th>\n",
       "      <td>29116295</td>\n",
       "      <td>2.1797</td>\n",
       "      <td>2.1707</td>\n",
       "      <td>89</td>\n",
       "      <td>74954</td>\n",
       "      <td>4724115005</td>\n",
       "    </tr>\n",
       "    <tr>\n",
       "      <th>29116475</th>\n",
       "      <td>29116475</td>\n",
       "      <td>2.3924</td>\n",
       "      <td>2.2704</td>\n",
       "      <td>62</td>\n",
       "      <td>206257</td>\n",
       "      <td>2819110495</td>\n",
       "    </tr>\n",
       "    <tr>\n",
       "      <th>29117203</th>\n",
       "      <td>29117203</td>\n",
       "      <td>2.4942</td>\n",
       "      <td>2.2430</td>\n",
       "      <td>11</td>\n",
       "      <td>160483</td>\n",
       "      <td>2634419689</td>\n",
       "    </tr>\n",
       "  </tbody>\n",
       "</table>\n",
       "<p>71664 rows × 6 columns</p>\n",
       "</div>"
      ]
     },
     "execution_count": 45,
     "metadata": {},
     "output_type": "execute_result"
    }
   ],
   "execution_count": 45
  },
  {
   "metadata": {
    "ExecuteTime": {
     "end_time": "2024-07-06T10:28:13.607832Z",
     "start_time": "2024-07-06T10:28:13.576612Z"
    }
   },
   "cell_type": "code",
   "source": [
    "# 2.3 去除签到较少的地方\n",
    "place_count = train_data.groupby(\"place_id\").count()"
   ],
   "id": "372ed3d00c913116",
   "outputs": [],
   "execution_count": 46
  },
  {
   "metadata": {
    "ExecuteTime": {
     "end_time": "2024-07-06T10:28:15.446948Z",
     "start_time": "2024-07-06T10:28:15.428628Z"
    }
   },
   "cell_type": "code",
   "source": [
    "place_count = place_count[place_count[\"row_id\"] > 1]\n",
    "place_count.head()"
   ],
   "id": "b7d4a2c22238ec02",
   "outputs": [
    {
     "data": {
      "text/plain": [
       "            row_id    x    y  accuracy  time\n",
       "place_id                                    \n",
       "1008823061       4    4    4         4     4\n",
       "1012580558       3    3    3         3     3\n",
       "1025585791      21   21   21        21    21\n",
       "1026507711     220  220  220       220   220\n",
       "1032417180      10   10   10        10    10"
      ],
      "text/html": [
       "<div>\n",
       "<style scoped>\n",
       "    .dataframe tbody tr th:only-of-type {\n",
       "        vertical-align: middle;\n",
       "    }\n",
       "\n",
       "    .dataframe tbody tr th {\n",
       "        vertical-align: top;\n",
       "    }\n",
       "\n",
       "    .dataframe thead th {\n",
       "        text-align: right;\n",
       "    }\n",
       "</style>\n",
       "<table border=\"1\" class=\"dataframe\">\n",
       "  <thead>\n",
       "    <tr style=\"text-align: right;\">\n",
       "      <th></th>\n",
       "      <th>row_id</th>\n",
       "      <th>x</th>\n",
       "      <th>y</th>\n",
       "      <th>accuracy</th>\n",
       "      <th>time</th>\n",
       "    </tr>\n",
       "    <tr>\n",
       "      <th>place_id</th>\n",
       "      <th></th>\n",
       "      <th></th>\n",
       "      <th></th>\n",
       "      <th></th>\n",
       "      <th></th>\n",
       "    </tr>\n",
       "  </thead>\n",
       "  <tbody>\n",
       "    <tr>\n",
       "      <th>1008823061</th>\n",
       "      <td>4</td>\n",
       "      <td>4</td>\n",
       "      <td>4</td>\n",
       "      <td>4</td>\n",
       "      <td>4</td>\n",
       "    </tr>\n",
       "    <tr>\n",
       "      <th>1012580558</th>\n",
       "      <td>3</td>\n",
       "      <td>3</td>\n",
       "      <td>3</td>\n",
       "      <td>3</td>\n",
       "      <td>3</td>\n",
       "    </tr>\n",
       "    <tr>\n",
       "      <th>1025585791</th>\n",
       "      <td>21</td>\n",
       "      <td>21</td>\n",
       "      <td>21</td>\n",
       "      <td>21</td>\n",
       "      <td>21</td>\n",
       "    </tr>\n",
       "    <tr>\n",
       "      <th>1026507711</th>\n",
       "      <td>220</td>\n",
       "      <td>220</td>\n",
       "      <td>220</td>\n",
       "      <td>220</td>\n",
       "      <td>220</td>\n",
       "    </tr>\n",
       "    <tr>\n",
       "      <th>1032417180</th>\n",
       "      <td>10</td>\n",
       "      <td>10</td>\n",
       "      <td>10</td>\n",
       "      <td>10</td>\n",
       "      <td>10</td>\n",
       "    </tr>\n",
       "  </tbody>\n",
       "</table>\n",
       "</div>"
      ]
     },
     "execution_count": 47,
     "metadata": {},
     "output_type": "execute_result"
    }
   ],
   "execution_count": 47
  },
  {
   "metadata": {
    "ExecuteTime": {
     "end_time": "2024-07-06T10:28:16.879483Z",
     "start_time": "2024-07-06T10:28:16.858321Z"
    }
   },
   "cell_type": "code",
   "source": [
    "train_data = train_data[train_data[\"place_id\"].isin(place_count.index)]\n",
    "train_data.shape"
   ],
   "id": "9d2b44e9503373f1",
   "outputs": [
    {
     "data": {
      "text/plain": [
       "(70682, 6)"
      ]
     },
     "execution_count": 48,
     "metadata": {},
     "output_type": "execute_result"
    }
   ],
   "execution_count": 48
  },
  {
   "metadata": {
    "ExecuteTime": {
     "end_time": "2024-07-06T10:29:29.694304Z",
     "start_time": "2024-07-06T10:29:29.597432Z"
    }
   },
   "cell_type": "code",
   "source": [
    "# 2.4 选定特征值和目标值\n",
    "x = train_data[[\"x\", \"y\", \"accuracy\", \"day\", \"hour\", \"weekday\"]]\n",
    "y = train_data[\"place_id\"]\n",
    "# 2.5 分割数据集\n",
    "x_train, x_test, y_train, y_test = train_test_split(\n",
    "    x, y, random_state=20\n",
    ")\n",
    "\n",
    "# 3.特征工程——特征预处理（标准化）\n",
    "# 3.1 实例化一个转换器\n",
    "transfer = StandardScaler()\n",
    "# 3.2 调用fit_transfer\n",
    "x_train = transfer.fit_transform(x_train)\n",
    "x_test = transfer.fit_transform(x_test)\n",
    "\n",
    "# 4.机器学习 -- KNN+CV\n",
    "# 4.1 实例化一个估计器\n",
    "estimator = KNeighborsClassifier()\n",
    "# 4.2 调用GridSearchCV\n",
    "param_grid = {\"n_neighbors\": [1, 3, 5]}\n",
    "estimator = GridSearchCV(estimator, param_grid, cv=0)\n",
    "# 4.3 模型训练\n",
    "estimator.fit(x_train, y_train)"
   ],
   "id": "b2d2009773497439",
   "outputs": [
    {
     "ename": "KeyError",
     "evalue": "\"['day', 'hour', 'weekday'] not in index\"",
     "output_type": "error",
     "traceback": [
      "\u001B[1;31m---------------------------------------------------------------------------\u001B[0m",
      "\u001B[1;31mKeyError\u001B[0m                                  Traceback (most recent call last)",
      "Cell \u001B[1;32mIn[49], line 2\u001B[0m\n\u001B[0;32m      1\u001B[0m \u001B[38;5;66;03m# 2.4 选定特征值和目标值\u001B[39;00m\n\u001B[1;32m----> 2\u001B[0m x \u001B[38;5;241m=\u001B[39m \u001B[43mtrain_data\u001B[49m\u001B[43m[\u001B[49m\u001B[43m[\u001B[49m\u001B[38;5;124;43m\"\u001B[39;49m\u001B[38;5;124;43mx\u001B[39;49m\u001B[38;5;124;43m\"\u001B[39;49m\u001B[43m,\u001B[49m\u001B[43m \u001B[49m\u001B[38;5;124;43m\"\u001B[39;49m\u001B[38;5;124;43my\u001B[39;49m\u001B[38;5;124;43m\"\u001B[39;49m\u001B[43m,\u001B[49m\u001B[43m \u001B[49m\u001B[38;5;124;43m\"\u001B[39;49m\u001B[38;5;124;43maccuracy\u001B[39;49m\u001B[38;5;124;43m\"\u001B[39;49m\u001B[43m,\u001B[49m\u001B[43m \u001B[49m\u001B[38;5;124;43m\"\u001B[39;49m\u001B[38;5;124;43mday\u001B[39;49m\u001B[38;5;124;43m\"\u001B[39;49m\u001B[43m,\u001B[49m\u001B[43m \u001B[49m\u001B[38;5;124;43m\"\u001B[39;49m\u001B[38;5;124;43mhour\u001B[39;49m\u001B[38;5;124;43m\"\u001B[39;49m\u001B[43m,\u001B[49m\u001B[43m \u001B[49m\u001B[38;5;124;43m\"\u001B[39;49m\u001B[38;5;124;43mweekday\u001B[39;49m\u001B[38;5;124;43m\"\u001B[39;49m\u001B[43m]\u001B[49m\u001B[43m]\u001B[49m\n\u001B[0;32m      3\u001B[0m y \u001B[38;5;241m=\u001B[39m train_data[\u001B[38;5;124m\"\u001B[39m\u001B[38;5;124mplace_id\u001B[39m\u001B[38;5;124m\"\u001B[39m]\n\u001B[0;32m      4\u001B[0m \u001B[38;5;66;03m# 2.5 分割数据集\u001B[39;00m\n",
      "File \u001B[1;32mD:\\study\\AI\\Machine_learning\\ML_Study\\venv\\Lib\\site-packages\\pandas\\core\\frame.py:4108\u001B[0m, in \u001B[0;36mDataFrame.__getitem__\u001B[1;34m(self, key)\u001B[0m\n\u001B[0;32m   4106\u001B[0m     \u001B[38;5;28;01mif\u001B[39;00m is_iterator(key):\n\u001B[0;32m   4107\u001B[0m         key \u001B[38;5;241m=\u001B[39m \u001B[38;5;28mlist\u001B[39m(key)\n\u001B[1;32m-> 4108\u001B[0m     indexer \u001B[38;5;241m=\u001B[39m \u001B[38;5;28;43mself\u001B[39;49m\u001B[38;5;241;43m.\u001B[39;49m\u001B[43mcolumns\u001B[49m\u001B[38;5;241;43m.\u001B[39;49m\u001B[43m_get_indexer_strict\u001B[49m\u001B[43m(\u001B[49m\u001B[43mkey\u001B[49m\u001B[43m,\u001B[49m\u001B[43m \u001B[49m\u001B[38;5;124;43m\"\u001B[39;49m\u001B[38;5;124;43mcolumns\u001B[39;49m\u001B[38;5;124;43m\"\u001B[39;49m\u001B[43m)\u001B[49m[\u001B[38;5;241m1\u001B[39m]\n\u001B[0;32m   4110\u001B[0m \u001B[38;5;66;03m# take() does not accept boolean indexers\u001B[39;00m\n\u001B[0;32m   4111\u001B[0m \u001B[38;5;28;01mif\u001B[39;00m \u001B[38;5;28mgetattr\u001B[39m(indexer, \u001B[38;5;124m\"\u001B[39m\u001B[38;5;124mdtype\u001B[39m\u001B[38;5;124m\"\u001B[39m, \u001B[38;5;28;01mNone\u001B[39;00m) \u001B[38;5;241m==\u001B[39m \u001B[38;5;28mbool\u001B[39m:\n",
      "File \u001B[1;32mD:\\study\\AI\\Machine_learning\\ML_Study\\venv\\Lib\\site-packages\\pandas\\core\\indexes\\base.py:6200\u001B[0m, in \u001B[0;36mIndex._get_indexer_strict\u001B[1;34m(self, key, axis_name)\u001B[0m\n\u001B[0;32m   6197\u001B[0m \u001B[38;5;28;01melse\u001B[39;00m:\n\u001B[0;32m   6198\u001B[0m     keyarr, indexer, new_indexer \u001B[38;5;241m=\u001B[39m \u001B[38;5;28mself\u001B[39m\u001B[38;5;241m.\u001B[39m_reindex_non_unique(keyarr)\n\u001B[1;32m-> 6200\u001B[0m \u001B[38;5;28;43mself\u001B[39;49m\u001B[38;5;241;43m.\u001B[39;49m\u001B[43m_raise_if_missing\u001B[49m\u001B[43m(\u001B[49m\u001B[43mkeyarr\u001B[49m\u001B[43m,\u001B[49m\u001B[43m \u001B[49m\u001B[43mindexer\u001B[49m\u001B[43m,\u001B[49m\u001B[43m \u001B[49m\u001B[43maxis_name\u001B[49m\u001B[43m)\u001B[49m\n\u001B[0;32m   6202\u001B[0m keyarr \u001B[38;5;241m=\u001B[39m \u001B[38;5;28mself\u001B[39m\u001B[38;5;241m.\u001B[39mtake(indexer)\n\u001B[0;32m   6203\u001B[0m \u001B[38;5;28;01mif\u001B[39;00m \u001B[38;5;28misinstance\u001B[39m(key, Index):\n\u001B[0;32m   6204\u001B[0m     \u001B[38;5;66;03m# GH 42790 - Preserve name from an Index\u001B[39;00m\n",
      "File \u001B[1;32mD:\\study\\AI\\Machine_learning\\ML_Study\\venv\\Lib\\site-packages\\pandas\\core\\indexes\\base.py:6252\u001B[0m, in \u001B[0;36mIndex._raise_if_missing\u001B[1;34m(self, key, indexer, axis_name)\u001B[0m\n\u001B[0;32m   6249\u001B[0m     \u001B[38;5;28;01mraise\u001B[39;00m \u001B[38;5;167;01mKeyError\u001B[39;00m(\u001B[38;5;124mf\u001B[39m\u001B[38;5;124m\"\u001B[39m\u001B[38;5;124mNone of [\u001B[39m\u001B[38;5;132;01m{\u001B[39;00mkey\u001B[38;5;132;01m}\u001B[39;00m\u001B[38;5;124m] are in the [\u001B[39m\u001B[38;5;132;01m{\u001B[39;00maxis_name\u001B[38;5;132;01m}\u001B[39;00m\u001B[38;5;124m]\u001B[39m\u001B[38;5;124m\"\u001B[39m)\n\u001B[0;32m   6251\u001B[0m not_found \u001B[38;5;241m=\u001B[39m \u001B[38;5;28mlist\u001B[39m(ensure_index(key)[missing_mask\u001B[38;5;241m.\u001B[39mnonzero()[\u001B[38;5;241m0\u001B[39m]]\u001B[38;5;241m.\u001B[39munique())\n\u001B[1;32m-> 6252\u001B[0m \u001B[38;5;28;01mraise\u001B[39;00m \u001B[38;5;167;01mKeyError\u001B[39;00m(\u001B[38;5;124mf\u001B[39m\u001B[38;5;124m\"\u001B[39m\u001B[38;5;132;01m{\u001B[39;00mnot_found\u001B[38;5;132;01m}\u001B[39;00m\u001B[38;5;124m not in index\u001B[39m\u001B[38;5;124m\"\u001B[39m)\n",
      "\u001B[1;31mKeyError\u001B[0m: \"['day', 'hour', 'weekday'] not in index\""
     ]
    }
   ],
   "execution_count": 49
  },
  {
   "metadata": {},
   "cell_type": "code",
   "outputs": [],
   "execution_count": null,
   "source": [
    "# 5.模型评估\n",
    "# 5.1 基本评估方式\n",
    "score = estimator.score(x_test, y_test)\n",
    "print(\"最后预期的准确率为：\", score)\n",
    "\n",
    "y_predict = estimator.predict(x_test)\n",
    "print(\"最后的预测值为：\\n\", y_predict)\n",
    "print(\"预测值和真实值的对比情况：\\n\", y_predict == y_test)"
   ],
   "id": "eb362dd24b519826"
  },
  {
   "metadata": {},
   "cell_type": "code",
   "outputs": [],
   "execution_count": null,
   "source": [
    "# 5.2 使用交叉验证后的评估方式\n",
    "print(\"在交叉验证过程中最好的结果：\\n\", estimator.best_score_)\n",
    "print(\"在交叉验证中最好的参数模型：\\n\", estimator.best_estimator_)\n",
    "print(\"每次交叉验证后的验证集准确率结果和训练集准确率结果：\\n\", estimator.cv_results_)"
   ],
   "id": "2de6c03ded4d8dc8"
  }
 ],
 "metadata": {
  "kernelspec": {
   "display_name": "Python 3",
   "language": "python",
   "name": "python3"
  },
  "language_info": {
   "codemirror_mode": {
    "name": "ipython",
    "version": 2
   },
   "file_extension": ".py",
   "mimetype": "text/x-python",
   "name": "python",
   "nbconvert_exporter": "python",
   "pygments_lexer": "ipython2",
   "version": "2.7.6"
  }
 },
 "nbformat": 4,
 "nbformat_minor": 5
}
