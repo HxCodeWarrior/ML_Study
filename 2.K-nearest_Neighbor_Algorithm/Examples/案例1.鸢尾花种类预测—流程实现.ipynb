{
 "cells": [
  {
   "metadata": {},
   "cell_type": "markdown",
   "source": "案例一：鸢尾花种类预测——流程实现",
   "id": "55abbe786a5b1edf"
  },
  {
   "metadata": {},
   "cell_type": "markdown",
   "source": [
    "    1.再识k-近邻算法API\n",
    "        sklearn.neighbors.KNeighborsClassifier(n_neighbors=5, algorithm='auto')\n",
    "        参数解释：\n",
    "            （1）n_neighbors:\n",
    "                    int类型，可选，默认为5\n",
    "                    k_neighbors查询默认使用的邻居数\n",
    "            （2）algorithm('auto', 'ball_tree', 'ke_tree', 'brute')\n",
    "                    （a）快速k近邻搜索算法，默认参数auto，可以理解为算法自己决定合\n",
    "                        适的搜索算法。除此之外，用户也可以自己制定搜索算法\n",
    "                        ball_tree,kd_tree, brute方法进行搜索\n",
    "                    （b）解释：\n",
    "                        brute:蛮力搜索，也就是线性扫描，当训练集很大时，计算非常耗时\n",
    "                        kd_tree:构造kd树存储数据以便对其进行快速检索的树形数据结\n",
    "                            构，kd树也就是数据结构中的二叉树。以中值切分构造的树，\n",
    "                            每个节点是一个超矩形，在维数小于20时效率高。\n",
    "                        ball_tree:为了克服kd树高纬度失效而发明的，其构造过程是以\n",
    "                            质心C和半径r分割样本空间，每个节点是一个超球体。"
   ],
   "id": "f4b04c4d48102ea6"
  },
  {
   "metadata": {},
   "cell_type": "markdown",
   "source": "    2 案例：鸢尾花种类预测",
   "id": "720d0c770f99153b"
  },
  {
   "metadata": {},
   "cell_type": "markdown",
   "source": [
    "        2.1 数据集介绍\n",
    "            iris数据集是常用的分类实验数据集，由Fisher，1936年收集整理\n",
    "            iris也称鸢尾花卉数据集，是一类多重变量分析的数据集。\n",
    "            （1）实例数量：150（三类各有50个）\n",
    "            （2）属性数量：4（数值类型，数值类型，帮助预测的属性和类）\n",
    "            Attribute Information：\n",
    "                sepal length：萼片长度（厘米）\n",
    "                sepal width：萼片宽度（厘米）\n",
    "                petal length：花瓣长度（厘米）\n",
    "                petal width：花瓣宽度（厘米）\n",
    "                \n",
    "                class：Iris-Setosa 山鸢尾\n",
    "                       Iris-Versicolour 变色鸢尾\n",
    "                       Iris-Virginica 维吉尼亚鸢尾"
   ],
   "id": "8a25e164509d9a80"
  },
  {
   "metadata": {},
   "cell_type": "markdown",
   "source": [
    "        2.2 步骤分析\n",
    "            1.获取数据集\n",
    "            2.数据基本处理\n",
    "            3.特征工程\n",
    "            4.机器学习（模型训练）\n",
    "            5.模型评估"
   ],
   "id": "6149ff9135137f17"
  },
  {
   "metadata": {
    "ExecuteTime": {
     "end_time": "2024-07-06T02:38:45.217038Z",
     "start_time": "2024-07-06T02:38:45.199939Z"
    }
   },
   "cell_type": "code",
   "source": [
    "# 0.导入模块\n",
    "from sklearn.datasets import load_iris          #导入鸢尾花数据集\n",
    "from sklearn.model_selection import train_test_split    #数据集分割\n",
    "from sklearn.preprocessing import StandardScaler        #数据标准化处理\n",
    "from sklearn.neighbors import KNeighborsClassifier      #k近邻算法\n",
    "\n",
    "# 1.从sklearn中获取数据集\n",
    "iris = load_iris()\n",
    "\n",
    "# 2.对数据集进行分割\n",
    "\"\"\"\n",
    "x_train:\n",
    "x_test:\n",
    "y_train:\n",
    "y_test:\n",
    "\"\"\"\n",
    "x_train, x_test, y_train, y_test = train_test_split(\n",
    "    iris.data,      #特征值\n",
    "    iris.target,    #目标值\n",
    "    test_size=0.2,  \n",
    "    random_state=20\n",
    ")\n",
    "\n",
    "# 3.特征工程——数据标准化\n",
    "# 3.1实例化一个标准化对象\n",
    "transfer = StandardScaler()     \n",
    "# 3.2数据标准化\n",
    "x_train = transfer.fit_transform(x_train)\n",
    "x_test = transfer.transform(x_test)\n",
    "\n",
    "# 4.机器学习--KNN\n",
    "# 4.1实例化一个估计器\n",
    "estimator = KNeighborsClassifier(n_neighbors=5)\n",
    "# 4.2模型训练\n",
    "estimator.fit(x_train, y_train) \n",
    "\n",
    "# 5.模型评估\n",
    "# 方法1：对比真实值和预测值\n",
    "y_pred = estimator.predict(x_test)\n",
    "print(\"预测结果为：\\n\",y_pred)\n",
    "print(\"对比真实值和预测值：\\n\",y_pred == y_test)\n",
    "# 方法2：直接计算准确率\n",
    "score = estimator.score(x_test, y_test)\n",
    "print(\"准确率为：\", score)"
   ],
   "id": "d7414c46d571e923",
   "outputs": [
    {
     "name": "stdout",
     "output_type": "stream",
     "text": [
      "预测结果为：\n",
      " [0 1 1 2 1 1 2 0 2 0 2 1 1 0 0 2 0 1 2 1 1 2 2 0 2 1 1 0 2 1]\n",
      "对比真实值和预测值：\n",
      " [ True  True  True  True  True  True  True  True  True  True  True  True\n",
      " False  True  True  True  True  True  True  True  True  True  True  True\n",
      " False  True  True  True  True False]\n",
      "准确率为： 0.9\n"
     ]
    }
   ],
   "execution_count": 5
  },
  {
   "metadata": {},
   "cell_type": "code",
   "outputs": [],
   "execution_count": null,
   "source": "",
   "id": "598fe4ec557951d0"
  }
 ],
 "metadata": {
  "kernelspec": {
   "display_name": "Python 3",
   "language": "python",
   "name": "python3"
  },
  "language_info": {
   "codemirror_mode": {
    "name": "ipython",
    "version": 2
   },
   "file_extension": ".py",
   "mimetype": "text/x-python",
   "name": "python",
   "nbconvert_exporter": "python",
   "pygments_lexer": "ipython2",
   "version": "2.7.6"
  }
 },
 "nbformat": 4,
 "nbformat_minor": 5
}
