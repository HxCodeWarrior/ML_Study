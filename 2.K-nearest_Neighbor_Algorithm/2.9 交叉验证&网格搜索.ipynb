{
 "cells": [
  {
   "metadata": {},
   "cell_type": "markdown",
   "source": "交叉验证&网格搜索",
   "id": "7b6a90a0228fa3c9"
  },
  {
   "metadata": {},
   "cell_type": "markdown",
   "source": [
    "    1.交叉验证（cross validation）\n",
    "        交叉验证：将拿到的训练数据，分为训练和验证集，以下面图为例：将数据分为4份，其中\n",
    "        一份作为验证集，然后经过4次（组）的测试，每次都更换不同的验证集，即得到4组模型\n",
    "        的结果，取平均作为最终结果，又称4折交叉验证。\n",
    "    注意：分为几份就叫几折交叉验证"
   ],
   "id": "c8d8361d870afae5"
  },
  {
   "metadata": {},
   "cell_type": "markdown",
   "source": [
    "        1.1 分析\n",
    "        我们之前知道数据分析分为训练集和测试集，但是为了让从训练得到模型结果更加准确，做以下处理：\n",
    "            训练集：训练集 + 验证集\n",
    "            测试集：测试集"
   ],
   "id": "27d009c909bcb831"
  },
  {
   "metadata": {},
   "cell_type": "markdown",
   "source": "![jupyter](../Sources/Pictures/k-近邻算法/交叉验证.png)",
   "id": "be26ba444b70f8bb"
  },
  {
   "metadata": {},
   "cell_type": "markdown",
   "source": [
    "        1.2 为什么需要交叉验证\n",
    "        交叉验证目的：为了让被评估的模型更加哦准确可信\n",
    "        问题：这个只是让被评估的模型更加准确可信，那么怎么选择或者调优参数？"
   ],
   "id": "16c1d5422cf1041"
  },
  {
   "metadata": {},
   "cell_type": "markdown",
   "source": "2 网格搜索（Grid Search）",
   "id": "96de213e1af7cf37"
  },
  {
   "metadata": {},
   "cell_type": "markdown",
   "source": [
    "    通常情况下，有很多参数是需要手动调整的（如k-近邻算法中的k值），这种叫超参数。但是\n",
    "    手动过程繁杂，所以需要对模型与设计中超参数组合，每组超参数都采用交叉验证来进行评估\n",
    "    ，最后选出最优参数组合建立模型。"
   ],
   "id": "280b83d2a382856e"
  },
  {
   "metadata": {},
   "cell_type": "markdown",
   "source": [
    "    简单来说就是需要自己手动输入数据进行模型调整的，我们一次输入超参数数据，在训练的过\n",
    "    程中，它会进行超参数组合，然后判断选择出最优的超参数组合，返回给我们。"
   ],
   "id": "3337bf72f97c33d6"
  },
  {
   "metadata": {},
   "cell_type": "markdown",
   "source": "![jupyter](../Sources/Pictures/k-近邻算法/网格搜索.png)",
   "id": "3044d694f6a4fe1d"
  },
  {
   "metadata": {},
   "cell_type": "markdown",
   "source": "3 交叉验证&网格搜索（模型选择与调优）API",
   "id": "5bfc252cb7de3d10"
  },
  {
   "metadata": {},
   "cell_type": "markdown",
   "source": [
    "    sklearn.model_selection.GridSearchCV(estimator, param_grid=None, cv=None)\n",
    "        功能：对估计器的制定参数进行详尽搜索\n",
    "        参数解释：\n",
    "            （1）estimator:估计器对象\n",
    "            （2）param_grid：估计器参数（dict）{“n_neighbors”:[1,3,5]}\n",
    "            （3）cv：指定几折交叉验证\n",
    "            （4）fit：输入训练数据\n",
    "            （5）score：准确率\n",
    "            （6）结果分析属性参数：\n",
    "                    hestscore：在交叉验证中验证最好的结果\n",
    "                    bestestimator：最好的参数模型\n",
    "                    cvresults：每次交叉验证后的验证集准确率结果和训练集准确率结果"
   ],
   "id": "4f1c4716cc1c3a77"
  }
 ],
 "metadata": {
  "kernelspec": {
   "display_name": "Python 3",
   "language": "python",
   "name": "python3"
  },
  "language_info": {
   "codemirror_mode": {
    "name": "ipython",
    "version": 2
   },
   "file_extension": ".py",
   "mimetype": "text/x-python",
   "name": "python",
   "nbconvert_exporter": "python",
   "pygments_lexer": "ipython2",
   "version": "2.7.6"
  }
 },
 "nbformat": 4,
 "nbformat_minor": 5
}
