{
 "cells": [
  {
   "metadata": {},
   "cell_type": "markdown",
   "source": "鸢尾花种类预测",
   "id": "42c3605dd40485c3"
  },
  {
   "metadata": {},
   "cell_type": "markdown",
   "source": "1、鸢尾花数据集",
   "id": "13495532a0e4be3c"
  },
  {
   "metadata": {},
   "cell_type": "markdown",
   "source": [
    "        * 特征值-4个：花瓣、花萼的长度、宽度\n",
    "        * 目标值-3个：setosa、vericolor、virginica"
   ],
   "id": "2965991ca1c105ae"
  },
  {
   "metadata": {},
   "cell_type": "markdown",
   "source": [
    "2、scikit-learn中数据集介绍         \n",
    " "
   ],
   "id": "bc37c1aacd74039"
  },
  {
   "metadata": {},
   "cell_type": "markdown",
   "source": [
    "        2.1 scikit-learn数据集API介绍\n",
    "            sklearn、datasets\n",
    "                (1) 功能：夹杂获取流行数据集\n",
    "                (2) datasets.load_*()    \n",
    "                    一般从本地数据 \n",
    "                    获取小规模数据集，数据包含在datasets中\n",
    "                (3) datasets.fetch_*(data_home=None)\n",
    "                    获取大规模数据集，需要从网络上下载，函数的第一个参数data_home,\n",
    "                    表示数据集下载的目录，默认是~/scikit_learn_data/"
   ],
   "id": "5c735aec790f24f4"
  },
  {
   "metadata": {},
   "cell_type": "markdown",
   "source": [
    "    2.1.1 sklearn小数据集\n",
    "                sklearn.datasets.load_inis()\n",
    "                功能：加载并返回鸢尾花数据集\n",
    "![jupyter](../Sources/Pictures/k-近邻算法/鸢尾花数据集.png)"
   ],
   "id": "6db029dac0bf9a8a"
  },
  {
   "metadata": {
    "ExecuteTime": {
     "end_time": "2024-07-05T16:11:38.416184Z",
     "start_time": "2024-07-05T16:11:36.972435Z"
    }
   },
   "cell_type": "code",
   "source": [
    "from sklearn.datasets import load_iris\n",
    "\n",
    "iris = load_iris()\n",
    "print(iris)"
   ],
   "id": "58f3f7da8d54dbd3",
   "outputs": [
    {
     "name": "stdout",
     "output_type": "stream",
     "text": [
      "{'data': array([[5.1, 3.5, 1.4, 0.2],\n",
      "       [4.9, 3. , 1.4, 0.2],\n",
      "       [4.7, 3.2, 1.3, 0.2],\n",
      "       [4.6, 3.1, 1.5, 0.2],\n",
      "       [5. , 3.6, 1.4, 0.2],\n",
      "       [5.4, 3.9, 1.7, 0.4],\n",
      "       [4.6, 3.4, 1.4, 0.3],\n",
      "       [5. , 3.4, 1.5, 0.2],\n",
      "       [4.4, 2.9, 1.4, 0.2],\n",
      "       [4.9, 3.1, 1.5, 0.1],\n",
      "       [5.4, 3.7, 1.5, 0.2],\n",
      "       [4.8, 3.4, 1.6, 0.2],\n",
      "       [4.8, 3. , 1.4, 0.1],\n",
      "       [4.3, 3. , 1.1, 0.1],\n",
      "       [5.8, 4. , 1.2, 0.2],\n",
      "       [5.7, 4.4, 1.5, 0.4],\n",
      "       [5.4, 3.9, 1.3, 0.4],\n",
      "       [5.1, 3.5, 1.4, 0.3],\n",
      "       [5.7, 3.8, 1.7, 0.3],\n",
      "       [5.1, 3.8, 1.5, 0.3],\n",
      "       [5.4, 3.4, 1.7, 0.2],\n",
      "       [5.1, 3.7, 1.5, 0.4],\n",
      "       [4.6, 3.6, 1. , 0.2],\n",
      "       [5.1, 3.3, 1.7, 0.5],\n",
      "       [4.8, 3.4, 1.9, 0.2],\n",
      "       [5. , 3. , 1.6, 0.2],\n",
      "       [5. , 3.4, 1.6, 0.4],\n",
      "       [5.2, 3.5, 1.5, 0.2],\n",
      "       [5.2, 3.4, 1.4, 0.2],\n",
      "       [4.7, 3.2, 1.6, 0.2],\n",
      "       [4.8, 3.1, 1.6, 0.2],\n",
      "       [5.4, 3.4, 1.5, 0.4],\n",
      "       [5.2, 4.1, 1.5, 0.1],\n",
      "       [5.5, 4.2, 1.4, 0.2],\n",
      "       [4.9, 3.1, 1.5, 0.2],\n",
      "       [5. , 3.2, 1.2, 0.2],\n",
      "       [5.5, 3.5, 1.3, 0.2],\n",
      "       [4.9, 3.6, 1.4, 0.1],\n",
      "       [4.4, 3. , 1.3, 0.2],\n",
      "       [5.1, 3.4, 1.5, 0.2],\n",
      "       [5. , 3.5, 1.3, 0.3],\n",
      "       [4.5, 2.3, 1.3, 0.3],\n",
      "       [4.4, 3.2, 1.3, 0.2],\n",
      "       [5. , 3.5, 1.6, 0.6],\n",
      "       [5.1, 3.8, 1.9, 0.4],\n",
      "       [4.8, 3. , 1.4, 0.3],\n",
      "       [5.1, 3.8, 1.6, 0.2],\n",
      "       [4.6, 3.2, 1.4, 0.2],\n",
      "       [5.3, 3.7, 1.5, 0.2],\n",
      "       [5. , 3.3, 1.4, 0.2],\n",
      "       [7. , 3.2, 4.7, 1.4],\n",
      "       [6.4, 3.2, 4.5, 1.5],\n",
      "       [6.9, 3.1, 4.9, 1.5],\n",
      "       [5.5, 2.3, 4. , 1.3],\n",
      "       [6.5, 2.8, 4.6, 1.5],\n",
      "       [5.7, 2.8, 4.5, 1.3],\n",
      "       [6.3, 3.3, 4.7, 1.6],\n",
      "       [4.9, 2.4, 3.3, 1. ],\n",
      "       [6.6, 2.9, 4.6, 1.3],\n",
      "       [5.2, 2.7, 3.9, 1.4],\n",
      "       [5. , 2. , 3.5, 1. ],\n",
      "       [5.9, 3. , 4.2, 1.5],\n",
      "       [6. , 2.2, 4. , 1. ],\n",
      "       [6.1, 2.9, 4.7, 1.4],\n",
      "       [5.6, 2.9, 3.6, 1.3],\n",
      "       [6.7, 3.1, 4.4, 1.4],\n",
      "       [5.6, 3. , 4.5, 1.5],\n",
      "       [5.8, 2.7, 4.1, 1. ],\n",
      "       [6.2, 2.2, 4.5, 1.5],\n",
      "       [5.6, 2.5, 3.9, 1.1],\n",
      "       [5.9, 3.2, 4.8, 1.8],\n",
      "       [6.1, 2.8, 4. , 1.3],\n",
      "       [6.3, 2.5, 4.9, 1.5],\n",
      "       [6.1, 2.8, 4.7, 1.2],\n",
      "       [6.4, 2.9, 4.3, 1.3],\n",
      "       [6.6, 3. , 4.4, 1.4],\n",
      "       [6.8, 2.8, 4.8, 1.4],\n",
      "       [6.7, 3. , 5. , 1.7],\n",
      "       [6. , 2.9, 4.5, 1.5],\n",
      "       [5.7, 2.6, 3.5, 1. ],\n",
      "       [5.5, 2.4, 3.8, 1.1],\n",
      "       [5.5, 2.4, 3.7, 1. ],\n",
      "       [5.8, 2.7, 3.9, 1.2],\n",
      "       [6. , 2.7, 5.1, 1.6],\n",
      "       [5.4, 3. , 4.5, 1.5],\n",
      "       [6. , 3.4, 4.5, 1.6],\n",
      "       [6.7, 3.1, 4.7, 1.5],\n",
      "       [6.3, 2.3, 4.4, 1.3],\n",
      "       [5.6, 3. , 4.1, 1.3],\n",
      "       [5.5, 2.5, 4. , 1.3],\n",
      "       [5.5, 2.6, 4.4, 1.2],\n",
      "       [6.1, 3. , 4.6, 1.4],\n",
      "       [5.8, 2.6, 4. , 1.2],\n",
      "       [5. , 2.3, 3.3, 1. ],\n",
      "       [5.6, 2.7, 4.2, 1.3],\n",
      "       [5.7, 3. , 4.2, 1.2],\n",
      "       [5.7, 2.9, 4.2, 1.3],\n",
      "       [6.2, 2.9, 4.3, 1.3],\n",
      "       [5.1, 2.5, 3. , 1.1],\n",
      "       [5.7, 2.8, 4.1, 1.3],\n",
      "       [6.3, 3.3, 6. , 2.5],\n",
      "       [5.8, 2.7, 5.1, 1.9],\n",
      "       [7.1, 3. , 5.9, 2.1],\n",
      "       [6.3, 2.9, 5.6, 1.8],\n",
      "       [6.5, 3. , 5.8, 2.2],\n",
      "       [7.6, 3. , 6.6, 2.1],\n",
      "       [4.9, 2.5, 4.5, 1.7],\n",
      "       [7.3, 2.9, 6.3, 1.8],\n",
      "       [6.7, 2.5, 5.8, 1.8],\n",
      "       [7.2, 3.6, 6.1, 2.5],\n",
      "       [6.5, 3.2, 5.1, 2. ],\n",
      "       [6.4, 2.7, 5.3, 1.9],\n",
      "       [6.8, 3. , 5.5, 2.1],\n",
      "       [5.7, 2.5, 5. , 2. ],\n",
      "       [5.8, 2.8, 5.1, 2.4],\n",
      "       [6.4, 3.2, 5.3, 2.3],\n",
      "       [6.5, 3. , 5.5, 1.8],\n",
      "       [7.7, 3.8, 6.7, 2.2],\n",
      "       [7.7, 2.6, 6.9, 2.3],\n",
      "       [6. , 2.2, 5. , 1.5],\n",
      "       [6.9, 3.2, 5.7, 2.3],\n",
      "       [5.6, 2.8, 4.9, 2. ],\n",
      "       [7.7, 2.8, 6.7, 2. ],\n",
      "       [6.3, 2.7, 4.9, 1.8],\n",
      "       [6.7, 3.3, 5.7, 2.1],\n",
      "       [7.2, 3.2, 6. , 1.8],\n",
      "       [6.2, 2.8, 4.8, 1.8],\n",
      "       [6.1, 3. , 4.9, 1.8],\n",
      "       [6.4, 2.8, 5.6, 2.1],\n",
      "       [7.2, 3. , 5.8, 1.6],\n",
      "       [7.4, 2.8, 6.1, 1.9],\n",
      "       [7.9, 3.8, 6.4, 2. ],\n",
      "       [6.4, 2.8, 5.6, 2.2],\n",
      "       [6.3, 2.8, 5.1, 1.5],\n",
      "       [6.1, 2.6, 5.6, 1.4],\n",
      "       [7.7, 3. , 6.1, 2.3],\n",
      "       [6.3, 3.4, 5.6, 2.4],\n",
      "       [6.4, 3.1, 5.5, 1.8],\n",
      "       [6. , 3. , 4.8, 1.8],\n",
      "       [6.9, 3.1, 5.4, 2.1],\n",
      "       [6.7, 3.1, 5.6, 2.4],\n",
      "       [6.9, 3.1, 5.1, 2.3],\n",
      "       [5.8, 2.7, 5.1, 1.9],\n",
      "       [6.8, 3.2, 5.9, 2.3],\n",
      "       [6.7, 3.3, 5.7, 2.5],\n",
      "       [6.7, 3. , 5.2, 2.3],\n",
      "       [6.3, 2.5, 5. , 1.9],\n",
      "       [6.5, 3. , 5.2, 2. ],\n",
      "       [6.2, 3.4, 5.4, 2.3],\n",
      "       [5.9, 3. , 5.1, 1.8]]), 'target': array([0, 0, 0, 0, 0, 0, 0, 0, 0, 0, 0, 0, 0, 0, 0, 0, 0, 0, 0, 0, 0, 0,\n",
      "       0, 0, 0, 0, 0, 0, 0, 0, 0, 0, 0, 0, 0, 0, 0, 0, 0, 0, 0, 0, 0, 0,\n",
      "       0, 0, 0, 0, 0, 0, 1, 1, 1, 1, 1, 1, 1, 1, 1, 1, 1, 1, 1, 1, 1, 1,\n",
      "       1, 1, 1, 1, 1, 1, 1, 1, 1, 1, 1, 1, 1, 1, 1, 1, 1, 1, 1, 1, 1, 1,\n",
      "       1, 1, 1, 1, 1, 1, 1, 1, 1, 1, 1, 1, 2, 2, 2, 2, 2, 2, 2, 2, 2, 2,\n",
      "       2, 2, 2, 2, 2, 2, 2, 2, 2, 2, 2, 2, 2, 2, 2, 2, 2, 2, 2, 2, 2, 2,\n",
      "       2, 2, 2, 2, 2, 2, 2, 2, 2, 2, 2, 2, 2, 2, 2, 2, 2, 2]), 'frame': None, 'target_names': array(['setosa', 'versicolor', 'virginica'], dtype='<U10'), 'DESCR': '.. _iris_dataset:\\n\\nIris plants dataset\\n--------------------\\n\\n**Data Set Characteristics:**\\n\\n:Number of Instances: 150 (50 in each of three classes)\\n:Number of Attributes: 4 numeric, predictive attributes and the class\\n:Attribute Information:\\n    - sepal length in cm\\n    - sepal width in cm\\n    - petal length in cm\\n    - petal width in cm\\n    - class:\\n            - Iris-Setosa\\n            - Iris-Versicolour\\n            - Iris-Virginica\\n\\n:Summary Statistics:\\n\\n============== ==== ==== ======= ===== ====================\\n                Min  Max   Mean    SD   Class Correlation\\n============== ==== ==== ======= ===== ====================\\nsepal length:   4.3  7.9   5.84   0.83    0.7826\\nsepal width:    2.0  4.4   3.05   0.43   -0.4194\\npetal length:   1.0  6.9   3.76   1.76    0.9490  (high!)\\npetal width:    0.1  2.5   1.20   0.76    0.9565  (high!)\\n============== ==== ==== ======= ===== ====================\\n\\n:Missing Attribute Values: None\\n:Class Distribution: 33.3% for each of 3 classes.\\n:Creator: R.A. Fisher\\n:Donor: Michael Marshall (MARSHALL%PLU@io.arc.nasa.gov)\\n:Date: July, 1988\\n\\nThe famous Iris database, first used by Sir R.A. Fisher. The dataset is taken\\nfrom Fisher\\'s paper. Note that it\\'s the same as in R, but not as in the UCI\\nMachine Learning Repository, which has two wrong data points.\\n\\nThis is perhaps the best known database to be found in the\\npattern recognition literature.  Fisher\\'s paper is a classic in the field and\\nis referenced frequently to this day.  (See Duda & Hart, for example.)  The\\ndata set contains 3 classes of 50 instances each, where each class refers to a\\ntype of iris plant.  One class is linearly separable from the other 2; the\\nlatter are NOT linearly separable from each other.\\n\\n.. dropdown:: References\\n\\n  - Fisher, R.A. \"The use of multiple measurements in taxonomic problems\"\\n    Annual Eugenics, 7, Part II, 179-188 (1936); also in \"Contributions to\\n    Mathematical Statistics\" (John Wiley, NY, 1950).\\n  - Duda, R.O., & Hart, P.E. (1973) Pattern Classification and Scene Analysis.\\n    (Q327.D83) John Wiley & Sons.  ISBN 0-471-22361-1.  See page 218.\\n  - Dasarathy, B.V. (1980) \"Nosing Around the Neighborhood: A New System\\n    Structure and Classification Rule for Recognition in Partially Exposed\\n    Environments\".  IEEE Transactions on Pattern Analysis and Machine\\n    Intelligence, Vol. PAMI-2, No. 1, 67-71.\\n  - Gates, G.W. (1972) \"The Reduced Nearest Neighbor Rule\".  IEEE Transactions\\n    on Information Theory, May 1972, 431-433.\\n  - See also: 1988 MLC Proceedings, 54-64.  Cheeseman et al\"s AUTOCLASS II\\n    conceptual clustering system finds 3 classes in the data.\\n  - Many, many more ...\\n', 'feature_names': ['sepal length (cm)', 'sepal width (cm)', 'petal length (cm)', 'petal width (cm)'], 'filename': 'iris.csv', 'data_module': 'sklearn.datasets.data'}\n"
     ]
    }
   ],
   "execution_count": 1
  },
  {
   "metadata": {},
   "cell_type": "markdown",
   "source": "",
   "id": "748309b7579d1164"
  },
  {
   "metadata": {},
   "cell_type": "markdown",
   "source": [
    "    2.1.2 sklearn大数据集\n",
    "        sklearn.datasets.fetch_20newsgroups(data_home=None, subset=\"train\")\n",
    "        参数：subset:\"train\"、\"test\"、\"all\"    可选，选择要加载的数据集\n",
    "             训练集的“训练”，测试集的“测试”，两者的“全部”"
   ],
   "id": "6bafb260812d4896"
  },
  {
   "metadata": {},
   "cell_type": "markdown",
   "source": [
    "    2.2 sklearn数据集返回值介绍\n",
    "        load和fetch返回的数据类型datasets.base.Bunch（字典样式）\n",
    "            （1）data：特征数据数组，是[n_asmples * n_features]的二维numpy.ndarray数组\n",
    "            （2）target：标签数组，是n_samples的一维numpy.ndarray数组\n",
    "            （3）DESCR：数据描述\n",
    "            （4）feature_names：特征名\n",
    "            （5）target_names：标签名"
   ],
   "id": "9c2e8d4f0e425b6d"
  },
  {
   "metadata": {
    "ExecuteTime": {
     "end_time": "2024-07-05T16:20:28.506765Z",
     "start_time": "2024-07-05T16:20:28.491762Z"
    }
   },
   "cell_type": "code",
   "source": [
    "# 获取数据集特征值\n",
    "iris.data"
   ],
   "id": "9e8e4607322b2633",
   "outputs": [
    {
     "data": {
      "text/plain": [
       "array([[5.1, 3.5, 1.4, 0.2],\n",
       "       [4.9, 3. , 1.4, 0.2],\n",
       "       [4.7, 3.2, 1.3, 0.2],\n",
       "       [4.6, 3.1, 1.5, 0.2],\n",
       "       [5. , 3.6, 1.4, 0.2],\n",
       "       [5.4, 3.9, 1.7, 0.4],\n",
       "       [4.6, 3.4, 1.4, 0.3],\n",
       "       [5. , 3.4, 1.5, 0.2],\n",
       "       [4.4, 2.9, 1.4, 0.2],\n",
       "       [4.9, 3.1, 1.5, 0.1],\n",
       "       [5.4, 3.7, 1.5, 0.2],\n",
       "       [4.8, 3.4, 1.6, 0.2],\n",
       "       [4.8, 3. , 1.4, 0.1],\n",
       "       [4.3, 3. , 1.1, 0.1],\n",
       "       [5.8, 4. , 1.2, 0.2],\n",
       "       [5.7, 4.4, 1.5, 0.4],\n",
       "       [5.4, 3.9, 1.3, 0.4],\n",
       "       [5.1, 3.5, 1.4, 0.3],\n",
       "       [5.7, 3.8, 1.7, 0.3],\n",
       "       [5.1, 3.8, 1.5, 0.3],\n",
       "       [5.4, 3.4, 1.7, 0.2],\n",
       "       [5.1, 3.7, 1.5, 0.4],\n",
       "       [4.6, 3.6, 1. , 0.2],\n",
       "       [5.1, 3.3, 1.7, 0.5],\n",
       "       [4.8, 3.4, 1.9, 0.2],\n",
       "       [5. , 3. , 1.6, 0.2],\n",
       "       [5. , 3.4, 1.6, 0.4],\n",
       "       [5.2, 3.5, 1.5, 0.2],\n",
       "       [5.2, 3.4, 1.4, 0.2],\n",
       "       [4.7, 3.2, 1.6, 0.2],\n",
       "       [4.8, 3.1, 1.6, 0.2],\n",
       "       [5.4, 3.4, 1.5, 0.4],\n",
       "       [5.2, 4.1, 1.5, 0.1],\n",
       "       [5.5, 4.2, 1.4, 0.2],\n",
       "       [4.9, 3.1, 1.5, 0.2],\n",
       "       [5. , 3.2, 1.2, 0.2],\n",
       "       [5.5, 3.5, 1.3, 0.2],\n",
       "       [4.9, 3.6, 1.4, 0.1],\n",
       "       [4.4, 3. , 1.3, 0.2],\n",
       "       [5.1, 3.4, 1.5, 0.2],\n",
       "       [5. , 3.5, 1.3, 0.3],\n",
       "       [4.5, 2.3, 1.3, 0.3],\n",
       "       [4.4, 3.2, 1.3, 0.2],\n",
       "       [5. , 3.5, 1.6, 0.6],\n",
       "       [5.1, 3.8, 1.9, 0.4],\n",
       "       [4.8, 3. , 1.4, 0.3],\n",
       "       [5.1, 3.8, 1.6, 0.2],\n",
       "       [4.6, 3.2, 1.4, 0.2],\n",
       "       [5.3, 3.7, 1.5, 0.2],\n",
       "       [5. , 3.3, 1.4, 0.2],\n",
       "       [7. , 3.2, 4.7, 1.4],\n",
       "       [6.4, 3.2, 4.5, 1.5],\n",
       "       [6.9, 3.1, 4.9, 1.5],\n",
       "       [5.5, 2.3, 4. , 1.3],\n",
       "       [6.5, 2.8, 4.6, 1.5],\n",
       "       [5.7, 2.8, 4.5, 1.3],\n",
       "       [6.3, 3.3, 4.7, 1.6],\n",
       "       [4.9, 2.4, 3.3, 1. ],\n",
       "       [6.6, 2.9, 4.6, 1.3],\n",
       "       [5.2, 2.7, 3.9, 1.4],\n",
       "       [5. , 2. , 3.5, 1. ],\n",
       "       [5.9, 3. , 4.2, 1.5],\n",
       "       [6. , 2.2, 4. , 1. ],\n",
       "       [6.1, 2.9, 4.7, 1.4],\n",
       "       [5.6, 2.9, 3.6, 1.3],\n",
       "       [6.7, 3.1, 4.4, 1.4],\n",
       "       [5.6, 3. , 4.5, 1.5],\n",
       "       [5.8, 2.7, 4.1, 1. ],\n",
       "       [6.2, 2.2, 4.5, 1.5],\n",
       "       [5.6, 2.5, 3.9, 1.1],\n",
       "       [5.9, 3.2, 4.8, 1.8],\n",
       "       [6.1, 2.8, 4. , 1.3],\n",
       "       [6.3, 2.5, 4.9, 1.5],\n",
       "       [6.1, 2.8, 4.7, 1.2],\n",
       "       [6.4, 2.9, 4.3, 1.3],\n",
       "       [6.6, 3. , 4.4, 1.4],\n",
       "       [6.8, 2.8, 4.8, 1.4],\n",
       "       [6.7, 3. , 5. , 1.7],\n",
       "       [6. , 2.9, 4.5, 1.5],\n",
       "       [5.7, 2.6, 3.5, 1. ],\n",
       "       [5.5, 2.4, 3.8, 1.1],\n",
       "       [5.5, 2.4, 3.7, 1. ],\n",
       "       [5.8, 2.7, 3.9, 1.2],\n",
       "       [6. , 2.7, 5.1, 1.6],\n",
       "       [5.4, 3. , 4.5, 1.5],\n",
       "       [6. , 3.4, 4.5, 1.6],\n",
       "       [6.7, 3.1, 4.7, 1.5],\n",
       "       [6.3, 2.3, 4.4, 1.3],\n",
       "       [5.6, 3. , 4.1, 1.3],\n",
       "       [5.5, 2.5, 4. , 1.3],\n",
       "       [5.5, 2.6, 4.4, 1.2],\n",
       "       [6.1, 3. , 4.6, 1.4],\n",
       "       [5.8, 2.6, 4. , 1.2],\n",
       "       [5. , 2.3, 3.3, 1. ],\n",
       "       [5.6, 2.7, 4.2, 1.3],\n",
       "       [5.7, 3. , 4.2, 1.2],\n",
       "       [5.7, 2.9, 4.2, 1.3],\n",
       "       [6.2, 2.9, 4.3, 1.3],\n",
       "       [5.1, 2.5, 3. , 1.1],\n",
       "       [5.7, 2.8, 4.1, 1.3],\n",
       "       [6.3, 3.3, 6. , 2.5],\n",
       "       [5.8, 2.7, 5.1, 1.9],\n",
       "       [7.1, 3. , 5.9, 2.1],\n",
       "       [6.3, 2.9, 5.6, 1.8],\n",
       "       [6.5, 3. , 5.8, 2.2],\n",
       "       [7.6, 3. , 6.6, 2.1],\n",
       "       [4.9, 2.5, 4.5, 1.7],\n",
       "       [7.3, 2.9, 6.3, 1.8],\n",
       "       [6.7, 2.5, 5.8, 1.8],\n",
       "       [7.2, 3.6, 6.1, 2.5],\n",
       "       [6.5, 3.2, 5.1, 2. ],\n",
       "       [6.4, 2.7, 5.3, 1.9],\n",
       "       [6.8, 3. , 5.5, 2.1],\n",
       "       [5.7, 2.5, 5. , 2. ],\n",
       "       [5.8, 2.8, 5.1, 2.4],\n",
       "       [6.4, 3.2, 5.3, 2.3],\n",
       "       [6.5, 3. , 5.5, 1.8],\n",
       "       [7.7, 3.8, 6.7, 2.2],\n",
       "       [7.7, 2.6, 6.9, 2.3],\n",
       "       [6. , 2.2, 5. , 1.5],\n",
       "       [6.9, 3.2, 5.7, 2.3],\n",
       "       [5.6, 2.8, 4.9, 2. ],\n",
       "       [7.7, 2.8, 6.7, 2. ],\n",
       "       [6.3, 2.7, 4.9, 1.8],\n",
       "       [6.7, 3.3, 5.7, 2.1],\n",
       "       [7.2, 3.2, 6. , 1.8],\n",
       "       [6.2, 2.8, 4.8, 1.8],\n",
       "       [6.1, 3. , 4.9, 1.8],\n",
       "       [6.4, 2.8, 5.6, 2.1],\n",
       "       [7.2, 3. , 5.8, 1.6],\n",
       "       [7.4, 2.8, 6.1, 1.9],\n",
       "       [7.9, 3.8, 6.4, 2. ],\n",
       "       [6.4, 2.8, 5.6, 2.2],\n",
       "       [6.3, 2.8, 5.1, 1.5],\n",
       "       [6.1, 2.6, 5.6, 1.4],\n",
       "       [7.7, 3. , 6.1, 2.3],\n",
       "       [6.3, 3.4, 5.6, 2.4],\n",
       "       [6.4, 3.1, 5.5, 1.8],\n",
       "       [6. , 3. , 4.8, 1.8],\n",
       "       [6.9, 3.1, 5.4, 2.1],\n",
       "       [6.7, 3.1, 5.6, 2.4],\n",
       "       [6.9, 3.1, 5.1, 2.3],\n",
       "       [5.8, 2.7, 5.1, 1.9],\n",
       "       [6.8, 3.2, 5.9, 2.3],\n",
       "       [6.7, 3.3, 5.7, 2.5],\n",
       "       [6.7, 3. , 5.2, 2.3],\n",
       "       [6.3, 2.5, 5. , 1.9],\n",
       "       [6.5, 3. , 5.2, 2. ],\n",
       "       [6.2, 3.4, 5.4, 2.3],\n",
       "       [5.9, 3. , 5.1, 1.8]])"
      ]
     },
     "execution_count": 2,
     "metadata": {},
     "output_type": "execute_result"
    }
   ],
   "execution_count": 2
  },
  {
   "metadata": {
    "ExecuteTime": {
     "end_time": "2024-07-05T16:21:18.446972Z",
     "start_time": "2024-07-05T16:21:18.429816Z"
    }
   },
   "cell_type": "code",
   "source": [
    "# 获取数据集目标值\n",
    "iris[\"target\"]"
   ],
   "id": "c585b37c86ae96d3",
   "outputs": [
    {
     "data": {
      "text/plain": [
       "array([0, 0, 0, 0, 0, 0, 0, 0, 0, 0, 0, 0, 0, 0, 0, 0, 0, 0, 0, 0, 0, 0,\n",
       "       0, 0, 0, 0, 0, 0, 0, 0, 0, 0, 0, 0, 0, 0, 0, 0, 0, 0, 0, 0, 0, 0,\n",
       "       0, 0, 0, 0, 0, 0, 1, 1, 1, 1, 1, 1, 1, 1, 1, 1, 1, 1, 1, 1, 1, 1,\n",
       "       1, 1, 1, 1, 1, 1, 1, 1, 1, 1, 1, 1, 1, 1, 1, 1, 1, 1, 1, 1, 1, 1,\n",
       "       1, 1, 1, 1, 1, 1, 1, 1, 1, 1, 1, 1, 2, 2, 2, 2, 2, 2, 2, 2, 2, 2,\n",
       "       2, 2, 2, 2, 2, 2, 2, 2, 2, 2, 2, 2, 2, 2, 2, 2, 2, 2, 2, 2, 2, 2,\n",
       "       2, 2, 2, 2, 2, 2, 2, 2, 2, 2, 2, 2, 2, 2, 2, 2, 2, 2])"
      ]
     },
     "execution_count": 3,
     "metadata": {},
     "output_type": "execute_result"
    }
   ],
   "execution_count": 3
  },
  {
   "metadata": {
    "ExecuteTime": {
     "end_time": "2024-07-05T16:23:09.693936Z",
     "start_time": "2024-07-05T16:23:09.679745Z"
    }
   },
   "cell_type": "code",
   "source": [
    "# 获取数据集特征值名称\n",
    "iris.feature_names"
   ],
   "id": "6d07b40157ee1f02",
   "outputs": [
    {
     "data": {
      "text/plain": [
       "['sepal length (cm)',\n",
       " 'sepal width (cm)',\n",
       " 'petal length (cm)',\n",
       " 'petal width (cm)']"
      ]
     },
     "execution_count": 4,
     "metadata": {},
     "output_type": "execute_result"
    }
   ],
   "execution_count": 4
  },
  {
   "metadata": {
    "ExecuteTime": {
     "end_time": "2024-07-05T16:23:11.746306Z",
     "start_time": "2024-07-05T16:23:11.733671Z"
    }
   },
   "cell_type": "code",
   "source": [
    "# 获取数据集目标值名称\n",
    "iris.target_names"
   ],
   "id": "5a39af9bb6b8632a",
   "outputs": [
    {
     "data": {
      "text/plain": [
       "array(['setosa', 'versicolor', 'virginica'], dtype='<U10')"
      ]
     },
     "execution_count": 5,
     "metadata": {},
     "output_type": "execute_result"
    }
   ],
   "execution_count": 5
  },
  {
   "metadata": {
    "ExecuteTime": {
     "end_time": "2024-07-05T16:23:13.379426Z",
     "start_time": "2024-07-05T16:23:13.364969Z"
    }
   },
   "cell_type": "code",
   "source": [
    "# 获取数据集描述信息\n",
    "iris.DESCR"
   ],
   "id": "b1bafc1410d116ed",
   "outputs": [
    {
     "data": {
      "text/plain": [
       "'.. _iris_dataset:\\n\\nIris plants dataset\\n--------------------\\n\\n**Data Set Characteristics:**\\n\\n:Number of Instances: 150 (50 in each of three classes)\\n:Number of Attributes: 4 numeric, predictive attributes and the class\\n:Attribute Information:\\n    - sepal length in cm\\n    - sepal width in cm\\n    - petal length in cm\\n    - petal width in cm\\n    - class:\\n            - Iris-Setosa\\n            - Iris-Versicolour\\n            - Iris-Virginica\\n\\n:Summary Statistics:\\n\\n============== ==== ==== ======= ===== ====================\\n                Min  Max   Mean    SD   Class Correlation\\n============== ==== ==== ======= ===== ====================\\nsepal length:   4.3  7.9   5.84   0.83    0.7826\\nsepal width:    2.0  4.4   3.05   0.43   -0.4194\\npetal length:   1.0  6.9   3.76   1.76    0.9490  (high!)\\npetal width:    0.1  2.5   1.20   0.76    0.9565  (high!)\\n============== ==== ==== ======= ===== ====================\\n\\n:Missing Attribute Values: None\\n:Class Distribution: 33.3% for each of 3 classes.\\n:Creator: R.A. Fisher\\n:Donor: Michael Marshall (MARSHALL%PLU@io.arc.nasa.gov)\\n:Date: July, 1988\\n\\nThe famous Iris database, first used by Sir R.A. Fisher. The dataset is taken\\nfrom Fisher\\'s paper. Note that it\\'s the same as in R, but not as in the UCI\\nMachine Learning Repository, which has two wrong data points.\\n\\nThis is perhaps the best known database to be found in the\\npattern recognition literature.  Fisher\\'s paper is a classic in the field and\\nis referenced frequently to this day.  (See Duda & Hart, for example.)  The\\ndata set contains 3 classes of 50 instances each, where each class refers to a\\ntype of iris plant.  One class is linearly separable from the other 2; the\\nlatter are NOT linearly separable from each other.\\n\\n.. dropdown:: References\\n\\n  - Fisher, R.A. \"The use of multiple measurements in taxonomic problems\"\\n    Annual Eugenics, 7, Part II, 179-188 (1936); also in \"Contributions to\\n    Mathematical Statistics\" (John Wiley, NY, 1950).\\n  - Duda, R.O., & Hart, P.E. (1973) Pattern Classification and Scene Analysis.\\n    (Q327.D83) John Wiley & Sons.  ISBN 0-471-22361-1.  See page 218.\\n  - Dasarathy, B.V. (1980) \"Nosing Around the Neighborhood: A New System\\n    Structure and Classification Rule for Recognition in Partially Exposed\\n    Environments\".  IEEE Transactions on Pattern Analysis and Machine\\n    Intelligence, Vol. PAMI-2, No. 1, 67-71.\\n  - Gates, G.W. (1972) \"The Reduced Nearest Neighbor Rule\".  IEEE Transactions\\n    on Information Theory, May 1972, 431-433.\\n  - See also: 1988 MLC Proceedings, 54-64.  Cheeseman et al\"s AUTOCLASS II\\n    conceptual clustering system finds 3 classes in the data.\\n  - Many, many more ...\\n'"
      ]
     },
     "execution_count": 6,
     "metadata": {},
     "output_type": "execute_result"
    }
   ],
   "execution_count": 6
  },
  {
   "metadata": {},
   "cell_type": "markdown",
   "source": "数据集数据可视化",
   "id": "ae4e095da255bb0a"
  },
  {
   "metadata": {},
   "cell_type": "markdown",
   "source": [
    "    2.3 查看数据分布\n",
    "        通过创建一些图,以查看不同类别是如何通过特征来区分的。在这些理想情况下，标签类\n",
    "    将由一个或者多个特征对完美分隔。在现实世界中，这种理想情况很少发生。\n",
    "        seaborn介绍\n",
    "            （1）Seaborn是基于Matplotlib核心库进行了更高级的API封装，可以轻松地\n",
    "                画出更漂亮的图形。而Seaborn的漂亮主要体现在配色更舒服，以及图形元\n",
    "                素的样式更加细腻。\n",
    "            （2）安装：pip install seaborn\n",
    "            （3）seaborn.implot()\n",
    "                是一个非常有用的方法，它会在绘制二维散点图时，自动完成回归拟合\n",
    "                （3.1）sns.implot()中的x，y分别代表横纵坐标的别名\n",
    "                （3.2）data：是关联到数据集\n",
    "                （3.3）hue：代表按照species，即花的列别分类显示\n",
    "                （3.4）fit_reg：是否进行线性拟合"
   ],
   "id": "17fa7c393012f4f9"
  },
  {
   "metadata": {
    "ExecuteTime": {
     "end_time": "2024-07-05T16:52:12.740080Z",
     "start_time": "2024-07-05T16:52:12.722837Z"
    }
   },
   "cell_type": "code",
   "source": [
    "from sklearn.datasets import load_iris\n",
    "import seaborn as sns\n",
    "import matplotlib.pyplot as plt\n",
    "import pandas as pd\n",
    "\n",
    "# 构造数据\n",
    "iris = load_iris()\n",
    "iris_data = pd.DataFrame(\n",
    "    data = iris.data,\n",
    "    columns = ['Sepal_Length','Sepal_Width','Petal_Length', 'Petal_Width']\n",
    ")\n",
    "iris_data['target'] = iris.target\n",
    "# print(iris_data)\n",
    "\n",
    "# 绘图函数\n",
    "def iris_plat(data, col1, col2):\n",
    "    sns.lmplot(x=col1, y=col2, data=data, hue=\"target\", fit_reg=False)\n",
    "    # plt.title(\"鸢尾花数据可视化\")\n",
    "    plt.show()"
   ],
   "id": "14fdff231b279f2d",
   "outputs": [],
   "execution_count": 27
  },
  {
   "metadata": {
    "ExecuteTime": {
     "end_time": "2024-07-05T16:52:15.449192Z",
     "start_time": "2024-07-05T16:52:14.962472Z"
    }
   },
   "cell_type": "code",
   "source": "iris_plat(iris_data, \"Sepal_Width\", \"Sepal_Length\")",
   "id": "697f549c79e3fdb",
   "outputs": [
    {
     "data": {
      "text/plain": [
       "<Figure size 558.875x500 with 1 Axes>"
      ],
      "image/png": "[encoded data removed]"
     },
     "metadata": {},
     "output_type": "display_data"
    }
   ],
   "execution_count": 28
  },
  {
   "metadata": {
    "ExecuteTime": {
     "end_time": "2024-07-05T16:52:16.857328Z",
     "start_time": "2024-07-05T16:52:16.359443Z"
    }
   },
   "cell_type": "code",
   "source": "iris_plat(iris_data, \"Sepal_Width\", \"Petal_Width\")",
   "id": "c61ffd9e0988e427",
   "outputs": [
    {
     "data": {
      "text/plain": [
       "<Figure size 558.875x500 with 1 Axes>"
      ],
      "image/png": "[encoded data removed]"
     },
     "metadata": {},
     "output_type": "display_data"
    }
   ],
   "execution_count": 29
  },
  {
   "metadata": {},
   "cell_type": "markdown",
   "source": "数据集的划分",
   "id": "9261f85a918e7d77"
  },
  {
   "metadata": {},
   "cell_type": "markdown",
   "source": [
    "    机器学习一般的数据集会划分为两个部分\n",
    "        训练数据：用于训练，构建模型\n",
    "        测试数据：在模型检验时使用，用于评估模型\n",
    "    比例划分：\n",
    "        训练集：70% 80% 75%\n",
    "        测试集：30% 20% 25%\n",
    "    数据集划分API\n",
    "        sklearn.model_selection.train_test_split(arrays,*options)\n",
    "        参数：\n",
    "            （1）x数据集的特征量\n",
    "            （2）y数据集的标签值\n",
    "            （3）test_size：测试集的大小，一般为float\n",
    "            （4）random_state：随机种子，不同的种子会造成不同的随机采样结果。相同的种子采样结果相同\n",
    "        返回值（return）：\n",
    "            x_train,x_test,y_train,y_test"
   ],
   "id": "9c60476f5f9ac327"
  },
  {
   "metadata": {
    "ExecuteTime": {
     "end_time": "2024-07-05T17:17:28.595440Z",
     "start_time": "2024-07-05T17:17:28.487109Z"
    }
   },
   "cell_type": "code",
   "source": [
    "from sklearn.datasets import  load_iris\n",
    "from sklearn.model_selection import  train_test_split\n",
    "\n",
    "# 1.获取鸢尾花数据集\n",
    "iris = load_iris()\n",
    "\n",
    "# 对鸢尾花数据集进行分割\n",
    "\"\"\"\n",
    "训练集的特征值x_train,\n",
    "测试集的特征值x_test，\n",
    "训练集的目标值：y_train，\n",
    "测试集的目标值：y_test\n",
    "\"\"\"\n",
    "x_train, x_test, y_train, y_test = train_test_split(\n",
    "    iris_data,              # 数据集\n",
    "    iris.target,            # 数据集目标值\n",
    "    test_size=0.2,          # 测试集占比20%，训练集占比80%\n",
    "    random_state=20         # 随机种子\n",
    ")\n",
    "print(\"训练集的特征值：\", x_train)\n",
    "print(\"训练集的目标值：\", y_train)\n",
    "print(\"测试集的特征值：\", x_test)\n",
    "print(\"测试集的目标值：\", y_test)\n",
    "print(\"训练集的特征值形状:\",x_train.shape)\n",
    "print(\"测试集的特征值形状:\",x_test.shape)\n",
    "\n",
    "# 随机种子\n",
    "x_train1, x_test1, y_train1, y_test1 = train_test_split(\n",
    "    iris.data, \n",
    "    iris.target,\n",
    "    random_state=6\n",
    ")\n",
    "x_train2, x_test2, y_train2, y_test2 = train_test_split(\n",
    "    iris.data, \n",
    "    iris.target,\n",
    "    random_state=6\n",
    ")\n",
    "\n",
    "print(\"如果随机种子不一致：\", x_train == x_train1)\n",
    "print(\"如果随机种子一致：\", x_train1 == x_train2)"
   ],
   "id": "cd6cd648777fdddd",
   "outputs": [
    {
     "name": "stdout",
     "output_type": "stream",
     "text": [
      "训练集的特征值：      Sepal_Length  Sepal_Width  Petal_Length  Petal_Width  target\n",
      "95            5.7          3.0           4.2          1.2       1\n",
      "88            5.6          3.0           4.1          1.3       1\n",
      "0             5.1          3.5           1.4          0.2       0\n",
      "46            5.1          3.8           1.6          0.2       0\n",
      "11            4.8          3.4           1.6          0.2       0\n",
      "..            ...          ...           ...          ...     ...\n",
      "22            4.6          3.6           1.0          0.2       0\n",
      "75            6.6          3.0           4.4          1.4       1\n",
      "137           6.4          3.1           5.5          1.8       2\n",
      "15            5.7          4.4           1.5          0.4       0\n",
      "99            5.7          2.8           4.1          1.3       1\n",
      "\n",
      "[120 rows x 5 columns]\n",
      "训练集的目标值： [1 1 0 0 0 2 1 0 1 2 1 2 0 1 1 0 0 0 2 0 2 2 0 2 1 1 1 0 0 1 1 1 1 1 1 1 0\n",
      " 1 1 0 0 1 1 1 0 0 2 0 0 1 2 2 2 2 2 2 1 2 2 2 0 2 0 0 0 2 1 1 2 2 1 0 2 0\n",
      " 1 2 0 1 1 2 0 0 2 2 1 1 1 2 2 0 2 0 1 0 0 2 2 2 0 0 2 1 1 2 0 2 0 0 2 2 0\n",
      " 0 0 2 1 0 1 2 0 1]\n",
      "测试集的特征值：      Sepal_Length  Sepal_Width  Petal_Length  Petal_Width  target\n",
      "47            4.6          3.2           1.4          0.2       0\n",
      "73            6.1          2.8           4.7          1.2       1\n",
      "74            6.4          2.9           4.3          1.3       1\n",
      "129           7.2          3.0           5.8          1.6       2\n",
      "67            5.8          2.7           4.1          1.0       1\n",
      "89            5.5          2.5           4.0          1.3       1\n",
      "143           6.8          3.2           5.9          2.3       2\n",
      "21            5.1          3.7           1.5          0.4       0\n",
      "108           6.7          2.5           5.8          1.8       2\n",
      "12            4.8          3.0           1.4          0.1       0\n",
      "147           6.5          3.0           5.2          2.0       2\n",
      "76            6.8          2.8           4.8          1.4       1\n",
      "119           6.0          2.2           5.0          1.5       2\n",
      "35            5.0          3.2           1.2          0.2       0\n",
      "28            5.2          3.4           1.4          0.2       0\n",
      "122           7.7          2.8           6.7          2.0       2\n",
      "13            4.3          3.0           1.1          0.1       0\n",
      "58            6.6          2.9           4.6          1.3       1\n",
      "114           5.8          2.8           5.1          2.4       2\n",
      "57            4.9          2.4           3.3          1.0       1\n",
      "50            7.0          3.2           4.7          1.4       1\n",
      "149           5.9          3.0           5.1          1.8       2\n",
      "111           6.4          2.7           5.3          1.9       2\n",
      "20            5.4          3.4           1.7          0.2       0\n",
      "72            6.3          2.5           4.9          1.5       1\n",
      "81            5.5          2.4           3.7          1.0       1\n",
      "98            5.1          2.5           3.0          1.1       1\n",
      "34            4.9          3.1           1.5          0.2       0\n",
      "104           6.5          3.0           5.8          2.2       2\n",
      "133           6.3          2.8           5.1          1.5       2\n",
      "测试集的目标值： [0 1 1 2 1 1 2 0 2 0 2 1 2 0 0 2 0 1 2 1 1 2 2 0 1 1 1 0 2 2]\n",
      "训练集的特征值形状: (120, 5)\n",
      "测试集的特征值形状: (30, 5)\n"
     ]
    },
    {
     "ename": "ValueError",
     "evalue": "Unable to coerce to DataFrame, shape must be (120, 5): given (112, 4)",
     "output_type": "error",
     "traceback": [
      "\u001B[1;31m---------------------------------------------------------------------------\u001B[0m",
      "\u001B[1;31mValueError\u001B[0m                                Traceback (most recent call last)",
      "Cell \u001B[1;32mIn[31], line 39\u001B[0m\n\u001B[0;32m     28\u001B[0m x_train1, x_test1, y_train1, y_test1 \u001B[38;5;241m=\u001B[39m train_test_split(\n\u001B[0;32m     29\u001B[0m     iris\u001B[38;5;241m.\u001B[39mdata, \n\u001B[0;32m     30\u001B[0m     iris\u001B[38;5;241m.\u001B[39mtarget,\n\u001B[0;32m     31\u001B[0m     random_state\u001B[38;5;241m=\u001B[39m\u001B[38;5;241m6\u001B[39m\n\u001B[0;32m     32\u001B[0m )\n\u001B[0;32m     33\u001B[0m x_train2, x_test2, y_train2, y_test2 \u001B[38;5;241m=\u001B[39m train_test_split(\n\u001B[0;32m     34\u001B[0m     iris\u001B[38;5;241m.\u001B[39mdata, \n\u001B[0;32m     35\u001B[0m     iris\u001B[38;5;241m.\u001B[39mtarget,\n\u001B[0;32m     36\u001B[0m     random_state\u001B[38;5;241m=\u001B[39m\u001B[38;5;241m6\u001B[39m\n\u001B[0;32m     37\u001B[0m )\n\u001B[1;32m---> 39\u001B[0m \u001B[38;5;28mprint\u001B[39m(\u001B[38;5;124m\"\u001B[39m\u001B[38;5;124m如果随机种子不一致：\u001B[39m\u001B[38;5;124m\"\u001B[39m, \u001B[43mx_train\u001B[49m\u001B[43m \u001B[49m\u001B[38;5;241;43m==\u001B[39;49m\u001B[43m \u001B[49m\u001B[43mx_train1\u001B[49m)\n\u001B[0;32m     40\u001B[0m \u001B[38;5;28mprint\u001B[39m(\u001B[38;5;124m\"\u001B[39m\u001B[38;5;124m如果随机种子一致：\u001B[39m\u001B[38;5;124m\"\u001B[39m, x_train1 \u001B[38;5;241m==\u001B[39m x_train2)\n",
      "File \u001B[1;32mD:\\study\\AI\\Machine_learning\\ML_Study\\venv\\Lib\\site-packages\\pandas\\core\\ops\\common.py:76\u001B[0m, in \u001B[0;36m_unpack_zerodim_and_defer.<locals>.new_method\u001B[1;34m(self, other)\u001B[0m\n\u001B[0;32m     72\u001B[0m             \u001B[38;5;28;01mreturn\u001B[39;00m \u001B[38;5;28mNotImplemented\u001B[39m\n\u001B[0;32m     74\u001B[0m other \u001B[38;5;241m=\u001B[39m item_from_zerodim(other)\n\u001B[1;32m---> 76\u001B[0m \u001B[38;5;28;01mreturn\u001B[39;00m \u001B[43mmethod\u001B[49m\u001B[43m(\u001B[49m\u001B[38;5;28;43mself\u001B[39;49m\u001B[43m,\u001B[49m\u001B[43m \u001B[49m\u001B[43mother\u001B[49m\u001B[43m)\u001B[49m\n",
      "File \u001B[1;32mD:\\study\\AI\\Machine_learning\\ML_Study\\venv\\Lib\\site-packages\\pandas\\core\\arraylike.py:40\u001B[0m, in \u001B[0;36mOpsMixin.__eq__\u001B[1;34m(self, other)\u001B[0m\n\u001B[0;32m     38\u001B[0m \u001B[38;5;129m@unpack_zerodim_and_defer\u001B[39m(\u001B[38;5;124m\"\u001B[39m\u001B[38;5;124m__eq__\u001B[39m\u001B[38;5;124m\"\u001B[39m)\n\u001B[0;32m     39\u001B[0m \u001B[38;5;28;01mdef\u001B[39;00m \u001B[38;5;21m__eq__\u001B[39m(\u001B[38;5;28mself\u001B[39m, other):\n\u001B[1;32m---> 40\u001B[0m     \u001B[38;5;28;01mreturn\u001B[39;00m \u001B[38;5;28;43mself\u001B[39;49m\u001B[38;5;241;43m.\u001B[39;49m\u001B[43m_cmp_method\u001B[49m\u001B[43m(\u001B[49m\u001B[43mother\u001B[49m\u001B[43m,\u001B[49m\u001B[43m \u001B[49m\u001B[43moperator\u001B[49m\u001B[38;5;241;43m.\u001B[39;49m\u001B[43meq\u001B[49m\u001B[43m)\u001B[49m\n",
      "File \u001B[1;32mD:\\study\\AI\\Machine_learning\\ML_Study\\venv\\Lib\\site-packages\\pandas\\core\\frame.py:7897\u001B[0m, in \u001B[0;36mDataFrame._cmp_method\u001B[1;34m(self, other, op)\u001B[0m\n\u001B[0;32m   7894\u001B[0m \u001B[38;5;28;01mdef\u001B[39;00m \u001B[38;5;21m_cmp_method\u001B[39m(\u001B[38;5;28mself\u001B[39m, other, op):\n\u001B[0;32m   7895\u001B[0m     axis: Literal[\u001B[38;5;241m1\u001B[39m] \u001B[38;5;241m=\u001B[39m \u001B[38;5;241m1\u001B[39m  \u001B[38;5;66;03m# only relevant for Series other case\u001B[39;00m\n\u001B[1;32m-> 7897\u001B[0m     \u001B[38;5;28mself\u001B[39m, other \u001B[38;5;241m=\u001B[39m \u001B[38;5;28;43mself\u001B[39;49m\u001B[38;5;241;43m.\u001B[39;49m\u001B[43m_align_for_op\u001B[49m\u001B[43m(\u001B[49m\u001B[43mother\u001B[49m\u001B[43m,\u001B[49m\u001B[43m \u001B[49m\u001B[43maxis\u001B[49m\u001B[43m,\u001B[49m\u001B[43m \u001B[49m\u001B[43mflex\u001B[49m\u001B[38;5;241;43m=\u001B[39;49m\u001B[38;5;28;43;01mFalse\u001B[39;49;00m\u001B[43m,\u001B[49m\u001B[43m \u001B[49m\u001B[43mlevel\u001B[49m\u001B[38;5;241;43m=\u001B[39;49m\u001B[38;5;28;43;01mNone\u001B[39;49;00m\u001B[43m)\u001B[49m\n\u001B[0;32m   7899\u001B[0m     \u001B[38;5;66;03m# See GH#4537 for discussion of scalar op behavior\u001B[39;00m\n\u001B[0;32m   7900\u001B[0m     new_data \u001B[38;5;241m=\u001B[39m \u001B[38;5;28mself\u001B[39m\u001B[38;5;241m.\u001B[39m_dispatch_frame_op(other, op, axis\u001B[38;5;241m=\u001B[39maxis)\n",
      "File \u001B[1;32mD:\\study\\AI\\Machine_learning\\ML_Study\\venv\\Lib\\site-packages\\pandas\\core\\frame.py:8169\u001B[0m, in \u001B[0;36mDataFrame._align_for_op\u001B[1;34m(self, other, axis, flex, level)\u001B[0m\n\u001B[0;32m   8166\u001B[0m         right \u001B[38;5;241m=\u001B[39m to_series(right[\u001B[38;5;241m0\u001B[39m, :])\n\u001B[0;32m   8168\u001B[0m     \u001B[38;5;28;01melse\u001B[39;00m:\n\u001B[1;32m-> 8169\u001B[0m         \u001B[38;5;28;01mraise\u001B[39;00m \u001B[38;5;167;01mValueError\u001B[39;00m(\n\u001B[0;32m   8170\u001B[0m             \u001B[38;5;124m\"\u001B[39m\u001B[38;5;124mUnable to coerce to DataFrame, shape \u001B[39m\u001B[38;5;124m\"\u001B[39m\n\u001B[0;32m   8171\u001B[0m             \u001B[38;5;124mf\u001B[39m\u001B[38;5;124m\"\u001B[39m\u001B[38;5;124mmust be \u001B[39m\u001B[38;5;132;01m{\u001B[39;00mleft\u001B[38;5;241m.\u001B[39mshape\u001B[38;5;132;01m}\u001B[39;00m\u001B[38;5;124m: given \u001B[39m\u001B[38;5;132;01m{\u001B[39;00mright\u001B[38;5;241m.\u001B[39mshape\u001B[38;5;132;01m}\u001B[39;00m\u001B[38;5;124m\"\u001B[39m\n\u001B[0;32m   8172\u001B[0m         )\n\u001B[0;32m   8174\u001B[0m \u001B[38;5;28;01melif\u001B[39;00m right\u001B[38;5;241m.\u001B[39mndim \u001B[38;5;241m>\u001B[39m \u001B[38;5;241m2\u001B[39m:\n\u001B[0;32m   8175\u001B[0m     \u001B[38;5;28;01mraise\u001B[39;00m \u001B[38;5;167;01mValueError\u001B[39;00m(\n\u001B[0;32m   8176\u001B[0m         \u001B[38;5;124m\"\u001B[39m\u001B[38;5;124mUnable to coerce to Series/DataFrame, \u001B[39m\u001B[38;5;124m\"\u001B[39m\n\u001B[0;32m   8177\u001B[0m         \u001B[38;5;124mf\u001B[39m\u001B[38;5;124m\"\u001B[39m\u001B[38;5;124mdimension must be <= 2: \u001B[39m\u001B[38;5;132;01m{\u001B[39;00mright\u001B[38;5;241m.\u001B[39mshape\u001B[38;5;132;01m}\u001B[39;00m\u001B[38;5;124m\"\u001B[39m\n\u001B[0;32m   8178\u001B[0m     )\n",
      "\u001B[1;31mValueError\u001B[0m: Unable to coerce to DataFrame, shape must be (120, 5): given (112, 4)"
     ]
    }
   ],
   "execution_count": 31
  },
  {
   "metadata": {},
   "cell_type": "markdown",
   "source": "    x---特征值    y---目标值",
   "id": "de94fa07c0ddafe2"
  }
 ],
 "metadata": {
  "kernelspec": {
   "display_name": "Python 3",
   "language": "python",
   "name": "python3"
  },
  "language_info": {
   "codemirror_mode": {
    "name": "ipython",
    "version": 2
   },
   "file_extension": ".py",
   "mimetype": "text/x-python",
   "name": "python",
   "nbconvert_exporter": "python",
   "pygments_lexer": "ipython2",
   "version": "2.7.6"
  }
 },
 "nbformat": 4,
 "nbformat_minor": 5
}
