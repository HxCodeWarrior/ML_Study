{
 "cells": [
  {
   "metadata": {},
   "cell_type": "markdown",
   "source": "k-近邻算法api初步使用",
   "id": "95642a4dddc26c48"
  },
  {
   "metadata": {},
   "cell_type": "markdown",
   "source": [
    "    复习：机器学习流程\n",
    "        用户数据---->模型计算---->在线服务\n",
    "        模型（推理）计算：\n",
    "            第一步：数据基本处理\n",
    "            第二步：特征工程\n",
    "            第三步：机器学习模型训练\n",
    "            第四步：模型评估\n",
    "                评估达到要求，模型训练的好，可以上线服务\n",
    "                评估不达要求，模型训练的不好，重复上述步骤"
   ],
   "id": "85e3a1aa2e9f0249"
  },
  {
   "metadata": {},
   "cell_type": "markdown",
   "source": [
    "    1.Scikit-learn工具介绍\n",
    "        （1）工具简介：\n",
    "                python语言的机器学习工具\n",
    "                Scikit-learn包含许多知名的机器学习算法的实现\n",
    "                Scikit-learn文档完善，容易上手，有丰富的API\n",
    "        （1）安装（推荐在之前搭建的虚拟环境中安装）\n",
    "             pip install sciki-learn == 1.5.1\n",
    "             检验安装：\n",
    "                import aklearn\n",
    "                如果没有报错，就说明安装成功，反之则说明出现错误。请查阅文档。\n",
    "        1.1  Scikit-learn包含的内容\n",
    "            （1）分类、聚类、回归等算法\n",
    "            （2）特征工程\n",
    "            （3）模型选择、调优"
   ],
   "id": "fd244fbc971da39d"
  },
  {
   "metadata": {},
   "cell_type": "markdown",
   "source": [
    "    2.k-近邻算法API\n",
    "        sklearn.neighbors.KNeighborsClassifier(n_neighbors=5)\n",
    "            参数介绍：\n",
    "                n_neighborsL : int ,可选（默认为5）\n",
    "            功能介绍：\n",
    "                k_neighbors查询默认使用的最近五个样本数"
   ],
   "id": "e653c1a52d7dabc"
  },
  {
   "metadata": {},
   "cell_type": "markdown",
   "source": "    3.案例    ",
   "id": "fb6ae38f63b45fbf"
  },
  {
   "metadata": {},
   "cell_type": "markdown",
   "source": [
    "    3.1.步骤分析\n",
    "            （1）获取数据集\n",
    "            （2）数据基本处理（案例中省略）\n",
    "            （3）特征工程（案例中省略）\n",
    "            （4）机器学习\n",
    "            （5）模型评估（案例中省略）   "
   ],
   "id": "2f652dac130e7392"
  },
  {
   "metadata": {},
   "cell_type": "markdown",
   "source": "    3.2.代码过程",
   "id": "3a8e2f9897773ca9"
  },
  {
   "metadata": {
    "ExecuteTime": {
     "end_time": "2024-07-05T09:03:41.935354Z",
     "start_time": "2024-07-05T09:03:27.920159Z"
    }
   },
   "cell_type": "code",
   "source": [
    "# 1.导入模块\n",
    "from sklearn.neighbors import KNeighborsClassifier\n",
    "\n",
    "# 2.构造数据集\n",
    "\"\"\"\n",
    "    数字1，2属于0类别\n",
    "    数字10，20属于1类别\n",
    "\"\"\"\n",
    "x = [[1],[2],[10],[20]]    #特征值\n",
    "y = [0,0,1,1]            #目标值\n",
    "\n",
    "# 3.机器学习--模型训练\n",
    "# 3.1 实例化对象\n",
    "estimator = KNeighborsClassifier(n_neighbors=2)\n",
    "# 3.2 使用fit方法进行训练\n",
    "estimator.fit(x, y)\n",
    "\n",
    "# 4.应用\n",
    "num = int(input(\"非负整数：\"))\n",
    "result = estimator.predict([[num]])\n",
    "print(\"数字{}所在类别{}\".format(num,result))"
   ],
   "id": "b8906f7fab7fb4fa",
   "outputs": [
    {
     "name": "stdout",
     "output_type": "stream",
     "text": [
      "数字100所在类别[1]\n"
     ]
    }
   ],
   "execution_count": 5
  },
  {
   "metadata": {},
   "cell_type": "markdown",
   "source": [
    "    问题：\n",
    "        （1）其他的距离公式有哪些？\n",
    "        （2）KNeighborsClassifier()其他参数有哪些？他们有有什么含义？\n",
    "        （3）K值该如何选择？"
   ],
   "id": "c9cca3e45c446144"
  }
 ],
 "metadata": {
  "kernelspec": {
   "display_name": "Python 3",
   "language": "python",
   "name": "python3"
  },
  "language_info": {
   "codemirror_mode": {
    "name": "ipython",
    "version": 2
   },
   "file_extension": ".py",
   "mimetype": "text/x-python",
   "name": "python",
   "nbconvert_exporter": "python",
   "pygments_lexer": "ipython2",
   "version": "2.7.6"
  }
 },
 "nbformat": 4,
 "nbformat_minor": 5
}
