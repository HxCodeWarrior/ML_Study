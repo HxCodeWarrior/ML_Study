{
 "cells": [
  {
   "metadata": {},
   "cell_type": "markdown",
   "source": "拓展：自助法",
   "id": "57514d1e659bec06"
  },
  {
   "metadata": {},
   "cell_type": "markdown",
   "source": [
    "    我们希望评估的使用D训练出来的模型，但在留出法和交叉验证法中，由于保留了一部分样本用\n",
    "    于测试，因此实际评估的模型所使用的训练集比D小，这必然会引入一些因训练样本规模不同而\n",
    "    导致的估计偏差，留一法受训练样本规模变化的影响较小，但计算复杂度又太高。"
   ],
   "id": "f97ba13c2afe3c23"
  },
  {
   "metadata": {},
   "cell_type": "markdown",
   "source": "    有没有什么办法可以减小训练样本规模不同造成的影响，同时还能比较高效地进行实验估计呢？",
   "id": "1ca5c4052fbd7ec8"
  },
  {
   "metadata": {},
   "cell_type": "markdown",
   "source": [
    "    1、“自助法”是一个比较好的解决方案，它直接以自动采样法（boolstrap sampling）为基\n",
    "        础，给定包含m个样本地数据集D，我们对它进行采样产生数据集D\n",
    "        （1）每次随随机D中挑选一个样本，将其拷贝放入D，然后再将该样本放回初始数据集D中\n",
    "            ，使得该样本在下次采样时仍有可能被采到。\n",
    "        （2）这个过程重复执行m次后，我们就得到了包含m个样本地数据集D'，这就是自动采样\n",
    "            的结果。"
   ],
   "id": "d59e44eed1102dfd"
  },
  {
   "metadata": {},
   "cell_type": "markdown",
   "source": [
    "    2、显然，D中有一部分样本会在D'中多次出现，而另一部分样本呢不出现，可以做一个简单的估计：\n",
    "        样本在m次采样中始终不被采到地概率为（1 - 1/m）^m\n",
    "        取极限得到：m->∞ lim （1 - 1/m）^m = 1/e ≈0.368\n",
    "    即通过自助采样，初始数据集D中约有36.8%的样本未出现在采样数据集D'中\n",
    "    于是我们可以将D’用作训练集，D\\D'用作测试集：\n",
    "        这样，实际评估地模型与期望评估的模型都是用m个训练样本，\n",
    "        而我们仍有数据总量约为1/3，没在训练集中出现的样本用于测试\n",
    "    这样的测试结果，也称为“包外估计”（“out-of-bagestimate）"
   ],
   "id": "a6099752aea38de3"
  },
  {
   "metadata": {},
   "cell_type": "markdown",
   "source": [
    "    3、自助法优缺点：\n",
    "        （1）优点：\n",
    "            a、自助法在数据集较小、难以有效划分训练/测试集时很有用\n",
    "            b、自助法能从初始数据集中产生多个不同的个训练集，这对集成学习等方法有很大好处\n",
    "        （2）缺点：\n",
    "            a、自助法产生的数据集改变了初始数据集的分布，这会引入估计偏差。\n",
    "                因此，在初始数据量足够时，留出法和交叉验证法更常用"
   ],
   "id": "9df1a5c155809318"
  }
 ],
 "metadata": {
  "kernelspec": {
   "display_name": "Python 3",
   "language": "python",
   "name": "python3"
  },
  "language_info": {
   "codemirror_mode": {
    "name": "ipython",
    "version": 2
   },
   "file_extension": ".py",
   "mimetype": "text/x-python",
   "name": "python",
   "nbconvert_exporter": "python",
   "pygments_lexer": "ipython2",
   "version": "2.7.6"
  }
 },
 "nbformat": 4,
 "nbformat_minor": 5
}
