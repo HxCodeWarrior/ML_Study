{
 "cells": [
  {
   "metadata": {},
   "cell_type": "markdown",
   "source": "拓展：交叉验证法（“cross validation”）",
   "id": "4e06f118aaf31a47"
  },
  {
   "metadata": {},
   "cell_type": "markdown",
   "source": [
    "    1.交叉验证法步骤：\n",
    "        （1）先将数据集D划分为k个大小相似的互斥子集，即从D中通过分层抽样得到。\n",
    "        （2）然后，每次用k-1个自己的并集作为训练集，余下的那个子集作为测试集。这样就可\n",
    "            以获得k组训练/测试集，从而可以进行k次训练和测试，最终返回的是这k个测试结\n",
    "            果的均值。\n",
    "    "
   ],
   "id": "d08542c7e7b93e8b"
  },
  {
   "metadata": {},
   "cell_type": "markdown",
   "source": [
    "    2.显然，交叉验证法评估结果的稳定性和保真性在很大程度上取决于k的取值\n",
    "      为了强调这一点，通常把交叉验证法称为“k折交叉验证”（k-fold cross calidation）\n",
    "      （1）k最常用的取值是10，此时称为10折交叉验证\n",
    "      （2）其他常用的k值有5，20等等"
   ],
   "id": "c31775656dcf57a6"
  },
  {
   "metadata": {},
   "cell_type": "markdown",
   "source": [
    "    3.10折交叉验证演示图\n",
    "![jupyter](../Sources/Pictures/k-近邻算法/10折交叉验证演示图.png)"
   ],
   "id": "6c1d48a8af148bb0"
  },
  {
   "metadata": {},
   "cell_type": "markdown",
   "source": [
    "    与留出法相似，将数据集D划分为k个子集相同样存在多种划分方式。为了减小因样本划分不同引入的差别，k折交叉验证通常要随机使用不同的划分重复p次，最终的评估结果是折p次k折交叉验证结果的均值。\n",
    "    例如：常见的有“10次10折交叉验证”"
   ],
   "id": "1c340b6f8e8d8fb0"
  },
  {
   "metadata": {},
   "cell_type": "markdown",
   "source": "    4.交叉验证的实现方法除了GridSearchCV外，还有KFold，StratifiedKFold",
   "id": "87d5fd886be57371"
  },
  {
   "metadata": {},
   "cell_type": "markdown",
   "source": "KFold和StratifiedKFold",
   "id": "525674ce18fb15ba"
  },
  {
   "metadata": {},
   "cell_type": "markdown",
   "source": "from sklearn.model_selection import KFold,StratifiedKFold",
   "id": "4cddbef55953968f"
  },
  {
   "metadata": {},
   "cell_type": "markdown",
   "source": [
    "    （1）用法：\n",
    "        （1.1）将训练/测试数据集划分为n_splits个互斥子集，每次用其中一个子集当作验\n",
    "            证集，剩下的n_splits-1个作为训练集，进行n_splits次训练和测试，得到\n",
    "            n_splitss个结果。\n",
    "        （1.2）StratifiedKFold的用法和KFold的区别：\n",
    "                 SKFold是分层抽样，确保训练集，测试集集中，各类别样本的笔记和原始\n",
    "                 数据集中的一致\n",
    "    （2）注意点：\n",
    "        对于不能均等分数据集，其前n_asmples % n_splits子集拥有n_samples // \n",
    "        n_splits +1 个样本，其余子集都只有n_samples // n_splits样本\n",
    "    （3）参数说明：\n",
    "        （3.1）n_splits:表示划分为几等份\n",
    "        （3.2）shuffle:在每次划分时，是否进行洗牌\n",
    "                a、若为False，其效果等同于random_state等于整数，每次划分的结果相同\n",
    "                b、若为True，每次划分的结果都不一样，表示经过洗牌，随机取样的\n",
    "    （4）属性：\n",
    "        （4.1）split(x, y=None, groups=None):将数据集划分成训练集和测试集，返回索引生成器\n",
    "        （4.2）"
   ],
   "id": "8c58dd01bebd41d0"
  },
  {
   "metadata": {
    "ExecuteTime": {
     "end_time": "2024-07-06T07:09:23.838925Z",
     "start_time": "2024-07-06T07:09:23.833270Z"
    }
   },
   "cell_type": "code",
   "source": [
    "import numpy as np\n",
    "from sklearn.model_selection import KFold, StratifiedKFold\n",
    "\n",
    "x = np.array([\n",
    "    [1,2,3,4],\n",
    "    [11,12,13,14],\n",
    "    [21,22,23,24],\n",
    "    [31,32,33,34],\n",
    "    [41,42,43,44],\n",
    "    [51,52,53,54],\n",
    "    [61,62,63,64],\n",
    "    [71,72,73,74],\n",
    "])\n",
    "y = np.array([1,1,0,0,1,1,0,0])\n",
    "\n",
    "floder = KFold(n_splits=4, random_state=0, shuffle=True)\n",
    "sfloder = StratifiedKFold(n_splits=4, random_state=0, shuffle=True)\n",
    "\n",
    "for train, test in sfloder.split(x, y):\n",
    "    print(f\"train{train}, test:{test}\")\n",
    "    print(\"\")\n",
    "else:\n",
    "    print(\"sfloder finished\")\n",
    "for train, test in floder.split(x, y):\n",
    "    print(f\"train{train}, test:{test}\")\n",
    "    print(\"\")\n",
    "else:\n",
    "    print(\"floder finished\")"
   ],
   "id": "47ccda267ebd324a",
   "outputs": [
    {
     "name": "stdout",
     "output_type": "stream",
     "text": [
      "train[0 1 3 4 6 7], test:[2 5]\n",
      "\n",
      "train[0 1 2 3 5 7], test:[4 6]\n",
      "\n",
      "train[1 2 4 5 6 7], test:[0 3]\n",
      "\n",
      "train[0 2 3 4 5 6], test:[1 7]\n",
      "\n",
      "sfloder finished\n",
      "train[0 1 3 4 5 7], test:[2 6]\n",
      "\n",
      "train[0 2 3 4 5 6], test:[1 7]\n",
      "\n",
      "train[1 2 4 5 6 7], test:[0 3]\n",
      "\n",
      "train[0 1 2 3 6 7], test:[4 5]\n",
      "\n",
      "floder finished\n"
     ]
    }
   ],
   "execution_count": 6
  }
 ],
 "metadata": {
  "kernelspec": {
   "display_name": "Python 3",
   "language": "python",
   "name": "python3"
  },
  "language_info": {
   "codemirror_mode": {
    "name": "ipython",
    "version": 2
   },
   "file_extension": ".py",
   "mimetype": "text/x-python",
   "name": "python",
   "nbconvert_exporter": "python",
   "pygments_lexer": "ipython2",
   "version": "2.7.6"
  }
 },
 "nbformat": 4,
 "nbformat_minor": 5
}
