{
 "cells": [
  {
   "metadata": {},
   "cell_type": "markdown",
   "source": "Tf-idf文本特征提取",
   "id": "d47dacfcd809a2fb"
  },
  {
   "metadata": {},
   "cell_type": "markdown",
   "source": [
    "    TF-idf的主要思想：如果某个词或者短语在一篇文章中出现的概率很高，并且在其他文章中出\n",
    "    现很少，则认为此词或者短语具有很好的类别区分能力，适合用来进行分类。\n",
    "    TF-idf作用：用以评估一字词对于一个文件集或一个语料库中的其中一份文件的重要程度。"
   ],
   "id": "4479c365e3b32aeb"
  },
  {
   "metadata": {},
   "cell_type": "markdown",
   "source": "1.公式",
   "id": "370b03f0e9caf7b4"
  },
  {
   "metadata": {},
   "cell_type": "markdown",
   "source": [
    "    （1）词频（term frequency，tf）：指的是某一个给定的词语在该文件中出现的频率\n",
    "    （2）逆向文档频率（inverse document frequency，idf）：是一个词语普遍重要性的\n",
    "        度量。某一特定词语的idf，可以由总文件数目初一包含该词语之文件的数目，再将得到\n",
    "        的商除取以10为底的对数得到。\n",
    "    最终得出结果可以理解为重要程度。\n",
    "![jupyter](../Sources/Pictures/Decision_Tree_Algorithm/TF-idf公式.png)"
   ],
   "id": "b3be49cc4131ec3c"
  },
  {
   "metadata": {},
   "cell_type": "markdown",
   "source": [
    "    举例：\n",
    "    假如一篇文章的总词语数是100个，而词语“非常”出现了5次，\n",
    "    那么“非常”一词在该文件中的词频就是5/100=0.05。\n",
    "    而计算文件频率（IDF）的方法是以文件集的文件总数，除以出现“非常”一次的文件数。\n",
    "    所以，如果“非常”一词在10000份文件出现过，而文件总数是10,000,000份的话，\n",
    "    其逆向文件频率就是lg(10,000,000 / 1,0000)=3。\n",
    "    最后“非常”对于这篇文档的tf-idf的分数为0.05*3=0.15"
   ],
   "id": "5ae8b60e09351cea"
  },
  {
   "metadata": {
    "ExecuteTime": {
     "end_time": "2024-07-15T04:13:39.786917Z",
     "start_time": "2024-07-15T04:13:37.638995Z"
    }
   },
   "cell_type": "code",
   "source": [
    "from sklearn.feature_extraction.text import TfidfVectorizer\n",
    "import jieba\n",
    "\n",
    "data = [\"今天很残酷，明天更残酷，后天很美好，但绝对大部分是死在明天晚上，所以每个人不要放弃今天\",\n",
    "        \"我们看到的从遥远星系来的光是在几百万年之前发射出来的，这样当我们看到宇宙的时候，我们看到的是它的过去\",\n",
    "        \"\"]\n",
    "\n",
    "# 0.数据预处理-jieba分词\n",
    "data_list = []\n",
    "for sent in data:\n",
    "    if sent:\n",
    "        data_list.append(\" \".join(jieba.cut(sent)))\n",
    "    else:\n",
    "        data_list.append(\"\")\n",
    "\n",
    "# 1.实例化TfidfVectorizer对象\n",
    "transfer = TfidfVectorizer()\n",
    "# 2.文本特征化处理\n",
    "data = transfer.fit_transform(data_list)"
   ],
   "id": "cc49e83a95e96dd1",
   "outputs": [
    {
     "name": "stderr",
     "output_type": "stream",
     "text": [
      "Building prefix dict from the default dictionary ...\n",
      "Loading model from cache C:\\Users\\张耀翔\\AppData\\Local\\Temp\\jieba.cache\n",
      "Loading model cost 0.744 seconds.\n",
      "Prefix dict has been built successfully.\n"
     ]
    }
   ],
   "execution_count": 1
  },
  {
   "metadata": {
    "ExecuteTime": {
     "end_time": "2024-07-15T04:14:13.440970Z",
     "start_time": "2024-07-15T04:14:13.435311Z"
    }
   },
   "cell_type": "code",
   "source": "print(\"文本特征化处理结果;\\n\", data)",
   "id": "78bcac7e9d5197a1",
   "outputs": [
    {
     "name": "stdout",
     "output_type": "stream",
     "text": [
      "文本特征化处理结果;\n",
      " <Compressed Sparse Row sparse matrix of dtype 'float64'\n",
      "\twith 25 stored elements and shape (3, 25)>\n",
      "  Coords\tValues\n",
      "  (0, 2)\t0.43643578047198467\n",
      "  (0, 17)\t0.43643578047198467\n",
      "  (0, 14)\t0.43643578047198467\n",
      "  (0, 7)\t0.21821789023599233\n",
      "  (0, 21)\t0.21821789023599233\n",
      "  (0, 20)\t0.21821789023599233\n",
      "  (0, 8)\t0.21821789023599233\n",
      "  (0, 16)\t0.21821789023599233\n",
      "  (0, 11)\t0.21821789023599233\n",
      "  (0, 18)\t0.21821789023599233\n",
      "  (0, 0)\t0.21821789023599233\n",
      "  (0, 12)\t0.21821789023599233\n",
      "  (1, 10)\t0.5570860145311556\n",
      "  (1, 19)\t0.5570860145311556\n",
      "  (1, 24)\t0.1856953381770519\n",
      "  (1, 15)\t0.1856953381770519\n",
      "  (1, 3)\t0.1856953381770519\n",
      "  (1, 4)\t0.1856953381770519\n",
      "  (1, 1)\t0.1856953381770519\n",
      "  (1, 6)\t0.1856953381770519\n",
      "  (1, 5)\t0.1856953381770519\n",
      "  (1, 23)\t0.1856953381770519\n",
      "  (1, 9)\t0.1856953381770519\n",
      "  (1, 13)\t0.1856953381770519\n",
      "  (1, 22)\t0.1856953381770519\n"
     ]
    }
   ],
   "execution_count": 3
  },
  {
   "metadata": {},
   "cell_type": "code",
   "outputs": [],
   "execution_count": null,
   "source": "",
   "id": "eb115898503f86a7"
  }
 ],
 "metadata": {
  "kernelspec": {
   "display_name": "Python 3",
   "language": "python",
   "name": "python3"
  },
  "language_info": {
   "codemirror_mode": {
    "name": "ipython",
    "version": 2
   },
   "file_extension": ".py",
   "mimetype": "text/x-python",
   "name": "python",
   "nbconvert_exporter": "python",
   "pygments_lexer": "ipython2",
   "version": "2.7.6"
  }
 },
 "nbformat": 4,
 "nbformat_minor": 5
}
