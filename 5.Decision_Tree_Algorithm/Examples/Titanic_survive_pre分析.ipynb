{
 "cells": [
  {
   "metadata": {},
   "cell_type": "markdown",
   "source": "案例：泰坦尼克号乘客生存预测",
   "id": "4a76ddaef359dbd9"
  },
  {
   "metadata": {},
   "cell_type": "markdown",
   "source": [
    "    1、案例背景：泰坦尼克号沉没是历史上最臭名昭著的沉船之一。1912年4月15日，在她的处女\n",
    "        航中，泰坦尼克号在与冰山相撞后沉没，在2224名陈可和机组人员中造成1502人死亡。\n",
    "        这场耸人听闻的悲剧震惊了国际社会，并为船舶制定了更好的安全规格。造成海难失事的\n",
    "        原因之一是乘客和机组人员没有足够的救生艇。尽管幸存下沉有一些运气因素，但有些人\n",
    "        比其他人更容易生存，例如服你、儿童、上流社会人士。在这个案例中，我们要求您完成\n",
    "        对哪些人可能存活的分析，预测哪些乘客幸免于悲剧。"
   ],
   "id": "bdde3838722a37bb"
  },
  {
   "metadata": {},
   "cell_type": "markdown",
   "source": [
    "    2、案例数据源地址：\n",
    "[Titanic——Data](https://www.kaggle.com/competitions/titanic/data)"
   ],
   "id": "25b44f1a2aaca598"
  },
  {
   "metadata": {},
   "cell_type": "markdown",
   "source": [
    "    3、数据初步分析\n",
    "        （1）数据集中特征:是否存活、乘坐班次、年龄、登陆home.dest、房间、船和性别等\n",
    "        （2）经过观察：乘坐班是指乘客（1，2，3），是社会经济阶层的代表\n",
    "        （3）其中age数据存在缺失"
   ],
   "id": "459aa38495327194"
  },
  {
   "metadata": {},
   "cell_type": "markdown",
   "source": [
    "    4、步骤分析\n",
    "        （1）获取数据\n",
    "        （2）数据基本处理\n",
    "            （2.1）确定特征值、目标值\n",
    "            （2.2）缺失值处理\n",
    "            （2.3）数据集划分\n",
    "        （3）特征工程（字典特征抽取）\n",
    "        （4）机器学习（决策树）\n",
    "        （5）模型评估"
   ],
   "id": "5999b861a10a2bc7"
  }
 ],
 "metadata": {
  "kernelspec": {
   "display_name": "Python 3",
   "language": "python",
   "name": "python3"
  },
  "language_info": {
   "codemirror_mode": {
    "name": "ipython",
    "version": 2
   },
   "file_extension": ".py",
   "mimetype": "text/x-python",
   "name": "python",
   "nbconvert_exporter": "python",
   "pygments_lexer": "ipython2",
   "version": "2.7.6"
  }
 },
 "nbformat": 4,
 "nbformat_minor": 5
}
