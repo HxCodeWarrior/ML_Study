{
 "cells": [
  {
   "metadata": {},
   "cell_type": "markdown",
   "source": "决策树划分依据二：信息增益率",
   "id": "6a836b7c218f47ed"
  },
  {
   "metadata": {},
   "cell_type": "markdown",
   "source": "1.概念",
   "id": "3cf040e4dc7d007b"
  },
  {
   "metadata": {},
   "cell_type": "markdown",
   "source": [
    "    在上面的介绍中，我们有意忽略了\"编号\"这一列.若把\"编号\"也作为一个候选划分属性，则根据\n",
    "    信息增益公式可计算出它的信息增益为 0.9182，远大于其他候选划分属性。\n",
    "    计算每个属性的信息熵过程中,我们发现,该属性的值为0, 也就是其信息增益为0.9182. 但是\n",
    "    很明显这么分类,最后出现的结果不具有泛化效果.无法对新样本进行有效预测.\n",
    "    实际上，信息增益准则对可取值数目较多的属性有所偏好，为减少这种偏好可能带来的不利影响\n",
    "    ，著名的 C4.5 决策树算法 [Quinlan， 1993J 不直接使用信息增益，而是使用\"增益率\"\n",
    "     (gain ratio) 来选择最优划分属性."
   ],
   "id": "5b147e9fb1d021d6"
  },
  {
   "metadata": {},
   "cell_type": "markdown",
   "source": [
    "    增益率：增益率是用前面的信息增益Gain(D, a)和属性a对应的\"固有值\"(intrinsic \n",
    "    value) [Quinlan , 1993J的比值来共同定义的。\n",
    "![jupyter](../Sources/Pictures/Decision_Tree_Algorithm/信息增益率公式-1.png)"
   ],
   "id": "f5beb9be9d453b9"
  },
  {
   "metadata": {},
   "cell_type": "markdown",
   "source": [
    "    其中IV(a)如下：\n",
    "    注意：属性a的可能取值数目越多（即V越大），则IV(a)的值通常会越大\n",
    "![jupyter](../Sources/Pictures/Decision_Tree_Algorithm/信息增益率公式-2.png)"
   ],
   "id": "3cc2f033b9b3b0b0"
  },
  {
   "metadata": {},
   "cell_type": "markdown",
   "source": "2.1.案例一",
   "id": "78048b5fd65b938c"
  },
  {
   "metadata": {},
   "cell_type": "markdown",
   "source": [
    "    a、计算类别信息熵\n",
    "    b、计算性别属性的信息熵（性别、活跃度）\n",
    "    c、计算活跃度的信息增益（性别、活跃度）"
   ],
   "id": "ba3ea6520f477728"
  },
  {
   "metadata": {},
   "cell_type": "markdown",
   "source": [
    "    d、计算属性分裂信息度量\n",
    "    用分裂信息度量来考虑某种属性进行分裂时分支的数量信息和尺寸信息，我们把这些信息称为\n",
    "    属性的内在信息（instrisic information）。信息增益率用信息增益/内在信息，会导\n",
    "    致属性的重要性随着内在信息的增大而减小（也就是说，如果这个属性本身不确定性就很大，\n",
    "    那我就越不倾向于选取它），这样算是对单纯用信息增益有所补偿。\n",
    "![jupyter](../Sources/Pictures/Decision_Tree_Algorithm/信息熵增益率案例1计算-1.png)"
   ],
   "id": "700d193905eddec7"
  },
  {
   "metadata": {},
   "cell_type": "markdown",
   "source": [
    "    e、计算信息增益率\n",
    "![jupyter](../Sources/Pictures/Decision_Tree_Algorithm/信息熵增益率案例1计算-2.png)"
   ],
   "id": "83f412e4c5b50038"
  },
  {
   "metadata": {},
   "cell_type": "markdown",
   "source": [
    "    活跃度的信息增益率更高一些，所以在构建决策树的时候，优先选择\n",
    "    通过这种方式，在选取节点的过程中，我们可以降低取值较多的属性的选取偏好"
   ],
   "id": "993eb3d369a928e7"
  },
  {
   "metadata": {},
   "cell_type": "markdown",
   "source": "2.2.案例二",
   "id": "eb18cc106c17e3bf"
  },
  {
   "metadata": {},
   "cell_type": "markdown",
   "source": [
    "    如下图，第一列为天气，第二列为温度，第三列为湿度，第四列为风速，最后一列该活动是否进行。\n",
    "\n",
    "    我们要解决：根据下面表格数据，判断在对应天气下，活动是否会进行？\n",
    "![jupyter](../Sources/Pictures/Decision_Tree_Algorithm/信息熵增益率案例2计算-1.png)"
   ],
   "id": "a54553ef784193a4"
  },
  {
   "metadata": {},
   "cell_type": "markdown",
   "source": "![jupyter](../Sources/Pictures/Decision_Tree_Algorithm/信息熵增益率案例2计算-2.png)",
   "id": "8a4771e527813447"
  },
  {
   "metadata": {},
   "cell_type": "markdown",
   "source": [
    "    该数据集有四个属性，属性集合A={ 天气，温度，湿度，风速}， 类别标签有两个，\n",
    "    类别集合L={进行，取消}。"
   ],
   "id": "d9e3136a0ee0eded"
  },
  {
   "metadata": {},
   "cell_type": "markdown",
   "source": [
    "    a.计算类别信息熵\n",
    "    类别信息熵表示的是所有样本中各种类别出现的不确定性之和。根据熵的概念，熵越大，不确\n",
    "    定性就越大，把事情搞清楚所需要的信息量就越多。\n",
    "![jupyter](../Sources/Pictures/Decision_Tree_Algorithm/信息熵增益率案例2计算-3.png)"
   ],
   "id": "4d3375d89183217a"
  },
  {
   "metadata": {},
   "cell_type": "markdown",
   "source": [
    "    b.计算每个属性的信息熵\n",
    "    每个属性的信息熵相当于一种条件熵。他表示的是在某种属性的条件下，各种类别出现的不确\n",
    "    定性之和。属性的信息熵越大，表示这个属性中拥有的样本类别越不“纯”。\n",
    "![jupyter](../Sources/Pictures/Decision_Tree_Algorithm/信息熵增益率案例2计算-4.png)"
   ],
   "id": "b9d0dfda5c054fa2"
  },
  {
   "metadata": {},
   "cell_type": "markdown",
   "source": [
    "    c.计算信息增益\n",
    "    信息增益的 = 熵 - 条件熵，在这里就是 类别信息熵 - 属性信息熵，它表示的是信息不确\n",
    "    定性减少的程度。如果一个属性的信息增益越大，就表示用这个属性进行样本划分可以更好的\n",
    "    减少划分后样本的不确定性，当然，选择该属性就可以更快更好地完成我们的分类目标。\n",
    "    信息增益就是ID3算法的特征选择指标。\n",
    "![jupyter](../Sources/Pictures/Decision_Tree_Algorithm/信息熵增益率案例2计算-5.png)"
   ],
   "id": "e8011cb4961cb6ed"
  },
  {
   "metadata": {},
   "cell_type": "markdown",
   "source": [
    "    假设我们把上面表格1的数据前面添加一列为\"编号\",取值(1--14). 若把\"编号\"也作为一\n",
    "    个候选划分属性,则根据前面步骤: 计算每个属性的信息熵过程中,我们发现,该属性的值为\n",
    "    0, 也就是其信息增益为0.940. 但是很明显这么分类,最后出现的结果不具有泛化效果.此\n",
    "    时根据信息增益就无法选择出有效分类特征。所以，C4.5选择使用信息增益率对ID3进行改进。"
   ],
   "id": "334a37bfa83d61a2"
  },
  {
   "metadata": {},
   "cell_type": "markdown",
   "source": [
    "    d.计算属性分裂信息度量\n",
    "    用分裂信息度量来考虑某种属性进行分裂时分支的数量信息和尺寸信息，我们把这些信息称为\n",
    "    属性的内在信息（instrisic information）。信息增益率用信息增益/内在信息，会导\n",
    "    致属性的重要性随着内在信息的增大而减小（也就是说，如果这个属性本身不确定性就很大，\n",
    "    那我就越不倾向于选取它），这样算是对单纯用信息增益有所补偿。\n",
    "![jupyter](../Sources/Pictures/Decision_Tree_Algorithm/信息熵增益率案例2计算-6.png)"
   ],
   "id": "f824d27bb712f07a"
  },
  {
   "metadata": {},
   "cell_type": "markdown",
   "source": [
    "    e.计算信息增益率\n",
    "![jupyter](../Sources/Pictures/Decision_Tree_Algorithm/信息熵增益率案例2计算-7.png)"
   ],
   "id": "a607e98263a0ec9b"
  },
  {
   "metadata": {},
   "cell_type": "markdown",
   "source": [
    "    天气的信息增益率最高，选择天气为分裂属性。发现分裂了之后，天气是“阴”的条件下，类别\n",
    "    是”纯“的，所以把它定义为叶子节点，选择不“纯”的结点继续分裂。\n",
    "![jupyter](../Sources/Pictures/Decision_Tree_Algorithm/信息熵增益率案例2计算-8.png)"
   ],
   "id": "979b74166f7e8ef4"
  },
  {
   "metadata": {},
   "cell_type": "markdown",
   "source": [
    "    在子结点当中重复过程1~5，直到所有的叶子结点足够\"纯\"。\n",
    "    现在我们来总结一下C4.5的算法流程\n",
    "    while(当前节点\"不纯\")：\n",
    "        1.计算当前节点的类别熵(以类别取值计算)\n",
    "        2.计算当前阶段的属性熵(按照属性取值吓得类别取值计算)\n",
    "        3.计算信息增益\n",
    "        4.计算各个属性的分裂信息度量\n",
    "        5.计算各个属性的信息增益率\n",
    "    end while\n",
    "    当前阶段设置为叶子节点"
   ],
   "id": "cbc1d82e3f018536"
  }
 ],
 "metadata": {
  "kernelspec": {
   "display_name": "Python 3",
   "language": "python",
   "name": "python3"
  },
  "language_info": {
   "codemirror_mode": {
    "name": "ipython",
    "version": 2
   },
   "file_extension": ".py",
   "mimetype": "text/x-python",
   "name": "python",
   "nbconvert_exporter": "python",
   "pygments_lexer": "ipython2",
   "version": "2.7.6"
  }
 },
 "nbformat": 4,
 "nbformat_minor": 5
}
