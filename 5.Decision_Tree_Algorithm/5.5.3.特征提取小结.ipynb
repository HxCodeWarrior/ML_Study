{
 "cells": [
  {
   "metadata": {},
   "cell_type": "markdown",
   "source": "特征提取小结",
   "id": "f3aa166bc4e6fd45"
  },
  {
   "metadata": {},
   "cell_type": "markdown",
   "source": [
    "    1.特征提取：将任意数据（如文本或者图像）转换为可用于机器学习的数字特征\n",
    "    2.特征提取分类：\n",
    "        （1）字典特征提取（特征离散化）\n",
    "        （2）文本特征提取\n",
    "        （3）图像特征提取\n",
    "    3.字典特征提取【知道】\n",
    "        （1）字典特征提取就是对类别型数据进行转换\n",
    "        （2）API：sklearn.feature_extraction.DictVectorizer(sparse=True,..)\n",
    "            aparse矩阵：节省内容\n",
    "                       提高读取效率\n",
    "            注意：对于特征当中存在类别信息的我们都会做one-hot编码处理\n",
    "    4.文本特征提取（英文）【知道】\n",
    "        API：sklearn.feature_extraction.TextVectorizer(stop_words=[])\n",
    "                stop_words--停用词\n",
    "                注意：没有sparse这个参数\n",
    "                     的那个字母标点符号不做统计\n",
    "    5.文本特征提取（中文）【知道】\n",
    "        注意：\n",
    "            （1）在中文文本特征提取之前，需要对句子（文章）进行分词（jieba）\n",
    "            （2）里面依旧可以使用停用词，进行词语的限制\n",
    "    6.tf-idf【知道】\n",
    "        （1）主要思想：\n",
    "            如果某个词或短语在一篇文章中出现的概率高，并且在其他文章中出现很少\n",
    "            ，则认为此词或者短语具有很好的类别区分能力，适合用来进行分类\n",
    "        （2）tf-idf\n",
    "            tf--词频\n",
    "            idf--逆向文档频率\n",
    "        （3）API：sklearn.feature_extraction.text.TfidfVectorizer\n",
    "        （4）注意：分类机器学习算法进行文章分类中前期数据处理方式"
   ],
   "id": "9e5de7df6219d3aa"
  }
 ],
 "metadata": {
  "kernelspec": {
   "display_name": "Python 3",
   "language": "python",
   "name": "python3"
  },
  "language_info": {
   "codemirror_mode": {
    "name": "ipython",
    "version": 2
   },
   "file_extension": ".py",
   "mimetype": "text/x-python",
   "name": "python",
   "nbconvert_exporter": "python",
   "pygments_lexer": "ipython2",
   "version": "2.7.6"
  }
 },
 "nbformat": 4,
 "nbformat_minor": 5
}
