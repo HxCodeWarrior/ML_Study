{
 "cells": [
  {
   "metadata": {},
   "cell_type": "markdown",
   "source": "决策树可视化",
   "id": "cf259bc8bdbf994e"
  },
  {
   "metadata": {},
   "cell_type": "markdown",
   "source": [
    "    1、保存树的结构到dot文件\n",
    "        sklearn.tree.export_graphviz(estimator,out_file=file_name,feature_names=[\"\",\"\"])\n",
    "            (1)该函数能够导出DOT格式\n",
    "            (2)out_file:保存的文件名\n",
    "            (3)feature_names：特征值名称\n",
    "    2、网站显示结构\n",
    "[决策树可视化——在线网站](http://webgraphviz.com/)"
   ],
   "id": "24374c184cc29d25"
  }
 ],
 "metadata": {
  "kernelspec": {
   "display_name": "Python 3",
   "language": "python",
   "name": "python3"
  },
  "language_info": {
   "codemirror_mode": {
    "name": "ipython",
    "version": 2
   },
   "file_extension": ".py",
   "mimetype": "text/x-python",
   "name": "python",
   "nbconvert_exporter": "python",
   "pygments_lexer": "ipython2",
   "version": "2.7.6"
  }
 },
 "nbformat": 4,
 "nbformat_minor": 5
}
