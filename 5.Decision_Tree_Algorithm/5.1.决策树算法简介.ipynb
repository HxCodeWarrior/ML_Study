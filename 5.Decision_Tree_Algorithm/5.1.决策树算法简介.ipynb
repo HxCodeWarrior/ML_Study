{
 "cells": [
  {
   "metadata": {},
   "cell_type": "markdown",
   "source": "决策树算法简介",
   "id": "4d6ef91abef18b38"
  },
  {
   "metadata": {},
   "cell_type": "markdown",
   "source": [
    "    决策树思想的来源非常朴素，程序设计中的条件分支结构就是if-else结构，最早的决策树就\n",
    "    是利用这类结构分割数据的一种分来学习方法。"
   ],
   "id": "9551a07918ca93c9"
  },
  {
   "metadata": {},
   "cell_type": "markdown",
   "source": "1.决策树定义",
   "id": "4720d2cc6db0b1b0"
  },
  {
   "metadata": {},
   "cell_type": "markdown",
   "source": [
    "    决策树：是一种树形结构，其中每个内部节点表示一个属性上的判断，每个分支代表一个判断结\n",
    "          果的输出，最后每个叶节点代表一种分类结果，本质是一颗由多个判断节点组成的树。"
   ],
   "id": "62d4e39c1a5999b2"
  },
  {
   "metadata": {},
   "cell_type": "markdown",
   "source": [
    "    举例：母亲要给你介绍男朋友，是这么来对话的：\n",
    "        女儿：多大年纪？\n",
    "        母亲：26\n",
    "        女儿：长得帅不帅？\n",
    "        母亲：挺帅的\n",
    "        女儿：收入高不高？\n",
    "        母亲：不算很高，中等情况\n",
    "        女儿：是不是公务员？\n",
    "        母亲：是的，在税务局上班\n",
    "        女儿：那好，我去见见\n",
    "    思考：为什么把年龄放在最上面进行判断？！！！\n",
    "![jupyter](../Sources/Pictures/Decision_Tree_Algorithm/决策树举例图解.png)"
   ],
   "id": "2d5cf4d18085e1f6"
  },
  {
   "metadata": {},
   "cell_type": "markdown",
   "source": [
    "    上面案例使女生通过定性的主观意识，把年龄放在最上面，那么如果需要对这一过程进行量化，\n",
    "    该如何处理？\n",
    "    此时需要用到信息论中的知识：信息熵、信息增益"
   ],
   "id": "e10a963746cfe556"
  }
 ],
 "metadata": {
  "kernelspec": {
   "display_name": "Python 3",
   "language": "python",
   "name": "python3"
  },
  "language_info": {
   "codemirror_mode": {
    "name": "ipython",
    "version": 2
   },
   "file_extension": ".py",
   "mimetype": "text/x-python",
   "name": "python",
   "nbconvert_exporter": "python",
   "pygments_lexer": "ipython2",
   "version": "2.7.6"
  }
 },
 "nbformat": 4,
 "nbformat_minor": 5
}
