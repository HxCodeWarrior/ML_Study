{
 "cells": [
  {
   "metadata": {},
   "cell_type": "markdown",
   "source": "为什么使用C4.5要好",
   "id": "5d1fbfdfd5e2f13c"
  },
  {
   "metadata": {},
   "cell_type": "markdown",
   "source": [
    "    1.用信息增益率来选择属性\n",
    "        克服了用信息增益来选择属性时偏向选择值多的属性的不足。"
   ],
   "id": "39c64c6ae3ac1610"
  },
  {
   "metadata": {},
   "cell_type": "markdown",
   "source": [
    "    2.采用了一种后剪枝方法\n",
    "        避免树的高度无节制的增长，避免过度拟合数据"
   ],
   "id": "d493dc7540b7f3da"
  },
  {
   "metadata": {},
   "cell_type": "markdown",
   "source": [
    "    3.对于缺失值的处理\n",
    "        在某些情况下，可供使用的数据可能缺少某些属性的值。假如〈x，c(x)〉是样本集S中的\n",
    "        一个训练实例，但是其属性A的值A(x)未知。\n",
    "        处理缺少属性值的一种策略是赋给它结点n所对应的训练实例中该属性的最常见值；\n",
    "        另外一种更复杂的策略是为A的每个可能值赋予一个概率。\n",
    "        例如，给定一个布尔属性A，如果结点n包含6个已知A=1和4个A=0的实例，那么A(x)=1\n",
    "        的概率是0.6，而A(x)=0的概率是0.4。于是，实例x的60%被分配到A=1的分支，40%被\n",
    "        分配到另一个分支。\n",
    "        C4.5就是使用这种方法处理缺少的属性值。"
   ],
   "id": "83edcd839cfcd35b"
  }
 ],
 "metadata": {
  "kernelspec": {
   "display_name": "Python 3",
   "language": "python",
   "name": "python3"
  },
  "language_info": {
   "codemirror_mode": {
    "name": "ipython",
    "version": 2
   },
   "file_extension": ".py",
   "mimetype": "text/x-python",
   "name": "python",
   "nbconvert_exporter": "python",
   "pygments_lexer": "ipython2",
   "version": "2.7.6"
  }
 },
 "nbformat": 4,
 "nbformat_minor": 5
}
