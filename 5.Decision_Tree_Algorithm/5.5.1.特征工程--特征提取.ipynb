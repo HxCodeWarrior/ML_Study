{
 "cells": [
  {
   "metadata": {},
   "cell_type": "markdown",
   "source": "特征工程——特征提取",
   "id": "f3280d1695593b20"
  },
  {
   "metadata": {},
   "cell_type": "markdown",
   "source": "1.特征提取",
   "id": "45254379fdb5289"
  },
  {
   "metadata": {},
   "cell_type": "markdown",
   "source": "![jupyter](../Sources/Pictures/Decision_Tree_Algorithm/特征提取示例1.png)",
   "id": "141d8c16a47ad1d3"
  },
  {
   "metadata": {},
   "cell_type": "markdown",
   "source": "![jupyter](../Sources/Pictures/Decision_Tree_Algorithm/特征提取示例2.png)",
   "id": "51177a9ae779eda7"
  },
  {
   "metadata": {},
   "cell_type": "markdown",
   "source": [
    "    1.1.定义\n",
    "        将任意数据（如文本、图像）转换为可用于机器学习的数字特征\n",
    "        注意：特征话是为了计算机更好的去理解数据\n",
    "    1.2.特征提取分类\n",
    "        字典特征提取（特征离散化）\n",
    "        文本特征提取\n",
    "        图像特征提取（深度学习介绍）\n",
    "    1.3.特征提取API\n",
    "        sklearn.feature_extraction"
   ],
   "id": "139ec6fe6ce403dc"
  },
  {
   "metadata": {},
   "cell_type": "markdown",
   "source": "2.字典特征提取",
   "id": "461596543790b7df"
  },
  {
   "metadata": {},
   "cell_type": "markdown",
   "source": [
    "    2.1.作用：对字典数据进行特征值化\n",
    "    2.2.API：sklearn.feature_extraction.DicVectorizer(aparse=True,……)\n",
    "        （1）DictVectorizer.fit_transform(x)\n",
    "                x：字典或者包含字典的迭代器返回值\n",
    "                返回：sparse矩阵\n",
    "        （2）DictVectorizer.get_feature_names()\n",
    "                返回：类别名称"
   ],
   "id": "66aeb9473e283853"
  },
  {
   "metadata": {
    "ExecuteTime": {
     "end_time": "2024-07-14T10:30:36.025796Z",
     "start_time": "2024-07-14T10:30:36.021675Z"
    }
   },
   "cell_type": "code",
   "source": [
    "import jieba\n",
    "# 字典特征提取应用\n",
    "from sklearn.feature_extraction import DictVectorizer\n",
    "\n",
    "data = [{\"city\":\"北京\",\"temperature\":100},\n",
    "        {\"city\":\"上海\",\"temperature\":60},\n",
    "        {\"city\":\"深圳\",\"temperature\":30}]\n",
    "# 实例化DicVectorizer对象\n",
    "transform = DictVectorizer(sparse=True)\n",
    "# 调用fit_transform,方法输入数据并转换（注意返回格式）\n",
    "data = transform.fit_transform(data)"
   ],
   "id": "3e344c52a8e01720",
   "outputs": [],
   "execution_count": 6
  },
  {
   "metadata": {
    "ExecuteTime": {
     "end_time": "2024-07-14T10:30:37.109150Z",
     "start_time": "2024-07-14T10:30:37.106306Z"
    }
   },
   "cell_type": "code",
   "source": [
    "# 输出转换结果（sparse=True）\n",
    "print(\"转换结果：\\n\",data)"
   ],
   "id": "544d9a515e323b2e",
   "outputs": [
    {
     "name": "stdout",
     "output_type": "stream",
     "text": [
      "转换结果：\n",
      " <Compressed Sparse Row sparse matrix of dtype 'float64'\n",
      "\twith 6 stored elements and shape (3, 4)>\n",
      "  Coords\tValues\n",
      "  (0, 1)\t1.0\n",
      "  (0, 3)\t100.0\n",
      "  (1, 0)\t1.0\n",
      "  (1, 3)\t60.0\n",
      "  (2, 2)\t1.0\n",
      "  (2, 3)\t30.0\n"
     ]
    }
   ],
   "execution_count": 7
  },
  {
   "metadata": {
    "ExecuteTime": {
     "end_time": "2024-07-14T10:29:11.662028Z",
     "start_time": "2024-07-14T10:29:11.658232Z"
    }
   },
   "cell_type": "code",
   "source": [
    "# 输出转换结果（sparse=False)\n",
    "print(\"转换结果：\\n\", data)"
   ],
   "id": "2756711909619259",
   "outputs": [
    {
     "name": "stdout",
     "output_type": "stream",
     "text": [
      "转换结果：\n",
      " [[  0.   1.   0. 100.]\n",
      " [  1.   0.   0.  60.]\n",
      " [  0.   0.   1.  30.]]\n"
     ]
    }
   ],
   "execution_count": 5
  },
  {
   "metadata": {
    "ExecuteTime": {
     "end_time": "2024-07-14T10:38:38.483322Z",
     "start_time": "2024-07-14T10:38:38.480239Z"
    }
   },
   "cell_type": "code",
   "source": [
    "# 获取具体属性名\n",
    "print(\"属性名字:\\n\", transform.get_feature_names_out())"
   ],
   "id": "6b526b0d21ef1ebc",
   "outputs": [
    {
     "name": "stdout",
     "output_type": "stream",
     "text": [
      "属性名字:\n",
      " ['city=上海' 'city=北京' 'city=深圳' 'temperature']\n"
     ]
    }
   ],
   "execution_count": 9
  },
  {
   "metadata": {},
   "cell_type": "markdown",
   "source": [
    "        注意观察没有加上sparse=False参数的结果，这个结果并不是我们想要看到的，所以加\n",
    "        上参数，得到我们想要的结果。\n",
    "        在pandas中也有类似的效果，我们把这个处理数据的技巧叫做“one-hot”编码；\n",
    "![jupyter](../Sources/Pictures/Decision_Tree_Algorithm/one-hot编码示例.png)"
   ],
   "id": "33632f671440779b"
  },
  {
   "metadata": {},
   "cell_type": "markdown",
   "source": "3.文本特征提取",
   "id": "76b425df365b6bef"
  },
  {
   "metadata": {},
   "cell_type": "markdown",
   "source": [
    "        3.1.作用：对文本数据进行特征值化\n",
    "        3.2.API：sklearn.feature_extraction.text.CountVectorizer(stop_words=[])\n",
    "                （1）返回值：词频矩阵\n",
    "                （2）CountVectorizer.fit_transform(x)\n",
    "                        x:文本或者包含文本字符串的可迭代对象\n",
    "                        返回值：sparse矩阵\n",
    "                （3）CountVectorizer.get_feature_name_out()\n",
    "                        返回值：单词列表\n",
    "             API：sklearn.feature_extraction.text.TfidVectorizer()"
   ],
   "id": "6e153857d69b5c30"
  },
  {
   "metadata": {
    "ExecuteTime": {
     "end_time": "2024-07-14T15:40:47.913537Z",
     "start_time": "2024-07-14T15:40:47.888963Z"
    }
   },
   "cell_type": "code",
   "source": [
    "# 文本特征提取应用\n",
    "from sklearn.feature_extraction.text import CountVectorizer\n",
    "\n",
    "data1 = [\"life is short,, i like python\",\"life is long, i use python\"]\n",
    "data2 = [\"人生苦短，我喜欢python\",\"生活太长，我用python\"]\n",
    "# 1.实例化CountVectorizer对象\n",
    "transform = CountVectorizer()\n",
    "# 2.调用fit_transform方法输入数据并转换\n",
    "# （注意返回格式，利用toarray()进行sparse矩阵转换array矩阵）\n",
    "data1 = transform.fit_transform(data1)\n",
    "data2 = transform.fit_transform(data2)"
   ],
   "id": "88136b9deb1b11b7",
   "outputs": [],
   "execution_count": 13
  },
  {
   "metadata": {
    "ExecuteTime": {
     "end_time": "2024-07-14T15:40:56.144968Z",
     "start_time": "2024-07-14T15:40:56.138363Z"
    }
   },
   "cell_type": "code",
   "source": [
    "# 文本特征抽取结果\n",
    "data1.toarray()"
   ],
   "id": "668fd0e2d6a42f92",
   "outputs": [
    {
     "data": {
      "text/plain": [
       "array([[1, 1, 1, 0, 1, 1, 0],\n",
       "       [1, 1, 0, 1, 1, 0, 1]])"
      ]
     },
     "execution_count": 14,
     "metadata": {},
     "output_type": "execute_result"
    }
   ],
   "execution_count": 14
  },
  {
   "metadata": {
    "ExecuteTime": {
     "end_time": "2024-07-14T15:40:58.367731Z",
     "start_time": "2024-07-14T15:40:58.364298Z"
    }
   },
   "cell_type": "code",
   "source": [
    "# 返回特征值名字\n",
    "transform.get_feature_names_out()"
   ],
   "id": "ce6761cd066ed307",
   "outputs": [
    {
     "data": {
      "text/plain": [
       "array(['人生苦短', '我喜欢python', '我用python', '生活太长'], dtype=object)"
      ]
     },
     "execution_count": 15,
     "metadata": {},
     "output_type": "execute_result"
    }
   ],
   "execution_count": 15
  },
  {
   "metadata": {
    "ExecuteTime": {
     "end_time": "2024-07-14T15:41:02.039590Z",
     "start_time": "2024-07-14T15:41:02.034093Z"
    }
   },
   "cell_type": "code",
   "source": "data2",
   "id": "917360b4b20de8a",
   "outputs": [
    {
     "data": {
      "text/plain": [
       "<Compressed Sparse Row sparse matrix of dtype 'int64'\n",
       "\twith 4 stored elements and shape (2, 4)>"
      ]
     },
     "execution_count": 16,
     "metadata": {},
     "output_type": "execute_result"
    }
   ],
   "execution_count": 16
  },
  {
   "metadata": {},
   "cell_type": "markdown",
   "source": "注意：英文默认是空格分开，其实就达到了发呢次的效果，但是中文是以标点符号隔开",
   "id": "564d3c30727b89b3"
  },
  {
   "metadata": {},
   "cell_type": "markdown",
   "source": [
    "        3.3.jieba分词处理\n",
    "       API：jieba.cut()   返回词语组成的生成器"
   ],
   "id": "7a5d103fb3a35658"
  },
  {
   "metadata": {
    "ExecuteTime": {
     "end_time": "2024-07-15T03:12:43.990095Z",
     "start_time": "2024-07-15T03:12:43.984315Z"
    }
   },
   "cell_type": "code",
   "source": [
    "# 中文字符特征化处理\n",
    "from sklearn.feature_extraction.text import CountVectorizer\n",
    "import jieba\n",
    "\n",
    "data = [\"今天很残酷，明天更残酷，后天很美好，但绝对大部分是死在明天晚上，所以每个人不要放弃今天\",\n",
    "        \"我们看到的从遥远星系来的光是在几百万年之前发射出来的，这样当我们看到宇宙的时候，我们看到的是它的过去\",\n",
    "        \"\"]"
   ],
   "id": "c87db2ec71311a7a",
   "outputs": [
    {
     "name": "stdout",
     "output_type": "stream",
     "text": [
      "['今天 很 残酷 ， 明天 更 残酷 ， 后天 很 美好 ， 但 绝对 大部分 是 死 在 明天 晚上 ， 所以 每个 人 不要 放弃 今天', '我们 看到 的 从 遥远 星系 来 的 光是在 几百万年 之前 发射 出来 的 ， 这样 当 我们 看到 宇宙 的 时候 ， 我们 看到 的 是 它 的 过去', '']\n"
     ]
    }
   ],
   "execution_count": 7
  },
  {
   "metadata": {
    "ExecuteTime": {
     "end_time": "2024-07-15T03:15:42.078737Z",
     "start_time": "2024-07-15T03:15:42.074152Z"
    }
   },
   "cell_type": "code",
   "source": [
    "# 0.中文数据预处理--分词处理\n",
    "data_list = []\n",
    "for content in data:\n",
    "        if content:\n",
    "                data_list.append(\" \".join(jieba.cut(content)))\n",
    "        else:\n",
    "                data_list.append(\"\")"
   ],
   "id": "95d6cb626216cf78",
   "outputs": [],
   "execution_count": 8
  },
  {
   "metadata": {
    "ExecuteTime": {
     "end_time": "2024-07-15T03:15:43.346061Z",
     "start_time": "2024-07-15T03:15:43.314604Z"
    }
   },
   "cell_type": "code",
   "source": "data_list",
   "id": "9df35c26ede0a001",
   "outputs": [
    {
     "data": {
      "text/plain": [
       "['今天 很 残酷 ， 明天 更 残酷 ， 后天 很 美好 ， 但 绝对 大部分 是 死 在 明天 晚上 ， 所以 每个 人 不要 放弃 今天',\n",
       " '我们 看到 的 从 遥远 星系 来 的 光是在 几百万年 之前 发射 出来 的 ， 这样 当 我们 看到 宇宙 的 时候 ， 我们 看到 的 是 它 的 过去',\n",
       " '']"
      ]
     },
     "execution_count": 9,
     "metadata": {},
     "output_type": "execute_result"
    }
   ],
   "execution_count": 9
  },
  {
   "metadata": {
    "ExecuteTime": {
     "end_time": "2024-07-15T03:18:21.301268Z",
     "start_time": "2024-07-15T03:18:21.238813Z"
    }
   },
   "cell_type": "code",
   "source": [
    "# 1.创建实例化CountVectorizer对象\n",
    "transfer = CountVectorizer()\n",
    "# 2.文本特征化处理\n",
    "data = transfer.fit_transform(data_list)"
   ],
   "id": "d7e76759bd0f2171",
   "outputs": [],
   "execution_count": 10
  },
  {
   "metadata": {
    "ExecuteTime": {
     "end_time": "2024-07-15T03:24:44.737753Z",
     "start_time": "2024-07-15T03:24:44.722215Z"
    }
   },
   "cell_type": "code",
   "source": [
    "# 文本特征化处理结果\n",
    "print(\"文本特征化处理结果：\\n\", data)\n",
    "# 文本特征抽取结果\n",
    "print(\"文本特征抽取结果：\\n\", data.toarray())\n",
    "# 特征值名字\n",
    "print(\"特征名字：\\n\", transfer.get_feature_names_out())"
   ],
   "id": "b0afa4248cbfa9b4",
   "outputs": [
    {
     "name": "stdout",
     "output_type": "stream",
     "text": [
      "文本特征化处理结果：\n",
      " <Compressed Sparse Row sparse matrix of dtype 'int64'\n",
      "\twith 25 stored elements and shape (3, 25)>\n",
      "  Coords\tValues\n",
      "  (0, 2)\t2\n",
      "  (0, 17)\t2\n",
      "  (0, 14)\t2\n",
      "  (0, 7)\t1\n",
      "  (0, 21)\t1\n",
      "  (0, 20)\t1\n",
      "  (0, 8)\t1\n",
      "  (0, 16)\t1\n",
      "  (0, 11)\t1\n",
      "  (0, 18)\t1\n",
      "  (0, 0)\t1\n",
      "  (0, 12)\t1\n",
      "  (1, 10)\t3\n",
      "  (1, 19)\t3\n",
      "  (1, 24)\t1\n",
      "  (1, 15)\t1\n",
      "  (1, 3)\t1\n",
      "  (1, 4)\t1\n",
      "  (1, 1)\t1\n",
      "  (1, 6)\t1\n",
      "  (1, 5)\t1\n",
      "  (1, 23)\t1\n",
      "  (1, 9)\t1\n",
      "  (1, 13)\t1\n",
      "  (1, 22)\t1\n",
      "文本特征抽取结果：\n",
      " [[1 0 2 0 0 0 0 1 1 0 0 1 1 0 2 0 1 2 1 0 1 1 0 0 0]\n",
      " [0 1 0 1 1 1 1 0 0 1 3 0 0 1 0 1 0 0 0 3 0 0 1 1 1]\n",
      " [0 0 0 0 0 0 0 0 0 0 0 0 0 0 0 0 0 0 0 0 0 0 0 0 0]]\n",
      "特征名字：\n",
      " ['不要' '之前' '今天' '光是在' '几百万年' '出来' '发射' '后天' '大部分' '宇宙' '我们' '所以' '放弃' '时候'\n",
      " '明天' '星系' '晚上' '残酷' '每个' '看到' '绝对' '美好' '过去' '这样' '遥远']\n"
     ]
    }
   ],
   "execution_count": 13
  },
  {
   "metadata": {},
   "cell_type": "code",
   "outputs": [],
   "execution_count": null,
   "source": "",
   "id": "edd56c2f5363e2a8"
  }
 ],
 "metadata": {
  "kernelspec": {
   "display_name": "Python 3",
   "language": "python",
   "name": "python3"
  },
  "language_info": {
   "codemirror_mode": {
    "name": "ipython",
    "version": 2
   },
   "file_extension": ".py",
   "mimetype": "text/x-python",
   "name": "python",
   "nbconvert_exporter": "python",
   "pygments_lexer": "ipython2",
   "version": "2.7.6"
  }
 },
 "nbformat": 4,
 "nbformat_minor": 5
}
