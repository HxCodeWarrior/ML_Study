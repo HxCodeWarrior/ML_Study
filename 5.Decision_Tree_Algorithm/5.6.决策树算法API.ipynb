{
 "cells": [
  {
   "metadata": {},
   "cell_type": "markdown",
   "source": "决策树算法API",
   "id": "9f9190842eeedd61"
  },
  {
   "metadata": {},
   "cell_type": "markdown",
   "source": "class sklearn.tree.DecisionTreeClassifier(criterion='gini',maxx_depth=None,random_state=None)",
   "id": "38cc542ee2ab8241"
  },
  {
   "metadata": {},
   "cell_type": "markdown",
   "source": [
    "    1、criterion\n",
    "        （1）特征选择标准\n",
    "        （2）‘gini’或者‘entropy’，前者代表基尼系数，后者代表信息增益。\n",
    "            一般默认‘gini'，即CART算法"
   ],
   "id": "2905030972f1a8f0"
  },
  {
   "metadata": {},
   "cell_type": "markdown",
   "source": [
    "    2、min_samples_split\n",
    "        （1）内部节点再划分所需要最小样本数\n",
    "        （2）这个值限制了子树继续划分的条件，如果某节点的样本数少于min_samples_split\n",
    "            ，则不会继续再尝试选择最有特征来进行划分。默认为2，如果样本量不大，不需要\n",
    "            管这个值；如果样本数量级非常大，则推荐增大这个值。例如：一个项目大概有10万\n",
    "            个样本，建立决策树时，先择了min_samples_aplit=10（可以参考）"
   ],
   "id": "4406425bba0911ba"
  },
  {
   "metadata": {},
   "cell_type": "markdown",
   "source": [
    "    3、min_samples_leaf\n",
    "        （1）叶子节点最少样本数\n",
    "        （2）这个值限制了叶子节点最少的样本树，如果某叶子节点数目小于样本呢书，则会和兄\n",
    "            弟节点一起被剪枝。默认为1，可以输入最少的样本数的整数，或者最少样本数占样\n",
    "            本总数的百分比。如果样本量不大，不需要管这个值；如果样本数量集非常大，则推\n",
    "            荐增大这个值。例如：10万个样本使用min_samples_leaf的值为5（可以参考）"
   ],
   "id": "c4c251cf500c0c45"
  },
  {
   "metadata": {},
   "cell_type": "markdown",
   "source": [
    "    4、max_depth\n",
    "        （1）决策树最大深度\n",
    "        （2）决策树最大深度，默认可以不输入，如果不输入的话，决策树在建立子树的时候不会\n",
    "            限制子树的深度。一般来说，数据少或者特征少的时候可以不管这个值。如果模型样\n",
    "            本呢量多，特征也多的情况下，推荐限制这个最大深度没具体只取决于数据的分布。\n",
    "            常用的可以取值10-100之间。"
   ],
   "id": "7f9d88726db807ce"
  },
  {
   "metadata": {},
   "cell_type": "markdown",
   "source": [
    "    5、random_state\n",
    "        (1)随机种子\n",
    "        （2）进行决策树的划分时，以相同的模型，进行决策树的划分"
   ],
   "id": "6486bdf956d42b44"
  }
 ],
 "metadata": {
  "kernelspec": {
   "display_name": "Python 3",
   "language": "python",
   "name": "python3"
  },
  "language_info": {
   "codemirror_mode": {
    "name": "ipython",
    "version": 2
   },
   "file_extension": ".py",
   "mimetype": "text/x-python",
   "name": "python",
   "nbconvert_exporter": "python",
   "pygments_lexer": "ipython2",
   "version": "2.7.6"
  }
 },
 "nbformat": 4,
 "nbformat_minor": 5
}
