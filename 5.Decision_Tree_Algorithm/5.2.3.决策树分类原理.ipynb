{
 "cells": [
  {
   "metadata": {},
   "cell_type": "markdown",
   "source": "决策话的划分依据三：基尼值和基尼指数",
   "id": "dd0e7ed420efc41b"
  },
  {
   "metadata": {},
   "cell_type": "markdown",
   "source": "1.概念",
   "id": "1a2e233bb4d4f283"
  },
  {
   "metadata": {},
   "cell_type": "markdown",
   "source": [
    "    CART 决策树 [Breiman et al., 1984] 使用\"基尼指数\" (Gini index)来选择划分属性.\n",
    "    CART 是Classification and Regression Tree的简称，这是一种著名的决策树学习\n",
    "    算法,分类和回归任务都可用。"
   ],
   "id": "b02a3035f2dfe2ab"
  },
  {
   "metadata": {},
   "cell_type": "markdown",
   "source": [
    "    （1）基尼值Gini（D）：从数据集D中随机抽取两个样本，其类别标记不一致的概率。\n",
    "        故，Gini（D）值越小，数据集D的纯度越高。"
   ],
   "id": "215eee5e881668bf"
  },
  {
   "metadata": {},
   "cell_type": "markdown",
   "source": [
    "    数据集 D 的纯度可用基尼值来度量:\n",
    "![jupyter](../Sources/Pictures/Decision_Tree_Algorithm/基尼值计算公式.png)"
   ],
   "id": "dd333eb4ae0d8b8"
  },
  {
   "metadata": {},
   "cell_type": "markdown",
   "source": [
    "    （2）基尼指数Gini_index（D）：一般，选择使划分后基尼系数最小的属性作为最优化分属性。   \n",
    "![jupyter](../Sources/Pictures/Decision_Tree_Algorithm/基尼值指数计算公式.png) "
   ],
   "id": "244af06579d7765e"
  },
  {
   "metadata": {},
   "cell_type": "markdown",
   "source": "2.案例",
   "id": "927b6fe039e4ae4f"
  },
  {
   "metadata": {},
   "cell_type": "markdown",
   "source": [
    "    请根据下图列表，按照基尼指数的划分依据，做出决策树\n",
    "![jupyter](../Sources/Pictures/Decision_Tree_Algorithm/基尼指数案例.png)"
   ],
   "id": "9301cc25e557b3c9"
  },
  {
   "metadata": {},
   "cell_type": "markdown",
   "source": [
    "    1，对数据集非序列标号属性{是否有房，婚姻状况，年收入}分别计算它们的Gini指数，取\n",
    "       Gini指数最小的属性作为决策树的根节点属性。\n",
    "    （第一次大循环）"
   ],
   "id": "7bb8abb3fd961ed5"
  },
  {
   "metadata": {},
   "cell_type": "markdown",
   "source": [
    "    2，根节点的Gini值为：\n",
    "![jupyter](../Sources/Pictures/Decision_Tree_Algorithm/基尼指数案例处理计算-1.png)"
   ],
   "id": "972199607bb98a0b"
  },
  {
   "metadata": {},
   "cell_type": "markdown",
   "source": [
    "    3，当根据是否有房来进行划分时，Gini指数计算过程为：\n",
    "![jupyter](../Sources/Pictures/Decision_Tree_Algorithm/基尼指数案例处理计算-2.png)"
   ],
   "id": "4407d2400823df75"
  },
  {
   "metadata": {},
   "cell_type": "markdown",
   "source": "![jupyter](../Sources/Pictures/Decision_Tree_Algorithm/基尼指数案例处理计算-3.png)",
   "id": "2609f7a01f2a04df"
  },
  {
   "metadata": {},
   "cell_type": "markdown",
   "source": [
    "    若按婚姻状况属性来划分，属性婚姻状况有三个可能的取值\n",
    "    {married，single，divorced}，分别计算划分后的Gini系数增益。\n",
    "    \n",
    "    {married} | {single,divorced}\n",
    "    {single} | {married,divorced}\n",
    "    {divorced} | {single,married}"
   ],
   "id": "991b864f4cfc5e89"
  },
  {
   "metadata": {},
   "cell_type": "markdown",
   "source": [
    "    分组为{married}|{single,divorced}时\n",
    "![jupyter](../Sources/Pictures/Decision_Tree_Algorithm/基尼指数案例处理计算-4.png)"
   ],
   "id": "c6db90baa09b5725"
  },
  {
   "metadata": {},
   "cell_type": "markdown",
   "source": [
    "    组为{married}|{single,divorced}时\n",
    "![jupyter](../Sources/Pictures/Decision_Tree_Algorithm/基尼指数案例处理计算-5.png)"
   ],
   "id": "17560b7acadadc40"
  },
  {
   "metadata": {},
   "cell_type": "markdown",
   "source": [
    "    组为{married}|{single,divorced}时\n",
    "![jupyter](../Sources/Pictures/Decision_Tree_Algorithm/基尼指数案例处理计算-6.png)"
   ],
   "id": "9cc4ea0033bf7ebc"
  },
  {
   "metadata": {},
   "cell_type": "markdown",
   "source": [
    "    对比计算结果，根据婚姻状况属性来划分根节点时取Gini指数最小的分组作为划分结果，\n",
    "    即:{married} | {single,divorced}"
   ],
   "id": "5f09c024da3922df"
  },
  {
   "metadata": {},
   "cell_type": "markdown",
   "source": [
    "    5，同理可得年收入Gini：\n",
    "    对于年收入属性为数值型属性，首先需要对数据按升序排序，然后从小到大依次用相邻值的中\n",
    "    间值作为分隔将样本划分为两组。例如当面对年收入为60和70这两个值时，我们算得其中间\n",
    "    值为65。以中间值65作为分割点求出Gini指数。\n",
    "![jupyter](../Sources/Pictures/Decision_Tree_Algorithm/基尼指数案例处理计算-7.png)"
   ],
   "id": "927e90d37c1d6551"
  },
  {
   "metadata": {},
   "cell_type": "markdown",
   "source": [
    "    根据计算知道，三个属性划分根节点的指数最小的有两个：年收入属性和婚姻状况，他们的指\n",
    "    数都为0.3。此时，选取首先出现的属性【married】作为第一次划分。\n",
    "    （第二次大循环）"
   ],
   "id": "8487173e8a0513b"
  },
  {
   "metadata": {},
   "cell_type": "markdown",
   "source": [
    "    6，接下来，采用同样的方法，分别计算剩下属性，其中根节点的Gini系数为\n",
    "     （此时是否拖欠贷款的各有3个records）\n",
    "![jupyter](../Sources/Pictures/Decision_Tree_Algorithm/基尼指数案例处理计算-8.png)"
   ],
   "id": "7a0edea9ca931d1c"
  },
  {
   "metadata": {},
   "cell_type": "markdown",
   "source": [
    "    7，对于是否有房属性，可得：\n",
    "![jupyter](../Sources/Pictures/Decision_Tree_Algorithm/基尼指数案例处理计算-9.png)"
   ],
   "id": "503e1d3c498fb8ea"
  },
  {
   "metadata": {},
   "cell_type": "markdown",
   "source": [
    "    8，对于年收入属性则有：\n",
    "![jupyter](../Sources/Pictures/Decision_Tree_Algorithm/基尼指数案例处理计算-10.png)"
   ],
   "id": "51f6f13a93d9c7c8"
  },
  {
   "metadata": {},
   "cell_type": "markdown",
   "source": [
    "    经过如上流程，构建的决策树，如下图：\n",
    "![jupyter](../Sources/Pictures/Decision_Tree_Algorithm/基尼指数案例决策树.png)"
   ],
   "id": "6c6cc1aa92a4ecec"
  },
  {
   "metadata": {},
   "cell_type": "markdown",
   "source": [
    "    现在我们来总结一下CART的算法流程\n",
    "        while(当前节点\"不纯\")：\n",
    "        1.遍历每个变量的每一种分割方式，找到最好的分割点\n",
    "        2.分割成两个节点N1和N2\n",
    "    end while\n",
    "    每个节点足够“纯”为止"
   ],
   "id": "d71a1d0a8d857a30"
  }
 ],
 "metadata": {
  "kernelspec": {
   "display_name": "Python 3",
   "language": "python",
   "name": "python3"
  },
  "language_info": {
   "codemirror_mode": {
    "name": "ipython",
    "version": 2
   },
   "file_extension": ".py",
   "mimetype": "text/x-python",
   "name": "python",
   "nbconvert_exporter": "python",
   "pygments_lexer": "ipython2",
   "version": "2.7.6"
  }
 },
 "nbformat": 4,
 "nbformat_minor": 5
}
