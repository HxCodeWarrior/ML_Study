{
 "cells": [
  {
   "metadata": {},
   "cell_type": "markdown",
   "source": "朴素贝叶斯算法简介",
   "id": "8d0eb38d3ea4f26f"
  },
  {
   "metadata": {},
   "cell_type": "markdown",
   "source": "![jupyter](../Sources/Pictures/Naive_Bayes/垃圾邮件分类.png)",
   "id": "3817b016cddbdfa4"
  },
  {
   "metadata": {},
   "cell_type": "markdown",
   "source": "    简单来说：朴素贝叶斯是根据概率进行分类",
   "id": "a370b168acfe770"
  }
 ],
 "metadata": {
  "kernelspec": {
   "display_name": "Python 3",
   "language": "python",
   "name": "python3"
  },
  "language_info": {
   "codemirror_mode": {
    "name": "ipython",
    "version": 2
   },
   "file_extension": ".py",
   "mimetype": "text/x-python",
   "name": "python",
   "nbconvert_exporter": "python",
   "pygments_lexer": "ipython2",
   "version": "2.7.6"
  }
 },
 "nbformat": 4,
 "nbformat_minor": 5
}
