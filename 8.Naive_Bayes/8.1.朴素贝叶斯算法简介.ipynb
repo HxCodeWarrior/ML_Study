{
 "cells": [
  {
   "metadata": {},
   "cell_type": "markdown",
   "source": "朴素贝叶斯算法简介",
   "id": "8d0eb38d3ea4f26f"
  },
  {
   "metadata": {},
   "cell_type": "markdown",
   "source": "![jupyter](../Sources/Pictures/Naive_Bayes/垃圾邮件分类.png)",
   "id": "3817b016cddbdfa4"
  },
  {
   "metadata": {},
   "cell_type": "markdown",
   "source": "    简单来说：朴素贝叶斯是根据概率进行分类",
   "id": "a370b168acfe770"
  },
  {
   "metadata": {},
   "cell_type": "markdown",
   "source": "## API介绍",
   "id": "9e3642e73c64520e"
  },
  {
   "metadata": {},
   "cell_type": "markdown",
   "source": [
    "    sklearn.naive_bayes.MultinomiaINB(alpha = 1.0)\n",
    "        朴素贝叶斯分类\n",
    "        alpha：拉普拉斯平滑系数"
   ],
   "id": "673b084c6b9ba248"
  }
 ],
 "metadata": {
  "kernelspec": {
   "display_name": "Python 3",
   "language": "python",
   "name": "python3"
  },
  "language_info": {
   "codemirror_mode": {
    "name": "ipython",
    "version": 2
   },
   "file_extension": ".py",
   "mimetype": "text/x-python",
   "name": "python",
   "nbconvert_exporter": "python",
   "pygments_lexer": "ipython2",
   "version": "2.7.6"
  }
 },
 "nbformat": 4,
 "nbformat_minor": 5
}
