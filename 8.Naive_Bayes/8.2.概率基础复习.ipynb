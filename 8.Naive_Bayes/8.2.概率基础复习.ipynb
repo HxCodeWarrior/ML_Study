{
 "cells": [
  {
   "metadata": {},
   "cell_type": "markdown",
   "source": "概率基础复习",
   "id": "3a86c07256962d58"
  },
  {
   "metadata": {},
   "cell_type": "markdown",
   "source": [
    "    学习目标：\n",
    "        了解联合概率、条件概率和相关独立的概念\n",
    "        知道贝叶斯公式\n",
    "        知道拉普拉斯平滑系数"
   ],
   "id": "4f04168da6474c7e"
  },
  {
   "metadata": {},
   "cell_type": "markdown",
   "source": "# 1.概率定义",
   "id": "40d9ffcc2e980080"
  },
  {
   "metadata": {},
   "cell_type": "markdown",
   "source": [
    "    概率定义为一件事情发生的可能性\n",
    "    P(X)：取值在[0, 1]"
   ],
   "id": "7be5e0dbe5b5d028"
  },
  {
   "metadata": {},
   "cell_type": "markdown",
   "source": "# 2.案例",
   "id": "11851d230acfcfed"
  },
  {
   "metadata": {},
   "cell_type": "markdown",
   "source": [
    "    在讲这两个概率之前我们通过一个例子，来计算一些结果：\n",
    "![jupyter](../Sources/Pictures/Naive_Bayes/判断crash对自己的喜欢.png)"
   ],
   "id": "876a87fdaa38d645"
  },
  {
   "metadata": {},
   "cell_type": "markdown",
   "source": [
    "    问题如下：\n",
    "        1.crash喜欢的概率\n",
    "        2.职业是程序员并且体型匀称的概率\n",
    "        3.在crash喜欢的条件下，职业是程序员的概率\n",
    "        4.在crash喜欢的条件下，职业是程序员，体重超重的概率\n",
    "    计算结果如下：\n",
    "        P(喜欢) = 4/7\n",
    "        P(程序员，匀称) = 1/7(联合概率)\n",
    "        P(程序员|喜欢) = 2/4 = 1/2（条件概率）\n",
    "        P(程序员，超重|喜欢) = 1/4\n",
    "    思考：在小明是产品经理并且体重超重的情况下，如何计算小明被crash喜欢的概率\n",
    "         即P（喜欢|程序员，超重） = ？\n",
    "         姿势我们需要用到朴素贝叶斯进行求解，在讲解贝叶斯公式之前，首先复习一下联合概\n",
    "         率、条件概率和相互独立的概念"
   ],
   "id": "7b9dc7436fdb267a"
  },
  {
   "metadata": {},
   "cell_type": "markdown",
   "source": "# 3.联合概率、条件概率与相互独立",
   "id": "993b09dba024e7cf"
  },
  {
   "metadata": {},
   "cell_type": "markdown",
   "source": [
    "    1.联合概率：包含多个条件，并且所有条件同时成立的概率\n",
    "        记作：P（A， B）\n",
    "    2.条件概率：就是事件A在另外一个事件B已经发生的条件下发生的概率\n",
    "        记作：P（A|B）\n",
    "    3.相互独立：如果P（A，B） = P（A）P（B），则称事件A与事件B相互独立"
   ],
   "id": "88c82c6f00f7bddc"
  },
  {
   "metadata": {},
   "cell_type": "markdown",
   "source": "# 4.贝叶斯公式",
   "id": "4a97e9ea739e1dc2"
  },
  {
   "metadata": {},
   "cell_type": "markdown",
   "source": "4.1.公式介绍",
   "id": "11009c9f6b6845a"
  },
  {
   "metadata": {},
   "cell_type": "markdown",
   "source": "![jupyter](../Sources/Pictures/Naive_Bayes/贝叶斯公式.png)",
   "id": "96c444c60ff17f69"
  },
  {
   "metadata": {},
   "cell_type": "markdown",
   "source": [
    "    注：w：给定文档的特征值（频数统计，预计文档提供）\n",
    "       c：文档类别"
   ],
   "id": "1ec3dcda2f835955"
  },
  {
   "metadata": {},
   "cell_type": "markdown",
   "source": "4.2.案例计算",
   "id": "a07a201623dbb323"
  },
  {
   "metadata": {},
   "cell_type": "markdown",
   "source": [
    "    可以用贝叶斯公式来解决思考题\n",
    "        P（喜欢|产品，超重） = P（产品，超重|喜欢）*P（喜欢）/P（产品，超重）\n",
    "    \n",
    "    上式中：\n",
    "        P（产品，超重|喜欢）和P（产品，超重）的结果均为0，导致无法计算结果。这是因为\n",
    "        我们的样本量太少，不具代表性。\n",
    "        本来现实生活中，肯定是存在职业是产品经理并且体重超重的人，P（产品，超重）不可能为0\n",
    "        而且时间“职业是产品经理”和时间“体重超重”通常被认为是相互独立的事件，但是，根\n",
    "        据我们有限的7个样本计算P（产品，超重）=P（产品）*P（超重）\n",
    "    而朴素贝叶斯可以帮助我们理解这个问题：\n",
    "        朴素贝叶斯，简单理解，就是假定了特获赠与特征之间相互独立的贝叶斯公式\n",
    "        也就是说，朴素贝叶斯，之所以朴素，就在于假定了特征与特征相互独立\n",
    "    所以，思考题如果按照朴素贝叶斯的思路来解决，就可以是：\n",
    "        P（产品，超重）=P（产品）*P（超重） = 2/7 * 3/7 = 6/49\n",
    "        P（产品，超重|喜欢） = P（产品|喜欢） * P（超重|喜欢） = 1/2 * 1/4 = 1/8\n",
    "        P（喜欢|产品，超重） = P（产品，超重|喜欢）*P（喜欢）/P（产品，超重）\n",
    "                         = （1/8 * 4/7） / （6/49）\n",
    "                         = 7/12\n",
    "    那么这个公式如果应用在文章分类的场景中，可以这样看：\n",
    "![jupyter](../Sources/Pictures/Naive_Bayes/朴素贝叶斯公式文章分类理解.png)"
   ],
   "id": "47c8db62cad2268c"
  },
  {
   "metadata": {},
   "cell_type": "markdown",
   "source": [
    "    公式分为三个部分：\n",
    "        P（C）：每个文档类别的概率（某文档类别数/总文档数量）\n",
    "        P（W | C）：给定类别下特征（被预测文档中出现的词）的概率\n",
    "            计算方法：P（F1 | C）= Ni/N （训练文档中出现的次数）\n",
    "                Ni：该F1词在C类别所有文档中出现的次数\n",
    "                N：所属类别C下的文档所有词出现的次数和\n",
    "        P（F1，F2，……）：预测文档每个词的概率"
   ],
   "id": "8997c12f1348156c"
  }
 ],
 "metadata": {
  "kernelspec": {
   "display_name": "Python 3",
   "language": "python",
   "name": "python3"
  },
  "language_info": {
   "codemirror_mode": {
    "name": "ipython",
    "version": 2
   },
   "file_extension": ".py",
   "mimetype": "text/x-python",
   "name": "python",
   "nbconvert_exporter": "python",
   "pygments_lexer": "ipython2",
   "version": "2.7.6"
  }
 },
 "nbformat": 4,
 "nbformat_minor": 5
}
