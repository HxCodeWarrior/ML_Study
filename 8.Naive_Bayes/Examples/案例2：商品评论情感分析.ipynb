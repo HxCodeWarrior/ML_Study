{
 "cells": [
  {
   "metadata": {},
   "cell_type": "markdown",
   "source": "## 案例：商品情感分析",
   "id": "2a04f301b7187719"
  },
  {
   "metadata": {},
   "cell_type": "markdown",
   "source": "1.商品评论情感分析",
   "id": "fd88a9fb9b479be4"
  },
  {
   "metadata": {},
   "cell_type": "markdown",
   "source": "![jupyter](../../Sources/Pictures/Naive_Bayes/商品评论情感分析数据.png)",
   "id": "c6dba9d33cf1a872"
  },
  {
   "metadata": {},
   "cell_type": "markdown",
   "source": "2.步骤分析",
   "id": "5aa4e11524fb9326"
  },
  {
   "metadata": {},
   "cell_type": "markdown",
   "source": [
    "    1.获取数据\n",
    "    2.数据基本处理\n",
    "        （1）取出内容列，对数据进行分析\n",
    "        （2）判定评判标准\n",
    "        （3）选择停用词\n",
    "        （4）把内容处理，转化成标准格式\n",
    "        （5）统计词的个数\n",
    "        （6）准备训练集和测试集\n",
    "    3.模型训练\n",
    "    4.模型评估"
   ],
   "id": "52a63cf98ca609bb"
  }
 ],
 "metadata": {
  "kernelspec": {
   "display_name": "Python 3",
   "language": "python",
   "name": "python3"
  },
  "language_info": {
   "codemirror_mode": {
    "name": "ipython",
    "version": 2
   },
   "file_extension": ".py",
   "mimetype": "text/x-python",
   "name": "python",
   "nbconvert_exporter": "python",
   "pygments_lexer": "ipython2",
   "version": "2.7.6"
  }
 },
 "nbformat": 4,
 "nbformat_minor": 5
}
