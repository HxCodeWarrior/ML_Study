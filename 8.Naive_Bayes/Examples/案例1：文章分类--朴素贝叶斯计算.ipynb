{
 "cells": [
  {
   "metadata": {},
   "cell_type": "markdown",
   "source": "案例1：文章分类——朴素贝叶斯计算",
   "id": "c97ccfeb74d6afae"
  },
  {
   "metadata": {},
   "cell_type": "markdown",
   "source": [
    "    需求：通过前四个训练样本（文章），判断第五篇文章，是否属于Chine类\n",
    "![jupyter](../../Sources/Pictures/Naive_Bayes/案例1数据.png)"
   ],
   "id": "43bed58da03b5d22"
  },
  {
   "metadata": {},
   "cell_type": "markdown",
   "source": [
    "    计算结果：\n",
    "    P(C | Chinese, Chinese, Chinese,Tokyo,Japan) --->\n",
    "    P(Chinese, CHinese, Chinese, Tokyo, Japan | C) * P(C)/ P(Chinese, Chinese, Chinese, Tokyo, Japan)\n",
    "    = P(Chinese|C)^3 * P(Tokyo|C) * P(Japan|C)*P(C) / [P(Chinese)^3 * P(Tokyo) * P(Japan)]\n",
    "    \n",
    "    # 这篇文章是需要计算是不是CHina类，是或者不是最后的分母值都相同：\n",
    "    \n",
    "    # 首先计算是China类的概率：\n",
    "        P（CHinese|C） = 5/8\n",
    "        P（Tokyo|C） = 0/8\n",
    "        P（Japan|C） = 0/8\n",
    "    # 接着计算不是China类的概率\n",
    "        P（Chinese|C） = 1/3\n",
    "        P（Tokyo|C） = 1/3\n",
    "        P（Japan|C） = 1/3"
   ],
   "id": "affec34566e2837e"
  },
  {
   "metadata": {},
   "cell_type": "markdown",
   "source": [
    "    问题：从上面的例子我们得到P（Tokyo|C）和P（Japan|C）都为0，这是不合理的\n",
    "         如果词频列表中有很多出现的次数都为0，很可能计算结果都为零"
   ],
   "id": "275dea8aa5a14be8"
  },
  {
   "metadata": {},
   "cell_type": "markdown",
   "source": "解决办法：把普拉斯平滑系数",
   "id": "2493211e6c00150a"
  },
  {
   "metadata": {},
   "cell_type": "markdown",
   "source": "![jupyter](../../Sources/Pictures/Naive_Bayes/拉普拉斯平滑系数.png)",
   "id": "fe07889e6b7a12b"
  },
  {
   "metadata": {},
   "cell_type": "markdown",
   "source": [
    "    注意：α为指定的系数，一般为1\n",
    "         m为训练文档中统计出的特征词的个数"
   ],
   "id": "84f6ebea7a9926ad"
  },
  {
   "metadata": {},
   "cell_type": "markdown",
   "source": [
    "    首先计算的是China类的概率：0.0003\n",
    "        P（Chinese|C） = 5/8  --->   6/14\n",
    "        P（Tokyo|C） = 0/8   --->    1/14\n",
    "        P（Japan|C） = 0/8   --->    1/14\n",
    "    接着计算不同的China类的概率\n",
    "        P（Chinese|C） = 1/3   --->    （经过拉普拉斯平滑系数处理）2/9\n",
    "        P（Tokyo|C） = 1/3     --->    2/9\n",
    "        P（Japan|C） = 1/3     --->    2/9"
   ],
   "id": "deba16665b9c7256"
  }
 ],
 "metadata": {
  "kernelspec": {
   "display_name": "Python 3",
   "language": "python",
   "name": "python3"
  },
  "language_info": {
   "codemirror_mode": {
    "name": "ipython",
    "version": 2
   },
   "file_extension": ".py",
   "mimetype": "text/x-python",
   "name": "python",
   "nbconvert_exporter": "python",
   "pygments_lexer": "ipython2",
   "version": "2.7.6"
  }
 },
 "nbformat": 4,
 "nbformat_minor": 5
}
