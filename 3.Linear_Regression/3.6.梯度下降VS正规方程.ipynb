{
 "cells": [
  {
   "metadata": {},
   "cell_type": "markdown",
   "source": "梯度下降和正规方程对比",
   "id": "67a3db654fa6aa7b"
  },
  {
   "metadata": {},
   "cell_type": "markdown",
   "source": [
    "    1.梯度下降\n",
    "        （1）需要选择学习率\n",
    "        （2）需要迭代求解\n",
    "        （3）特征数量较大可以使用"
   ],
   "id": "602c1a451c94bf26"
  },
  {
   "metadata": {},
   "cell_type": "markdown",
   "source": [
    "    2.正规方程：\n",
    "        （1）不需要选择学习率\n",
    "        （2）一次运算求解\n",
    "        （3）速妖计算方程，时间复杂度搞O(n3)"
   ],
   "id": "e0d0520c06fcf47e"
  },
  {
   "metadata": {},
   "cell_type": "markdown",
   "source": [
    "    3.算法选择依据：\n",
    "        （1）小规模数据：\n",
    "            正规方程\n",
    "            岭回归\n",
    "        （2）大规模数据：\n",
    "            梯度下降算法"
   ],
   "id": "ec7158334df11873"
  }
 ],
 "metadata": {
  "kernelspec": {
   "display_name": "Python 3",
   "language": "python",
   "name": "python3"
  },
  "language_info": {
   "codemirror_mode": {
    "name": "ipython",
    "version": 2
   },
   "file_extension": ".py",
   "mimetype": "text/x-python",
   "name": "python",
   "nbconvert_exporter": "python",
   "pygments_lexer": "ipython2",
   "version": "2.7.6"
  }
 },
 "nbformat": 4,
 "nbformat_minor": 5
}
