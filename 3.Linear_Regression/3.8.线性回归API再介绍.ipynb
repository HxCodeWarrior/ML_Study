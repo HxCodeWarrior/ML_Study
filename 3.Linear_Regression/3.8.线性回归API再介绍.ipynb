{
 "cells": [
  {
   "metadata": {},
   "cell_type": "markdown",
   "source": "线性回归API再介绍",
   "id": "7e1ec30c62e949b6"
  },
  {
   "metadata": {},
   "cell_type": "markdown",
   "source": "sklearn.linear_model.LinearRegression(fit_intercept=True)",
   "id": "c6a26bbe88143ec7"
  },
  {
   "metadata": {},
   "cell_type": "markdown",
   "source": [
    "    (1)通过正规方程优化\n",
    "    （2）参数：fit_intercept    是否计算偏置\n",
    "    （3）属性：LinearRegression.coef_:回归系数\n",
    "             LinearRegression.intercept_:偏置"
   ],
   "id": "cac4eb8121085686"
  },
  {
   "metadata": {},
   "cell_type": "markdown",
   "source": "sklearn.linear_model.SGDRegressor(loss=\"squared_loss\",fit_intercept=True,Linearing_rate=\"invscaling\",eta0=0.01)",
   "id": "33b9407eade294be"
  },
  {
   "metadata": {},
   "cell_type": "markdown",
   "source": [
    "    （1）SGDRegressor类实现了随机梯度下降学习，它支持不同的loss函数喝正则化惩罚项来拟合线性回归模型。\n",
    "    （2）参数：\n",
    "            loss：损失类型    loss=\"squared_loss\"普通最小二乘法\n",
    "            fit_intercept：是否计算偏置\n",
    "            learning_rate:string，可选\n",
    "                    \"constant\":eta=eta0   \n",
    "                    \"optimal\"：eta=eta0/(alpha*(t+t0))[default]\n",
    "                    \"invscaling\"：eta=eta0/pow(t,power_t)\n",
    "                        power_t=0.2：存在父类当中\n",
    "                    对于一个常数值的学习率来说，可以使用learning_rate=\"constant\"，并使用eta0来指定学习率\n",
    "         解释：回归系数：y=kx+b中的k就是回归系数\n",
    "              偏置：y=kx+b中的b就是偏置\n",
    "         注意：学习率设置为constant，即学习率设置为一个指定的参数\n",
    "              学习率设置为optimal、incscaling，一位置学习率会根据迭代的次数不断进行调整优化\n",
    "    （3）属性：\n",
    "            SGDRegressor_coef_：回归系数\n",
    "            SGDRegressor_intercent_:偏置"
   ],
   "id": "3e9973f5986b5098"
  }
 ],
 "metadata": {
  "kernelspec": {
   "display_name": "Python 3",
   "language": "python",
   "name": "python3"
  },
  "language_info": {
   "codemirror_mode": {
    "name": "ipython",
    "version": 2
   },
   "file_extension": ".py",
   "mimetype": "text/x-python",
   "name": "python",
   "nbconvert_exporter": "python",
   "pygments_lexer": "ipython2",
   "version": "2.7.6"
  }
 },
 "nbformat": 4,
 "nbformat_minor": 5
}
