{
 "cells": [
  {
   "metadata": {},
   "cell_type": "markdown",
   "source": "线性回归介绍",
   "id": "ad13a2e81e2b9777"
  },
  {
   "metadata": {},
   "cell_type": "markdown",
   "source": [
    "    1 线性回归应用场景\n",
    "        （1）房价预测\n",
    "        （2）销售额度预测\n",
    "        （3）贷款额度预测\n",
    "      举例：   \n",
    "            华氏度与摄氏度转换\n",
    "            F = C*9/5 + 32\n",
    "![jupyter](../Sources/Pictures/Linear_Regression/温度举例.png)"
   ],
   "id": "149d239616ebf49b"
  },
  {
   "metadata": {},
   "cell_type": "markdown",
   "source": "    2 什么是线性回归",
   "id": "88dd368bac1ea6c1"
  },
  {
   "metadata": {},
   "cell_type": "markdown",
   "source": [
    "        2.1 定义与公式\n",
    "            1.定义：线性回归是利用回归方程（函数）对一个或多个自变量（特征值）和因变量\n",
    "                （目标值）之间关系进行建模的一种分析方式。\n",
    "            2.特点：只有一个自变量地情况称为单变量回归，多于一个自变量情况的交多元回归"
   ],
   "id": "36450d9d451bf014"
  },
  {
   "metadata": {},
   "cell_type": "markdown",
   "source": "",
   "id": "b55e1f16adc91cb5"
  },
  {
   "metadata": {},
   "cell_type": "markdown",
   "source": [
    "            3.通用公式\n",
    "![jupyter](../Sources/Pictures/Linear_Regression/线性回归通用公式.png)"
   ],
   "id": "f801c34944edee7a"
  },
  {
   "metadata": {},
   "cell_type": "markdown",
   "source": [
    "            3.2共用公式中w，x可以理解为矩阵计算：\n",
    "![jupyter](../Sources/Pictures/Linear_Regression/线性回归通用公式wx矩阵解释.png)"
   ],
   "id": "d3fadcd5faffff86"
  },
  {
   "metadata": {},
   "cell_type": "markdown",
   "source": [
    "            3.3 线性回归用矩阵表示举例\n",
    "![jupyter](../Sources/Pictures/Linear_Regression/线性回归矩阵表示举例.png)"
   ],
   "id": "15b8fbf67ae9252c"
  },
  {
   "metadata": {},
   "cell_type": "markdown",
   "source": [
    "            3.4 写成矩阵形式\n",
    "![jupyter](../Sources/Pictures/Linear_Regression/线性回归举例矩阵形式.png)"
   ],
   "id": "aaa32b4a5f62c9ac"
  },
  {
   "metadata": {},
   "cell_type": "markdown",
   "source": [
    "            3.5 从列的角度看\n",
    "![jupyter](../Sources/Pictures/Linear_Regression/线性回归举例矩阵形式列的解释.png)"
   ],
   "id": "966cb8300e6b868e"
  },
  {
   "metadata": {},
   "cell_type": "markdown",
   "source": [
    "        简单理解：\n",
    "            （1）期末成绩：0.7*考试成绩+0.3*平时成绩\n",
    "            （2）房价：0.02*中心区域的举例 + 0.04*城市一氧化碳浓度+(-0.12*自住房平均房价)+0.254*城市犯罪率\n",
    "        上面两个例子，我们看到特征值与目标值之间建立了一个关系，这个关系可以理解为线性模型。"
   ],
   "id": "f9929d97045a8369"
  },
  {
   "metadata": {},
   "cell_type": "markdown",
   "source": [
    "    2.2 线性回归的特征与目标的关系分析\n",
    "    线性回归当中主要有两种模型，一种是线性模型，另一种是非线性模型。在这里我们只能画一个平面更好去理解，所以都用单个特征或两个特征举例子\n",
    "        （1）线性关系"
   ],
   "id": "e9389831a3cc280b"
  },
  {
   "metadata": {},
   "cell_type": "markdown",
   "source": [
    "        （a）单变量线性关系\n",
    "![jupyter](../Sources/Pictures/Linear_Regression/单变量线性关系-房价图解.png)"
   ],
   "id": "e56cebcc35ee873f"
  },
  {
   "metadata": {},
   "cell_type": "markdown",
   "source": [
    "        （b）多变量线性关系\n",
    "![jupyter](../Sources/Pictures/Linear_Regression/多变量线性关系-房价图解.png)"
   ],
   "id": "d55313a7198a480"
  },
  {
   "metadata": {},
   "cell_type": "markdown",
   "source": [
    "        (2)非线性关系\n",
    "        从字面来理解就是自变量（特征值）与因变量（目标值）之间并不是呈线性关系，是一条曲线。\n",
    "        如果是非线性关系，回归方程可以理解为：自变量有次幂"
   ],
   "id": "fcb9c0b2d18d9bf"
  }
 ],
 "metadata": {
  "kernelspec": {
   "display_name": "Python 3",
   "language": "python",
   "name": "python3"
  },
  "language_info": {
   "codemirror_mode": {
    "name": "ipython",
    "version": 2
   },
   "file_extension": ".py",
   "mimetype": "text/x-python",
   "name": "python",
   "nbconvert_exporter": "python",
   "pygments_lexer": "ipython2",
   "version": "2.7.6"
  }
 },
 "nbformat": 4,
 "nbformat_minor": 5
}
