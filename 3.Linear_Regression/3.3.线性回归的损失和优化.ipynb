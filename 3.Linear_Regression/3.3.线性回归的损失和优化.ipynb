{
 "cells": [
  {
   "metadata": {},
   "cell_type": "markdown",
   "source": "线性回归的损失和优化",
   "id": "e1b56a16c6f83c6b"
  },
  {
   "metadata": {},
   "cell_type": "markdown",
   "source": "1.损失函数",
   "id": "1610fb1b4bfa3ed6"
  },
  {
   "metadata": {},
   "cell_type": "markdown",
   "source": [
    "    假设之前的房子案例，真实的数据之间存在这样的关系：\n",
    "        真实关系：\n",
    "            真实房子价格=0.02*中心区域的距离+0.04*城市一氧化碳的浓度+（-0.12*自住房平均房价）+0.254*城市犯罪率\n",
    "    那么现在我们随机指定一个关系：\n",
    "        随机指定关系：\n",
    "            预测房子价格=0.25*中心区域的距离+0.14*城市一氧化碳的浓度+0.42*自住房的平均房价+0.34*城市犯罪率\n",
    "    这样的话，会发生什么？真实结果与我们预测的结果之间是不是存在一定的误差？\n",
    "![jupyter](../Sources/Pictures/Linear_Regression/房价案例真实与预测图解.png)        "
   ],
   "id": "adfd17fbe5ca8fd2"
  },
  {
   "metadata": {},
   "cell_type": "markdown",
   "source": "",
   "id": "682d1da49c318c82"
  },
  {
   "metadata": {},
   "cell_type": "markdown",
   "source": [
    "        总损失定义：\n",
    "![jupyter](../Sources/Pictures/Linear_Regression/总损失定义.png)"
   ],
   "id": "2b459baa6b84aa84"
  },
  {
   "metadata": {},
   "cell_type": "markdown",
   "source": [
    "        （1）yi为第i个训练样本的真实值\n",
    "        （2）h(xi)为第i个训练样本特征值组合预测函数\n",
    "        （3）又称最小二乘法"
   ],
   "id": "bf8aad027de17635"
  },
  {
   "metadata": {},
   "cell_type": "markdown",
   "source": [
    "    如何去减少这个损失，使我们预测的更加准确？既然存在这个损失，我们一直说机器学习有自\n",
    "    动学习的功能，在线性回归这里更能体现。这里可以通过一些优化方法去优化（其实是数学当\n",
    "    中的求导功能）回归的总损失！！"
   ],
   "id": "e98b329522e21a4f"
  },
  {
   "metadata": {},
   "cell_type": "markdown",
   "source": "2.优化算法",
   "id": "533d7b76aedaccaa"
  },
  {
   "metadata": {},
   "cell_type": "markdown",
   "source": [
    "    如何去求模型当中的w，使得损失最小？（目的是找到最小损失对应的w值）\n",
    "        线性回归中经常使用的两种优化算法：\n",
    "            （1）正规方程\n",
    "            （2）梯度下降算法\n",
    "        举例：相当于我们上边讲的，如何使预测房价中的每个系数，接近真实房价中的每个系数"
   ],
   "id": "ef15dc6f46e5f764"
  }
 ],
 "metadata": {
  "kernelspec": {
   "display_name": "Python 3",
   "language": "python",
   "name": "python3"
  },
  "language_info": {
   "codemirror_mode": {
    "name": "ipython",
    "version": 2
   },
   "file_extension": ".py",
   "mimetype": "text/x-python",
   "name": "python",
   "nbconvert_exporter": "python",
   "pygments_lexer": "ipython2",
   "version": "2.7.6"
  }
 },
 "nbformat": 4,
 "nbformat_minor": 5
}
