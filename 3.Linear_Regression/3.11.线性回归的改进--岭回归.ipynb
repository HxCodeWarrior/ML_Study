{
 "cells": [
  {
   "metadata": {},
   "cell_type": "markdown",
   "source": "线性回归的改进--岭回归",
   "id": "a61633aba70a9ecd"
  },
  {
   "metadata": {},
   "cell_type": "markdown",
   "source": "1.API",
   "id": "e0d8607808c4bf2f"
  },
  {
   "metadata": {},
   "cell_type": "markdown",
   "source": "sklearn.linear_model.Ridge(alpha=1.0,fit_intercept=True,solver=\"auto\",normalize=False)",
   "id": "57abd06e574053f8"
  },
  {
   "metadata": {},
   "cell_type": "markdown",
   "source": "",
   "id": "4b018d4019a3eb54"
  },
  {
   "metadata": {},
   "cell_type": "markdown",
   "source": [
    "    (1)具有L2正则化的线性回归\n",
    "    （2）参数介绍：\n",
    "        alpha：正则化力度；也叫λ      \n",
    "            λ取值为：0-1  1-10，λ越小惩罚力度越小\n",
    "        solver：会根据数据自动选择优化方法：\n",
    "            sag；如果数据集、特征都比较大，选择该随机梯度下降优化\n",
    "        nomalize：数据是否进行标准化\n",
    "            noemalize=False，可以在fit之前调用preprocessing.StandarScaler标准化数据\n",
    "    （3）属性介绍：\n",
    "            Ridge.coef_:回归权重\n",
    "            Ridge.intercept_:回归偏置"
   ],
   "id": "ba6ab413ad18f400"
  },
  {
   "metadata": {},
   "cell_type": "markdown",
   "source": [
    "    Ridge方法相当于SGDRegressor(penalty=\"l2\",loss=\"squared_loss\")，\n",
    "    只不过SGDRessor实现了一个普通的随机梯度下降学习，\n",
    "    推荐使用Ridge（实现了SAG）"
   ],
   "id": "b132494de225528c"
  },
  {
   "metadata": {},
   "cell_type": "markdown",
   "source": [
    "    sklearn.linear_model.RidgeCV(_BaseRidgeCV,RegressorMixin)\n",
    "        （1）介绍：具有L2正则化的线性回归，可以进行交叉验证\n",
    "        （2）属性：coef_:回归系数"
   ],
   "id": "cf8f3e3138916201"
  },
  {
   "metadata": {},
   "cell_type": "markdown",
   "source": "2.观察正则化程度的变化对结果的影响",
   "id": "49aeae5036ce7c0c"
  },
  {
   "metadata": {},
   "cell_type": "markdown",
   "source": [
    "    （1）正则化力度越大，权重系数越小\n",
    "    （2）正则化力度越小，权重系数越大\n",
    "![jupyter](../Sources/Pictures/Linear_Regression/正则化力度对结果(权重)影响.png)"
   ],
   "id": "447980ec96b7b1d7"
  },
  {
   "metadata": {},
   "cell_type": "markdown",
   "source": "小结： ",
   "id": "790b9f32f6283034"
  },
  {
   "metadata": {},
   "cell_type": "markdown",
   "source": [
    "    sklearn.linear_model.Ridge(alpha=1.0,fit_intercept=True,solver=\"auto\",normalize=False)\n",
    "    （1）具有L2正则化的线性回归\n",
    "    （2）alpha--正则化：\n",
    "            正则化力度越大，权重系数越小\n",
    "            正则化力度越小，权重系数越大\n",
    "    （3）normalize：\n",
    "            默认封装了，对数据进行标准化处理"
   ],
   "id": "a7052db9324fefc2"
  }
 ],
 "metadata": {
  "kernelspec": {
   "display_name": "Python 3",
   "language": "python",
   "name": "python3"
  },
  "language_info": {
   "codemirror_mode": {
    "name": "ipython",
    "version": 2
   },
   "file_extension": ".py",
   "mimetype": "text/x-python",
   "name": "python",
   "nbconvert_exporter": "python",
   "pygments_lexer": "ipython2",
   "version": "2.7.6"
  }
 },
 "nbformat": 4,
 "nbformat_minor": 5
}
