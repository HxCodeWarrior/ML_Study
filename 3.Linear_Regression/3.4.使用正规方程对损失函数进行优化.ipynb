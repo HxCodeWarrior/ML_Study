{
 "cells": [
  {
   "metadata": {},
   "cell_type": "markdown",
   "source": "正规方程",
   "id": "659cb5a0665cd5d9"
  },
  {
   "metadata": {},
   "cell_type": "markdown",
   "source": [
    "    （1）什么是正规方程\n",
    "        理解：X为特征值矩阵，y为目标值矩阵，直接求导最好的结果\n",
    "        缺点：当特征过多过复杂时，求解速度太慢并且得不到结果\n",
    "![jupyter](../Sources/Pictures/Linear_Regression/正规方程.png)"
   ],
   "id": "27dda22eb3117ef7"
  },
  {
   "metadata": {},
   "cell_type": "markdown",
   "source": "![jupyter](../Sources/Pictures/Linear_Regression/正规方程图解.png)",
   "id": "1312e9ac466a6187"
  },
  {
   "metadata": {},
   "cell_type": "markdown",
   "source": [
    "        (2)正规方程求解举例\n",
    "![jupyter](../Sources/Pictures/Linear_Regression/正规方程举例数据.png)"
   ],
   "id": "112504f35652f362"
  },
  {
   "metadata": {},
   "cell_type": "markdown",
   "source": "![jupyter](../Sources/Pictures/Linear_Regression/正规方程举例数据矩阵形式.png)\n",
   "id": "e20d07dd44e26193"
  },
  {
   "metadata": {},
   "cell_type": "markdown",
   "source": "![jupyter](../Sources/Pictures/Linear_Regression/正规方程举例数据转换.png)",
   "id": "783d0dbbb02c2779"
  },
  {
   "metadata": {},
   "cell_type": "markdown",
   "source": [
    "    正规方程计算\n",
    "![jupyter](../Sources/Pictures/Linear_Regression/正规方程计算.png)"
   ],
   "id": "e6f3f19dc56dc407"
  },
  {
   "metadata": {},
   "cell_type": "markdown",
   "source": "        （3）正规方程的推导",
   "id": "fa01c33ec9508ed3"
  },
  {
   "metadata": {},
   "cell_type": "markdown",
   "source": [
    "        推导方式一：\n",
    "          把该损失函数转换成矩阵写法：\n",
    "          其中y是真实值矩阵，X是特征值矩阵，w是权重矩阵\n",
    "![jupyter](../Sources/Pictures/Linear_Regression/正规方程推导1-1.png)"
   ],
   "id": "7a1e2607bf9ddba2"
  },
  {
   "metadata": {},
   "cell_type": "markdown",
   "source": [
    "            对其求解关于w的最小值，起止y，X均已知二次函数直接求导，导数为0的位置，即为最小值。\n",
    "            求导：\n",
    "![jupyter](../Sources/Pictures/Linear_Regression/正规方程推导1-2.png)"
   ],
   "id": "a7693a7af0663c23"
  },
  {
   "metadata": {},
   "cell_type": "markdown",
   "source": "            注意：式（1）到式（2）推导过程中，X是一个m行n列的矩阵，并不能保证其有逆矩阵，但是右乘X把其变成一个方阵，保证其有逆矩阵。",
   "id": "f9949af55e38a98a"
  },
  {
   "metadata": {},
   "cell_type": "markdown",
   "source": [
    "        推导方式二：\n",
    "            把损失函数分开写：\n",
    "![jupyter](../Sources/Pictures/Linear_Regression/正规方程推导2-1.png)"
   ],
   "id": "91285de3b8db7468"
  },
  {
   "metadata": {},
   "cell_type": "markdown",
   "source": [
    "            对展开上式进行求导：\n",
    "![jupyter](../Sources/Pictures/Linear_Regression/正规方程推导2-2.png)"
   ],
   "id": "9107ab6dad37dc4a"
  },
  {
   "metadata": {},
   "cell_type": "markdown",
   "source": [
    "            需要求得导数的极小值，即上式求导结果为0，经过化解，得到结果为：\n",
    "![jupyter](../Sources/Pictures/Linear_Regression/正规方程推导2-3.png)"
   ],
   "id": "d6d5b8288f465567"
  },
  {
   "metadata": {},
   "cell_type": "markdown",
   "source": [
    "            经过化解：\n",
    "![jupyter](../Sources/Pictures/Linear_Regression/正规方程推导2-4.png)    "
   ],
   "id": "4a82054d4fd48c9f"
  },
  {
   "metadata": {},
   "cell_type": "markdown",
   "source": [
    "            补充：需要用到的矩阵求导公式：\n",
    "![jupyter](../Sources/Pictures/Linear_Regression/正规方程推导2-5.png)"
   ],
   "id": "b234f514b7440ea0"
  }
 ],
 "metadata": {
  "kernelspec": {
   "display_name": "Python 3",
   "language": "python",
   "name": "python3"
  },
  "language_info": {
   "codemirror_mode": {
    "name": "ipython",
    "version": 2
   },
   "file_extension": ".py",
   "mimetype": "text/x-python",
   "name": "python",
   "nbconvert_exporter": "python",
   "pygments_lexer": "ipython2",
   "version": "2.7.6"
  }
 },
 "nbformat": 4,
 "nbformat_minor": 5
}
