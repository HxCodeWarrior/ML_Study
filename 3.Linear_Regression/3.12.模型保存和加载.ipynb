{
 "cells": [
  {
   "metadata": {},
   "cell_type": "markdown",
   "source": "模型的保存和加载",
   "id": "2ca04c4da80a1438"
  },
  {
   "metadata": {},
   "cell_type": "markdown",
   "source": "1.sklearn模型的保存和加载API",
   "id": "53b638344f7ffbac"
  },
  {
   "metadata": {},
   "cell_type": "markdown",
   "source": [
    "    from sklearn.extermals import joblib\n",
    "        （1）保存：joblib.dump(estimator, 'filename.pki')\n",
    "        （2）加载：estimator = joblib.load(\"filename.pki\")"
   ],
   "id": "e343afe28dda785a"
  },
  {
   "metadata": {},
   "cell_type": "markdown",
   "source": "2.线性回归的模型保存加载案例",
   "id": "767d152879d2649f"
  }
 ],
 "metadata": {
  "kernelspec": {
   "display_name": "Python 3",
   "language": "python",
   "name": "python3"
  },
  "language_info": {
   "codemirror_mode": {
    "name": "ipython",
    "version": 2
   },
   "file_extension": ".py",
   "mimetype": "text/x-python",
   "name": "python",
   "nbconvert_exporter": "python",
   "pygments_lexer": "ipython2",
   "version": "2.7.6"
  }
 },
 "nbformat": 4,
 "nbformat_minor": 5
}
