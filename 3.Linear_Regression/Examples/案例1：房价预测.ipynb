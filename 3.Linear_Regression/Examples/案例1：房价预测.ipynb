{
 "cells": [
  {
   "metadata": {},
   "cell_type": "markdown",
   "source": "房价预测",
   "id": "d410b9a9ea0d1d9b"
  },
  {
   "metadata": {},
   "cell_type": "markdown",
   "source": [
    "    1.案例背景介绍\n",
    "        （1）数据介绍\n",
    "            （1.1）实例数量：506\n",
    "            （1.2）属性数量：13数值型或类别型，帮助预测的属性\n",
    "            （1.3）中位数（第14个属性）：经常是学习目标\n",
    "            （1.4）属性信息（按顺序）：\n",
    "                    CRIM：城镇人均犯罪率\n",
    "                    ZN：占地面积超过2.5万平方英尺的住宅用地比例\n",
    "                    INDUS：城镇非零售业务地区的比例\n",
    "                    CHAS：查尔斯河虚拟变量（=1 如果土地在河边；否则为0）[离散值]\n",
    "                    NOX：一氧化碳的浓度（每1000万份）\n",
    "                    RM：平均每居民方数\n",
    "                    AGE：在1940年之前建成的所有这占有单位比例\n",
    "                    DIS：与5个就业中新的加权距离\n",
    "                    RAD：辐射状公路的可达性指数\n",
    "                    TAX：每10.000美元的全额物业税率\n",
    "                    PTRATIO：城镇师生比例\n",
    "                    B 1000（Bk-0.63）^2：其中Bk是城镇的黑人比例\n",
    "                    LSTAT：人口中地位较低人群百分比\n",
    "                    MEDV：以1000美元计算的自由住房的中位数\n",
    "            （1.5）缺失属性值：无\n",
    "            （1.6）创建者：Harrison.D. and Rubirfied.D.L\n",
    "        这是UCIML（欧文加利福尼亚大学机器学习库）房价数据集的副本\n",
    "[波士顿房价数据集](https://archive.ics.uci.edu/ml/machine-learning-databases/housing/housing.data)\n",
    "[波士顿房价数据集下载地址](https://aistudio.baidu.com/datasetdetail/250392)"
   ],
   "id": "1d4416d3d50a36a3"
  },
  {
   "metadata": {},
   "cell_type": "markdown",
   "source": [
    "    2.案例分析\n",
    "    回归当中的数据大小不一致，是否会导致结果影响较大，所以需要对数据进行标准化处理\n",
    "        （1）数据分割与标准化处理\n",
    "        （2）回归预测\n",
    "        （3）线性回归算法效果评估"
   ],
   "id": "2ce2341bad5a9982"
  },
  {
   "metadata": {},
   "cell_type": "markdown",
   "source": [
    "    3.回归性能评估\n",
    "        均方误差（Mean Squared Error）（简称MSE）评价机制\n",
    "![jupyter](../../Sources/Pictures/Linear_Regression/房价预测-回归性能评估.png)"
   ],
   "id": "9ae8899949dd1ef"
  },
  {
   "metadata": {},
   "cell_type": "markdown",
   "source": "        注意：y^i为预测值，平均值为真实值",
   "id": "e8f05b485d05913b"
  },
  {
   "metadata": {},
   "cell_type": "markdown",
   "source": [
    "    sklearn.metrics.mean_squared_error(y_true,y_pred)\n",
    "        （1）功能：均方误差回归损失\n",
    "        （2）参数解释：\n",
    "                y_true:真实值\n",
    "                y_pred:预测值\n",
    "        （3）返回值：浮点数结果"
   ],
   "id": "86500f15030ef7f2"
  }
 ],
 "metadata": {
  "kernelspec": {
   "display_name": "Python 3",
   "language": "python",
   "name": "python3"
  },
  "language_info": {
   "codemirror_mode": {
    "name": "ipython",
    "version": 2
   },
   "file_extension": ".py",
   "mimetype": "text/x-python",
   "name": "python",
   "nbconvert_exporter": "python",
   "pygments_lexer": "ipython2",
   "version": "2.7.6"
  }
 },
 "nbformat": 4,
 "nbformat_minor": 5
}
