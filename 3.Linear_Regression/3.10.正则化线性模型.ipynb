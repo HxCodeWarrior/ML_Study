{
 "cells": [
  {
   "metadata": {},
   "cell_type": "markdown",
   "source": "正则化线性模型",
   "id": "37a33bf3214ae431"
  },
  {
   "metadata": {},
   "cell_type": "markdown",
   "source": "1.Ridge Regression（岭回归，又名Tikhonov regularization）",
   "id": "3f44a915b3cee0f8"
  },
  {
   "metadata": {},
   "cell_type": "markdown",
   "source": [
    "    岭回归是线性回归的正则化版本，即在原来的线性回归的cost function中添加正则项（regularization term）：\n",
    "    目的：对系数进行限制\n",
    "    注意：α和θ是一个此消彼长的关系\n",
    "         此添加项叫惩罚力度\n",
    "![jupyter](../Sources/Pictures/Linear_Regression/岭回归方程添加项.png)"
   ],
   "id": "38949688815c206"
  },
  {
   "metadata": {},
   "cell_type": "markdown",
   "source": [
    "    以达到在你和数据的同时，石墨性能权重尽可能小的目的，岭回归的代价函数：\n",
    "![jupyter](../Sources/Pictures/Linear_Regression/岭回归代价函数1.png)"
   ],
   "id": "1bdce0d9b0f5a937"
  },
  {
   "metadata": {},
   "cell_type": "markdown",
   "source": [
    "    即有：\n",
    "    注意：α=0，岭回归退化为线性回归\n",
    "![jupyter](../Sources/Pictures/Linear_Regression/岭回归代价函数2.png)"
   ],
   "id": "1c32918cf9288f20"
  },
  {
   "metadata": {},
   "cell_type": "markdown",
   "source": "2.Lasso Regression（Lasso回归）",
   "id": "3bf5dc9884ccd67"
  },
  {
   "metadata": {},
   "cell_type": "markdown",
   "source": [
    "    Lasso回归是线性回归的另一种正则化版本，正则项维权值向量的范数\n",
    "    Lasso回归的代价函数：\n",
    "![jupyter](../Sources/Pictures/Linear_Regression/Lasso回归的代价函数.png)"
   ],
   "id": "7e73fd925fe57fec"
  },
  {
   "metadata": {},
   "cell_type": "markdown",
   "source": [
    "    注意：\n",
    "        Lasso Regression的代价函数在θ1=0处是不可导的\n",
    "        解决方法：在θ1=0处用一个次梯度向量（subgradient vector）代替梯度，如下式\n",
    "        Lasso Regression的次梯度向量（复合函数）\n",
    "![jupyter](../Sources/Pictures/Linear_Regression/Lasso回归的次梯度向量.png)"
   ],
   "id": "8fd9d1e770c61b7f"
  },
  {
   "metadata": {},
   "cell_type": "markdown",
   "source": [
    "    Lasso Regression有一个很重要的性质：倾向于完全消除不重要的权重\n",
    "    Lasso Regression构建的一个矩阵为：稀疏矩阵\n",
    "![jupyter](../Sources/Pictures/Linear_Regression/Lasso回归的次梯度向量.png)"
   ],
   "id": "b87e8a98f7bd566a"
  },
  {
   "metadata": {},
   "cell_type": "markdown",
   "source": [
    "    例如：当α取值相对较大时，高阶多项式退化为二次甚至是线性：高阶多项式的权重被置为0\n",
    "         也就是说，Lasso Regression能够自动进行特征选择，并输出一个稀疏模型\n",
    "         （只有少数特征的权重是非零的）"
   ],
   "id": "c31fe755e42efaaf"
  },
  {
   "metadata": {},
   "cell_type": "markdown",
   "source": "3.Elastic Net（弹性网络）",
   "id": "888aa882a3b2ec94"
  },
  {
   "metadata": {},
   "cell_type": "markdown",
   "source": [
    "    弹性网络在岭回归和Lasso回归中进行了折中，通过混合比r（mix ratio）进行控制：\n",
    "        r=0：弹性网络变成岭回归\n",
    "        r=1：弹性网络变为Lasso回归\n",
    "    弹性网络的代价函数：\n",
    "![jupyter](../Sources/Pictures/Linear_Regression/弹性网络的代价函数.png\n",
    ")"
   ],
   "id": "c90c319c6f72b0f5"
  },
  {
   "metadata": {},
   "cell_type": "markdown",
   "source": [
    "    一般来说，我们应该避免使用朴素线性回归（没有添加线性回归模型），而应对模型进行一定\n",
    "    的正则化处理，那如何选择正则化方法呢？\n",
    "    常用：岭回归\n",
    "    假设只有少部分特征是有用的：\n",
    "        弹性网络 \n",
    "        Lasso回归\n",
    "        一般来说，弹性网络的使用更为广泛，因为在特征维度高于训练样本数，或者特征是强\n",
    "        相关的情况下，Lasso回归的表现不太稳定"
   ],
   "id": "a91beee8b9f47dfc"
  },
  {
   "metadata": {},
   "cell_type": "markdown",
   "source": "API：from sklearn.linear_model import Ridge,ElasticNet,Lasso",
   "id": "9d85c36ff51ec71a"
  },
  {
   "metadata": {},
   "cell_type": "markdown",
   "source": "4.Early Stopping(了解)",
   "id": "7a40528aa88e99df"
  },
  {
   "metadata": {},
   "cell_type": "markdown",
   "source": [
    "    Early Stopping也是正则化迭代学习的方法之一。\n",
    "    其做法为：在验证错误率达到最小值的时候停止训练"
   ],
   "id": "6d6918253f9356d3"
  },
  {
   "metadata": {},
   "cell_type": "markdown",
   "source": [
    "小结\n",
    "    Ridge Regression岭回归\n",
    "        （1）就是把系数添加平方根\n",
    "        （2）限制系数值大小\n",
    "        （3）α值越小，系数值越大；α越大，系数值越小\n",
    "    Lasso回归：\n",
    "        （1）对于系数值进行绝对值处理\n",
    "        （2）由于绝对值在顶点处不可导，所以进行计算的过程中产生很多0，最后得到结果为稀疏矩阵\n",
    "    Elastic Net弹性网络：\n",
    "        （1）是两个内容的综合\n",
    "        （2）设置了一个r，如果r=0--岭回归；r=1--Lasso回归\n",
    "    Early Stopping：\n",
    "        通过限制错误率的阈值，进行停止训练"
   ],
   "id": "e4d56139634ae17e"
  }
 ],
 "metadata": {
  "kernelspec": {
   "display_name": "Python 3",
   "language": "python",
   "name": "python3"
  },
  "language_info": {
   "codemirror_mode": {
    "name": "ipython",
    "version": 2
   },
   "file_extension": ".py",
   "mimetype": "text/x-python",
   "name": "python",
   "nbconvert_exporter": "python",
   "pygments_lexer": "ipython2",
   "version": "2.7.6"
  }
 },
 "nbformat": 4,
 "nbformat_minor": 5
}
