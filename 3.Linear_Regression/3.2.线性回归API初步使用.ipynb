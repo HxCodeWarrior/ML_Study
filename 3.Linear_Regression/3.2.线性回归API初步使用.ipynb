{
 "cells": [
  {
   "metadata": {},
   "cell_type": "markdown",
   "source": "线性回归API初步使用",
   "id": "2eedcd70563e2fe7"
  },
  {
   "metadata": {},
   "cell_type": "markdown",
   "source": [
    "    1.线性回归API\n",
    "        sklearn.linear_model.LinearRegresssion()\n",
    "            LinearRegression.coef_:回归系数"
   ],
   "id": "bebe355b4333a142"
  },
  {
   "metadata": {},
   "cell_type": "markdown",
   "source": [
    "    2.举例\n",
    "![jupyter](../Sources/Pictures/Linear_Regression/线性回归API举例.png)"
   ],
   "id": "827642e7bc558cb8"
  },
  {
   "metadata": {},
   "cell_type": "markdown",
   "source": "",
   "id": "f5cbd250c37773a6"
  },
  {
   "metadata": {},
   "cell_type": "markdown",
   "source": [
    "        2.1 步骤分析\n",
    "            （1）获取数据集\n",
    "            （2）数据基本处理（该案例中省略）\n",
    "            （3）特征工程（该案例中省略）\n",
    "            （4）机器学习\n",
    "            （5）模型评估（该案例中省略）"
   ],
   "id": "e982d45b9930b85d"
  },
  {
   "metadata": {
    "ExecuteTime": {
     "end_time": "2024-07-07T04:41:55.753313Z",
     "start_time": "2024-07-07T04:41:55.739348Z"
    }
   },
   "cell_type": "code",
   "source": [
    "from sklearn.linear_model import LinearRegression\n",
    "\n",
    "x = [\n",
    "    [80,86],\n",
    "    [82,80],\n",
    "    [85,78],\n",
    "    [90,90],\n",
    "    [86,82],\n",
    "    [82,90],\n",
    "    [78,80],\n",
    "    [92,94]\n",
    "]\n",
    "y=[84.2,80.6,80.1,90,83.2,87.6,79.4,93.4]\n",
    "\n",
    "# 机器学习 -- 模型训练\n",
    "# 1.实例化API\n",
    "estimator = LinearRegression()\n",
    "# 2.使用fit方法训练\n",
    "estimator.fit(x, y)\n",
    "# 对应系数\n",
    "print(\"线性回归的系数：\",estimator.coef_)\n",
    "\n",
    "print(\"输出预测结果：\",estimator.predict([[98,99]]))"
   ],
   "id": "3e89c4add1293f59",
   "outputs": [
    {
     "name": "stdout",
     "output_type": "stream",
     "text": [
      "线性回归的系数： [0.3 0.7]\n",
      "输出预测结果： [98.7]\n"
     ]
    }
   ],
   "execution_count": 5
  },
  {
   "metadata": {},
   "cell_type": "code",
   "outputs": [],
   "execution_count": null,
   "source": "",
   "id": "ffb7a149c4dc23c6"
  }
 ],
 "metadata": {
  "kernelspec": {
   "display_name": "Python 3",
   "language": "python",
   "name": "python3"
  },
  "language_info": {
   "codemirror_mode": {
    "name": "ipython",
    "version": 2
   },
   "file_extension": ".py",
   "mimetype": "text/x-python",
   "name": "python",
   "nbconvert_exporter": "python",
   "pygments_lexer": "ipython2",
   "version": "2.7.6"
  }
 },
 "nbformat": 4,
 "nbformat_minor": 5
}
