{
 "cells": [
  {
   "metadata": {},
   "cell_type": "markdown",
   "source": "线性回归API初步使用",
   "id": "2eedcd70563e2fe7"
  },
  {
   "metadata": {},
   "cell_type": "markdown",
   "source": [
    "    1.线性回归API\n",
    "        sklearn.linear_model.LinearRegresssion()\n",
    "            LinearRegression.coef_:回归系数"
   ],
   "id": "bebe355b4333a142"
  },
  {
   "metadata": {},
   "cell_type": "markdown",
   "source": [
    "    2.举例\n",
    "![jupyter](../Sources/Pictures/Linear_Regression/线性回归API举例.png)"
   ],
   "id": "827642e7bc558cb8"
  },
  {
   "metadata": {},
   "cell_type": "markdown",
   "source": [
    "        2.1 步骤分析\n",
    "            （1）获取数据集\n",
    "            （2）数据基本处理（该案例中省略）\n",
    "            （3）特征工程（该案例中省略）\n",
    "            （4）机器学习\n",
    "            （5）模型评估（该案例中省略）"
   ],
   "id": "e982d45b9930b85d"
  }
 ],
 "metadata": {
  "kernelspec": {
   "display_name": "Python 3",
   "language": "python",
   "name": "python3"
  },
  "language_info": {
   "codemirror_mode": {
    "name": "ipython",
    "version": 2
   },
   "file_extension": ".py",
   "mimetype": "text/x-python",
   "name": "python",
   "nbconvert_exporter": "python",
   "pygments_lexer": "ipython2",
   "version": "2.7.6"
  }
 },
 "nbformat": 4,
 "nbformat_minor": 5
}
