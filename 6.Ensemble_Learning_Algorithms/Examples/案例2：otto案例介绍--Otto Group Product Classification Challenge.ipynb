{
 "cells": [
  {
   "metadata": {},
   "cell_type": "markdown",
   "source": "ott案例介绍--Otto Group Product Classification Challenge",
   "id": "a209cdc9cc3cc8e9"
  },
  {
   "metadata": {},
   "cell_type": "markdown",
   "source": "1.背景介绍",
   "id": "3238696efd120af6"
  },
  {
   "metadata": {},
   "cell_type": "markdown",
   "source": [
    "    奥托集团是世界上最大的电子商务公司之一，在20多个国家设有子公司。该公司每天都在世界各\n",
    "    地销售数百万种产品，所以对其产品根据性能合理的分类很重要。\n",
    "    不过在实际工作中，工作过人员发现，许多相同的产品得到了不同的分类。本案例要求对奥托集\n",
    "    团的产品进行正确的分类，尽可能提供分类的准确性。\n",
    "[数据链接](https://www.kaggle.com/c/otto-group-product-classification-challenge/data)"
   ],
   "id": "1ab8a44d01a900c5"
  },
  {
   "metadata": {},
   "cell_type": "markdown",
   "source": "![jupyter](../../Sources/Pictures/Ensemble_Learning_Algorithms/otto背景.png)",
   "id": "b4cd9360349e877a"
  },
  {
   "metadata": {},
   "cell_type": "markdown",
   "source": "2.数据集介绍",
   "id": "ec122f0d07ea6552"
  },
  {
   "metadata": {},
   "cell_type": "markdown",
   "source": [
    "    本案例中，数据集包含大约200，000种产品的93个特征\n",
    "    其目的是建立一个能够区分otto公司主要产品类别的预测模型\n",
    "    所有产品被分成九个类别（例如时装、电子产品等等）\n",
    "    数据clomns介绍：\n",
    "        id：产品id\n",
    "        feat_1,feat_2,……，feat_93：产品的各个特征\n",
    "        target：产品被划分的类别\n",
    "![jupyter](../../Sources/Pictures/Ensemble_Learning_Algorithms/otto数据集.png)"
   ],
   "id": "826932146ebd9df6"
  },
  {
   "metadata": {},
   "cell_type": "markdown",
   "source": "3.评分标准",
   "id": "9a30fa300259c93b"
  },
  {
   "metadata": {},
   "cell_type": "markdown",
   "source": [
    "    本案例中，最后结果使用多酚类对数据损失进行评估。\n",
    "    具体公式：\n",
    "![jupyter](../../Sources/Pictures/Ensemble_Learning_Algorithms/otto评分标准公式.png)"
   ],
   "id": "d5420f49a2757d7"
  },
  {
   "metadata": {},
   "cell_type": "markdown",
   "source": [
    "    上公式：\n",
    "        （1）i表示样本，j表示类别，Pij代表第i个样本属于类别j的频率\n",
    "        （2）如果第i个样本真的属于类别j，则yij等于1，否则为0\n",
    "        （3）根据上公式，加入将所有的测试样本都正确分类，所有的Pij都为1，\n",
    "            那么每个log（Pij）都为0，最终的logloss也是0\n",
    "        （4）加入我们第1个样本呢本来是属于1类别的，但是设定的类别概率为Pij=0.1，那\n",
    "            么logloss就会累加上log（0.1）这一项。我们知道这一项是负数，而且Pij越\n",
    "            小，负的越多；如果Pij=0，这就或导致：分错了一个，logloss就是无穷。这\n",
    "            是不合理的，为了避免这一情况，我们对非常小的值做了如下处理（也即是说最小\n",
    "            不会小于10^-15）：\n",
    "![jupyter](../../Sources/Pictures/Ensemble_Learning_Algorithms/otto评分标准公式细节处理.png)"
   ],
   "id": "417498482448a67b"
  },
  {
   "metadata": {},
   "cell_type": "markdown",
   "source": "4.实现过程",
   "id": "4dbfc832f7b05e8f"
  },
  {
   "metadata": {},
   "cell_type": "markdown",
   "source": [
    "    4.1.流程分析\n",
    "        （1）获取数据\n",
    "        （2）数据基本处理\n",
    "            数据量比较大，尝试是否可以进行数据分割\n",
    "            转换目标值表示方式\n",
    "        （3）特征工程\n",
    "        （4）机器学习\n",
    "            模型基本训练\n",
    "        （5）模型评估"
   ],
   "id": "42ff876c18eef16"
  }
 ],
 "metadata": {
  "kernelspec": {
   "display_name": "Python 3",
   "language": "python",
   "name": "python3"
  },
  "language_info": {
   "codemirror_mode": {
    "name": "ipython",
    "version": 2
   },
   "file_extension": ".py",
   "mimetype": "text/x-python",
   "name": "python",
   "nbconvert_exporter": "python",
   "pygments_lexer": "ipython2",
   "version": "2.7.6"
  }
 },
 "nbformat": 4,
 "nbformat_minor": 5
}
