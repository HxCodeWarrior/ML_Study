{
 "cells": [
  {
   "metadata": {},
   "cell_type": "markdown",
   "source": "集成学习算法简介",
   "id": "cd914d5dd99dde38"
  },
  {
   "metadata": {},
   "cell_type": "markdown",
   "source": "1.什么是集成学习",
   "id": "166fd73e8256864a"
  },
  {
   "metadata": {},
   "cell_type": "markdown",
   "source": [
    "    集成学习通过建立几个模型来解决单一预测问题。它的工作原理是生成多个分类器/模型，各自独立学习和做出预测。这些预测最后结合组合预测，因此优于任何一个单分类做出预测\n",
    "![jupyter](../Sources/Pictures/Ensemble_Learning_Algorithms/集成学习优势简单图解.png)"
   ],
   "id": "f022bc322869cdc3"
  },
  {
   "metadata": {},
   "cell_type": "markdown",
   "source": "2.复习：机器学习的两个核心任务",
   "id": "6547337e45cec712"
  },
  {
   "metadata": {},
   "cell_type": "markdown",
   "source": [
    "    （1）如何优化训练数据-->主要用于解决欠拟合问题\n",
    "    （2）如何提升泛化性能-->主要用于解决过拟合问题"
   ],
   "id": "13fac04a2b916e31"
  },
  {
   "metadata": {},
   "cell_type": "markdown",
   "source": "3.集成学习中boosting和Bagging",
   "id": "f0f6734babeb765a"
  },
  {
   "metadata": {},
   "cell_type": "markdown",
   "source": [
    "    只要单分类器的表现不差，集成学习的结果总是要好于单分类器\n",
    "![jupyter](../Sources/Pictures/Ensemble_Learning_Algorithms/集成学习中boosting和Bagging.png)"
   ],
   "id": "f7d86182d74cd933"
  }
 ],
 "metadata": {
  "kernelspec": {
   "display_name": "Python 3",
   "language": "python",
   "name": "python3"
  },
  "language_info": {
   "codemirror_mode": {
    "name": "ipython",
    "version": 2
   },
   "file_extension": ".py",
   "mimetype": "text/x-python",
   "name": "python",
   "nbconvert_exporter": "python",
   "pygments_lexer": "ipython2",
   "version": "2.7.6"
  }
 },
 "nbformat": 4,
 "nbformat_minor": 5
}
