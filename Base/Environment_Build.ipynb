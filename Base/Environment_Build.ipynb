{
 "cells": [
  {
   "metadata": {},
   "cell_type": "markdown",
   "source": "环境搭建",
   "id": "50364aaaccd56247"
  },
  {
   "metadata": {},
   "cell_type": "markdown",
   "source": [
    "整个机器学习基础阶段会用到多种库，为了统一版本号在环境中使用，\n",
    "将所有的库及其版本放到requirements.txt中，然后统一安装"
   ],
   "id": "1d7b6728a0ac3846"
  },
  {
   "metadata": {},
   "cell_type": "markdown",
   "source": [
    "新建一个用于人工智能环境的虚拟环境\n",
    "    pycharm直接创建项目的同时根据需求选择\n",
    "    新手：新建项目--》解释器类型：自定义环境\n",
    "                   环境：生成新的\n",
    "                   类型：virtualenv\n",
    "                   基础python：自行选择所安装的python版本\n",
    "                   位置：从基础解释器继承软件包"
   ],
   "id": "9ad52d03bef45c6f"
  },
  {
   "metadata": {},
   "cell_type": "markdown",
   "source": [
    "2.使用pip命令安装\n",
    "    pip install -r requirements.txt"
   ],
   "id": "d355fbd1319fbd1c"
  }
 ],
 "metadata": {
  "kernelspec": {
   "display_name": "Python 3",
   "language": "python",
   "name": "python3"
  },
  "language_info": {
   "codemirror_mode": {
    "name": "ipython",
    "version": 2
   },
   "file_extension": ".py",
   "mimetype": "text/x-python",
   "name": "python",
   "nbconvert_exporter": "python",
   "pygments_lexer": "ipython2",
   "version": "2.7.6"
  }
 },
 "nbformat": 4,
 "nbformat_minor": 5
}
