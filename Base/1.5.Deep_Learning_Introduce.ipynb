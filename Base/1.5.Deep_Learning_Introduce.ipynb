{
 "cells": [
  {
   "metadata": {},
   "cell_type": "markdown",
   "source": "深度学习（Deep Learning）简介",
   "id": "459bc2a57888d5bd"
  },
  {
   "metadata": {},
   "cell_type": "markdown",
   "source": [
    "    1.深度学习——神经网络简介\n",
    "        1.1 简介：深度学习（也被称为是深度结构和学习[Deep Structure Learning]、\n",
    "        层次学习[Hierarchical Learning]、深度机器学习[Deep Machine Learning）\n",
    "        是一种算法集合，是机器学习的一个分支。\n",
    "        \n",
    "        1.2 应用：深度学习近些年来，在语音识别、图像识别和对象识别侦测等领域表现出了惊人的准确性\n",
    "        \n",
    "        1.3 深度学习仿造人的神经元仿造而来\n",
    "        \n",
    "        1.4 卷积网络之父：Yann LeCun\n",
    "        \n",
    "        1.5 深度学习演示：http://playground.tensorflow.org"
   ],
   "id": "597c50fdd9979cee"
  },
  {
   "metadata": {},
   "cell_type": "markdown",
   "source": [
    "    2.深度学习各层负责内容\n",
    "        神经网络各层负责内容\n",
    "        1层 ： 负责识别颜色及简单纹理\n",
    "        2层 ： 一些神经元可以识别更加细化的纹理、布纹、刻纹、叶纹等等\n",
    "        3层 ： 一些神经元可以负责感受黑夜里的烛光、高光、萤火、鸡蛋颜色等等\n",
    "        4层 ： 一些神经元识别动物的脸、宠物的形貌、圆柱体事物、七星瓢虫等存在\n",
    "        5层 ： 一些神经元负责识别花，黑眼圈动物，鸟，键盘，原型屋顶等等"
   ],
   "id": "96fe4443653f48d8"
  },
  {
   "metadata": {},
   "cell_type": "markdown",
   "source": "",
   "id": "ee71122b71078273"
  }
 ],
 "metadata": {
  "kernelspec": {
   "display_name": "Python 3",
   "language": "python",
   "name": "python3"
  },
  "language_info": {
   "codemirror_mode": {
    "name": "ipython",
    "version": 2
   },
   "file_extension": ".py",
   "mimetype": "text/x-python",
   "name": "python",
   "nbconvert_exporter": "python",
   "pygments_lexer": "ipython2",
   "version": "2.7.6"
  }
 },
 "nbformat": 4,
 "nbformat_minor": 5
}
