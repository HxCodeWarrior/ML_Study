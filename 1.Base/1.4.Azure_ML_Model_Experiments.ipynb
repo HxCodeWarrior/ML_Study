{
 "cells": [
  {
   "metadata": {},
   "cell_type": "markdown",
   "source": "Azure机器学习模型搭建实验",
   "id": "8dbdb1d5f80fbe1"
  },
  {
   "metadata": {},
   "cell_type": "markdown",
   "source": [
    "    1.Azure平台简介\n",
    "        Azure Machine Learning（简称“AML”）是微软在其公有云Azure上推出的\n",
    "        基于Web使用的一项机器学习服务，机器学习属于人工智能的一个分支，\n",
    "        它技术借助算法让电脑对大量流动数据集进行识别，这种方式不仅通过历史数据\n",
    "        来推测未来事件和行为，其实现方式明显优于传统的商业智能形式\n",
    "        \n",
    "        微软的目标是：简化使用机器学习的过程，以便于开发人员、业务分析师和数据科学家\n",
    "        进行广泛、便捷地应用\n",
    "        \n",
    "        这款服务的目的在于“将机器学习动力与云计算的简单性相结合”\n",
    "        \n",
    "        AML目前在微软地Global Azure云服务平台提供服务，站点：https://studio.azureml.net/"
   ],
   "id": "bc9e82f66cef8ec4"
  },
  {
   "metadata": {},
   "cell_type": "markdown",
   "source": "",
   "id": "8a52af90b5b618b2"
  }
 ],
 "metadata": {
  "kernelspec": {
   "display_name": "Python 3",
   "language": "python",
   "name": "python3"
  },
  "language_info": {
   "codemirror_mode": {
    "name": "ipython",
    "version": 2
   },
   "file_extension": ".py",
   "mimetype": "text/x-python",
   "name": "python",
   "nbconvert_exporter": "python",
   "pygments_lexer": "ipython2",
   "version": "2.7.6"
  }
 },
 "nbformat": 4,
 "nbformat_minor": 5
}
