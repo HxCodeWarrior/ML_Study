{
 "cells": [
  {
   "metadata": {},
   "cell_type": "markdown",
   "source": "模型评估",
   "id": "a5525736b58c82f3"
  },
  {
   "metadata": {},
   "cell_type": "markdown",
   "source": [
    "    模型评估是模型开发过程中不可或缺的一部分。\n",
    "    它有助于发现表达数据的最佳模型和所选模型将来工作的性能如何。\n",
    "    \n",
    "    按照数据集的目标值不同，可以把模型评估分为“分类模型评估”和“回归模型评估”"
   ],
   "id": "36708dd0e0bc4a62"
  },
  {
   "metadata": {},
   "cell_type": "markdown",
   "source": [
    "    1.分类模型评估\n",
    "        （1）准确率（评价标准）\n",
    "        （2）其他评价标准：\n",
    "            准确率\n",
    "            召回率\n",
    "            F1-score\n",
    "            AUC指标\n",
    "            ......"
   ],
   "id": "a8638a83522a7fbc"
  },
  {
   "metadata": {},
   "cell_type": "markdown",
   "source": [
    "    2.回归模型评估\n",
    "        （1）均方根误差（Root Mean Squared Error， RMSE）\n",
    "        * RMSE是一个衡量回归模型误差率的常用公式。不过，它仅能比较误差是相同单位的模型\n",
    "        （2）其他评价指标：\n",
    "            相对平方误差（Relative Squared Error， RES）\n",
    "            平均绝对误差（Mean Absolute Error， MAE）\n",
    "            相对绝对误差（Relative Absolute Error， RAE）"
   ],
   "id": "2c1c4c43146de444"
  },
  {
   "metadata": {},
   "cell_type": "markdown",
   "source": [
    "    3.拟合\n",
    "        模型评估用于评级训练好的模型的表现结果，其表现效果大致可分为两类：过拟合、欠拟合\n",
    "        \n",
    "        在训练过程中，你可能会遇到如下问题：训练数据训练的很好，误差也不大，但是在测试集上有问题\n",
    "        \n",
    "        3.1 欠拟合（under-fitting）\n",
    "            （1）含义：模型学习的太过粗糙，连训练集中的样本数据特征关系都没有学出来\n",
    "            简单说：机器学习到的特征太少了，导致区分标准太过粗糙，应用时不能准确识别出具体数据\n",
    "        \n",
    "        3.2 过拟合（over-fitting）\n",
    "            （1）含义：所见的机器学习模型或者是深度学习模型在训练样本中表现得过于优越，导致在测试数据集中表现不佳\n",
    "            （2）示例：机器已经基本能区别天鹅和其他动物了，然后，很不巧得是已有得天鹅图片全都是白天鹅，于是机器经过学习后，会认为天鹅得羽毛都是白的，以后看到羽毛都是黑的天鹅就会认为那不是天鹅\n",
    "        "
   ],
   "id": "25008a50f2c3bfb1"
  },
  {
   "metadata": {},
   "cell_type": "markdown",
   "source": "    ",
   "id": "67ba7c10527a4260"
  }
 ],
 "metadata": {
  "kernelspec": {
   "display_name": "Python 3",
   "language": "python",
   "name": "python3"
  },
  "language_info": {
   "codemirror_mode": {
    "name": "ipython",
    "version": 2
   },
   "file_extension": ".py",
   "mimetype": "text/x-python",
   "name": "python",
   "nbconvert_exporter": "python",
   "pygments_lexer": "ipython2",
   "version": "2.7.6"
  }
 },
 "nbformat": 4,
 "nbformat_minor": 5
}
