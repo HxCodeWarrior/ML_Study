{
 "cells": [
  {
   "metadata": {},
   "cell_type": "markdown",
   "source": "独立同分布IID(idependent and identically distributed)",
   "id": "58ad16cbe96aa7f1"
  },
  {
   "metadata": {},
   "cell_type": "markdown",
   "source": [
    "    1.独立同分布（i.i.d.）\n",
    "        在概率统计理论中，如果变量序列或者其他随机变量中有相同的概率分布，并且相互独立，那么这些随机变量是独立同分布的\n",
    "        在西瓜书中解释是：输入空间中的所有样本服从一个隐含位置的分布，训练数据所有样本都是独立地从这个分布上采样而得"
   ],
   "id": "653a62fbc8c640cb"
  },
  {
   "metadata": {},
   "cell_type": "markdown",
   "source": [
    "    2.简单解释——独立、同分布、独立同分布\n",
    "        （1）独立：每次抽样之前没有关系，不会相互影响\n",
    "        举例：给一个骰子，每次抛骰子抛到几就坐几，这就是独立；\n",
    "            如果我要抛骰子两次之和大于8，那么第一次和第二次就不独立，因为第二次抛的结果与第一次有关\n",
    "        （2）同分布：每次抽样，样本服从同一个分布\n",
    "        举例：给一个骰子，每次抛骰子的任意点数的概率都是六分之一，这就是同分布\n",
    "        （3）独立同分布：i.i.d.，每次抽样之间都是独立而且同分布"
   ],
   "id": "611ff79f06d51786"
  },
  {
   "metadata": {},
   "cell_type": "markdown",
   "source": [
    "    3.机器学习领域的重要假设\n",
    "        IID独立同分布即假设训练数据和测试数据是满足相同分布的\n",
    "        它是通过训练数据获得的模型能够在测试集获得好的效果的一个基本保障。"
   ],
   "id": "43c2254f792a35d5"
  },
  {
   "metadata": {},
   "cell_type": "markdown",
   "source": [
    "    4.目前发展\n",
    "        机器学习并不总要求独立同分布，在不少问题中要求样本数据采样自同一个分布，\n",
    "        这是因为希望用训练数据集获得道德模型可以合理的用于测试数据集，使用独立同分布能够解释得通\n",
    "        \n",
    "        目前，一些机器学习内容已经不再拘泥于独立同分布假设下，一些问题会假设样本没有同分布"
   ],
   "id": "65245328ca0074e0"
  }
 ],
 "metadata": {
  "kernelspec": {
   "display_name": "Python 3",
   "language": "python",
   "name": "python3"
  },
  "language_info": {
   "codemirror_mode": {
    "name": "ipython",
    "version": 2
   },
   "file_extension": ".py",
   "mimetype": "text/x-python",
   "name": "python",
   "nbconvert_exporter": "python",
   "pygments_lexer": "ipython2",
   "version": "2.7.6"
  }
 },
 "nbformat": 4,
 "nbformat_minor": 5
}
