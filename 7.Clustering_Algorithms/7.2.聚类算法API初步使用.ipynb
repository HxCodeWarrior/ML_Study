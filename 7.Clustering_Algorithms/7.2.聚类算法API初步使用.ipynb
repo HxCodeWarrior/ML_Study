{
 "cells": [
  {
   "metadata": {},
   "cell_type": "markdown",
   "source": "## 聚类算法API初步使用",
   "id": "14c69de1ae5b14a4"
  },
  {
   "metadata": {},
   "cell_type": "markdown",
   "source": "1.API介绍",
   "id": "2229df3795204edd"
  },
  {
   "metadata": {},
   "cell_type": "markdown",
   "source": [
    "    sklearn.cluster.KMeans(n_clusters=8)\n",
    "        （1）参数：\n",
    "            n_clusters：开始的聚类中心的数量\n",
    "                       整形，缺省值=8，生成的聚类数，即产生的质心（centroids）数\n",
    "        （2）方法：\n",
    "            （2.1）estimator.fit(x)\n",
    "            （2.2）estimator.predict(x)\n",
    "            （2.3）estimator.fit_predict(x)\n",
    "                    计算聚类中心并预测每个样本属于哪个类别，相当于先调用fit(x)然后再调用predict(x)"
   ],
   "id": "7f47d4682631e860"
  },
  {
   "metadata": {},
   "cell_type": "markdown",
   "source": "",
   "id": "81bd230e2f039f52"
  }
 ],
 "metadata": {
  "kernelspec": {
   "display_name": "Python 3",
   "language": "python",
   "name": "python3"
  },
  "language_info": {
   "codemirror_mode": {
    "name": "ipython",
    "version": 2
   },
   "file_extension": ".py",
   "mimetype": "text/x-python",
   "name": "python",
   "nbconvert_exporter": "python",
   "pygments_lexer": "ipython2",
   "version": "2.7.6"
  }
 },
 "nbformat": 4,
 "nbformat_minor": 5
}
