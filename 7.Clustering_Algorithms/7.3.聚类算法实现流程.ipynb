{
 "cells": [
  {
   "metadata": {},
   "cell_type": "markdown",
   "source": "## 聚类算法实现流程",
   "id": "9910a0a07c53edd8"
  },
  {
   "metadata": {},
   "cell_type": "markdown",
   "source": [
    "    k-means其实包含两层内容：\n",
    "        K：初始中心点个数（计划聚类数）\n",
    "        means：求中心点到其他数据点距离的平均值"
   ],
   "id": "3ad59f6f4af79351"
  },
  {
   "metadata": {},
   "cell_type": "markdown",
   "source": "1.K-means聚类步骤",
   "id": "3a06a9caf6c0c838"
  },
  {
   "metadata": {},
   "cell_type": "markdown",
   "source": [
    "    （1）随机设置k个特征空间内的点作为出事的聚类中心\n",
    "    （2）对于其他每个点计算到k个中心的距离，位置的点选择最近的一个聚类中心作为标记类别\n",
    "    （3）接着对着标记的聚类中心之后，重新新计算出每个聚类的新中心点（平均值）\n",
    "    （4）如果计算得出的新中心点与原中心点一样（质心不再移动），那么结束，否则重新进行第二步过程：\n",
    "![jupyter](../Sources/Pictures/Clustering_Algorithms/k-means聚类步骤整体流程图解.png)"
   ],
   "id": "dadfc9147d8ee5a5"
  },
  {
   "metadata": {},
   "cell_type": "markdown",
   "source": "2.案例练习",
   "id": "e8b4b0c7512be4b2"
  },
  {
   "metadata": {},
   "cell_type": "markdown",
   "source": [
    "    2.1.案例数据\n",
    "![jupyter](../Sources/Pictures/Clustering_Algorithms/聚类算法实现流程案例数据.png)"
   ],
   "id": "f0adc69e773dccb0"
  },
  {
   "metadata": {},
   "cell_type": "markdown",
   "source": "2.2.K-means算法流程实现",
   "id": "295e09d76f0d0053"
  },
  {
   "metadata": {},
   "cell_type": "markdown",
   "source": [
    "    1、随机设置K个特征空间内的点作为初始的聚类中心（本案例中设置p1和p2）\n",
    "![jupyter](../Sources/Pictures/Clustering_Algorithms/K-means算法流程实现-1.png)"
   ],
   "id": "c3f5351e6ed13654"
  },
  {
   "metadata": {},
   "cell_type": "markdown",
   "source": [
    "    2、对于其他每个点计算到K个中心的距离，未知的点选择最近的一个聚类中心点作为标记类别\n",
    "![jupyter](../Sources/Pictures/Clustering_Algorithms/K-means算法流程实现-2.png)"
   ],
   "id": "18527d2eaa1654cc"
  },
  {
   "metadata": {},
   "cell_type": "markdown",
   "source": [
    "    3、接着对着标记的聚类中心之后，重新计算出每个聚类的新中心点（平均值）\n",
    "![jupyter](../Sources/Pictures/Clustering_Algorithms/K-means算法流程实现-3.png)"
   ],
   "id": "50bbca38f790d66d"
  },
  {
   "metadata": {},
   "cell_type": "markdown",
   "source": [
    "    4、如果计算得出的新中心点与原中心点一样（质心不再移动），那么结束，否则重新进行第\n",
    "    二步过程【经过判断，需要重复上述步骤，开始新一轮迭代】\n",
    "![jupyter](../Sources/Pictures/Clustering_Algorithms/K-means算法流程实现-4.png)"
   ],
   "id": "6e47ef9d0873bc0a"
  },
  {
   "metadata": {},
   "cell_type": "markdown",
   "source": [
    "    5、当每次迭代结果不变时，认为算法收敛，聚类完成，K-Means一定会停下，不可能陷入一\n",
    "    直选质心的过程。\n",
    "![jupyter](../Sources/Pictures/Clustering_Algorithms/K-means算法流程实现-5.png)"
   ],
   "id": "471fa5520944dc6d"
  },
  {
   "metadata": {},
   "cell_type": "markdown",
   "source": "3.小结",
   "id": "971b6b0f15275f85"
  },
  {
   "metadata": {},
   "cell_type": "markdown",
   "source": [
    "    K-means聚类实现流程【掌握】\n",
    "        （1）事先确定常数K，常数K意味着最终的聚类类别数;\n",
    "        （2）随机选定初始点为质心，并通过计算每一个样本与质心之间的相似度(这里为欧式\n",
    "            距离)，将样本点归到最相似的类中，\n",
    "        （3）接着，重新计算每个类的质心(即为类中心)，重复这样的过程，直到质心不再改变，\n",
    "        （4）最终就确定了每个样本所属的类别以及每个类的质心。\n",
    "        注意:\n",
    "            由于每次都要计算所有的样本与每一个质心之间的相似度，故在大规模的数据集上\n",
    "            ，K-Means算法的收敛速度比较慢。"
   ],
   "id": "d1158543db34def0"
  }
 ],
 "metadata": {
  "kernelspec": {
   "display_name": "Python 3",
   "language": "python",
   "name": "python3"
  },
  "language_info": {
   "codemirror_mode": {
    "name": "ipython",
    "version": 2
   },
   "file_extension": ".py",
   "mimetype": "text/x-python",
   "name": "python",
   "nbconvert_exporter": "python",
   "pygments_lexer": "ipython2",
   "version": "2.7.6"
  }
 },
 "nbformat": 4,
 "nbformat_minor": 5
}
