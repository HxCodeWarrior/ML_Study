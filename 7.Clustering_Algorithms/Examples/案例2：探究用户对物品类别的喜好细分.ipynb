{
 "cells": [
  {
   "metadata": {},
   "cell_type": "markdown",
   "source": "案例：探究用户对物品类别的细化细分",
   "id": "2131db3d4e98a51c"
  },
  {
   "metadata": {},
   "cell_type": "markdown",
   "source": "    目标：应用PCA和K-means使用用户对物品类别的喜好细分划分",
   "id": "792266ad54452e4a"
  },
  {
   "metadata": {},
   "cell_type": "markdown",
   "source": [
    "    数据如下：\n",
    "        order_products__prior.csv：订单与商品信息\n",
    "            字段：order_id, product_id, add_to_cart_order, reordered\n",
    "        products.csv：商品信息\n",
    "            字段：product_id, product_name, aisle_id, department_id\n",
    "        orders.csv：用户的订单信息\n",
    "            字段：order_id,user_id,eval_set,order_number,….\n",
    "        aisles.csv：商品所属具体物品类别\n",
    "            字段： aisle_id, aisle"
   ],
   "id": "e935dc81488a5c38"
  },
  {
   "metadata": {},
   "cell_type": "markdown",
   "source": "1.需求",
   "id": "18c35d50edabd176"
  },
  {
   "metadata": {},
   "cell_type": "markdown",
   "source": "![jupyter](../../Sources/Pictures/Clustering_Algorithms/instacart效果.png)",
   "id": "29219dce3d5cc941"
  },
  {
   "metadata": {},
   "cell_type": "markdown",
   "source": "![jupyter](../../Sources/Pictures/Clustering_Algorithms/instacartPCA结果.png)",
   "id": "111b61d4f371ebc8"
  },
  {
   "metadata": {},
   "cell_type": "markdown",
   "source": "2.分析",
   "id": "d52d2fc93ffbc559"
  },
  {
   "metadata": {},
   "cell_type": "markdown",
   "source": [
    "    1.获取数据\n",
    "    2.数据基本处理\n",
    "        2.1.合并表格\n",
    "        2.2.交叉表合并\n",
    "        2.3.数据截取\n",
    "    3.特征工程——PCA\n",
    "    4.机器学习——K-means\n",
    "    5.模型评估\n",
    "        sklearn.metrics.silhouette_score(X, labels)\n",
    "            计算所有样本呢的平均轮廓系数\n",
    "            X：特征值\n",
    "            labels：被聚类标记的目标值"
   ],
   "id": "e51d751a2c699495"
  }
 ],
 "metadata": {
  "kernelspec": {
   "display_name": "Python 3",
   "language": "python",
   "name": "python3"
  },
  "language_info": {
   "codemirror_mode": {
    "name": "ipython",
    "version": 2
   },
   "file_extension": ".py",
   "mimetype": "text/x-python",
   "name": "python",
   "nbconvert_exporter": "python",
   "pygments_lexer": "ipython2",
   "version": "2.7.6"
  }
 },
 "nbformat": 4,
 "nbformat_minor": 5
}
