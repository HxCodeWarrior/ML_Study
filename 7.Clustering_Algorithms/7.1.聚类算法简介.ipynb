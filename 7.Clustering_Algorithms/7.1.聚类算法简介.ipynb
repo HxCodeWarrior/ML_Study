{
 "cells": [
  {
   "metadata": {},
   "cell_type": "markdown",
   "source": "聚类算法简介",
   "id": "f38c854971140549"
  },
  {
   "metadata": {},
   "cell_type": "markdown",
   "source": "1.认识聚类算法",
   "id": "bbfb1791fbfd307f"
  },
  {
   "metadata": {},
   "cell_type": "markdown",
   "source": [
    "    对一些动物进行分类，可以根据繁衍方式、呼吸方式、生活环境等进行不同的分类\n",
    "![jupyter](../Sources/Pictures/Clustering_Algorithms/认识聚类算法.png)"
   ],
   "id": "65917e8d9f8dd036"
  },
  {
   "metadata": {},
   "cell_type": "markdown",
   "source": "    使用不同的聚类准则，产生的聚类结果不同",
   "id": "e1c12d47ed5879b8"
  },
  {
   "metadata": {},
   "cell_type": "markdown",
   "source": [
    "    1.1.聚类算法在现实中的应用\n",
    "        （1）用户画像，广告推荐，Data Segmentation，搜索引擎的流量推荐，恶意流量识别\n",
    "        （2）基于位置信息的商业推送，新闻聚类，筛选排序\n",
    "        （3）图像分割，降维，识别；离群点检测；信用卡异常消费；发掘相同功能的基因片段\n",
    "![jupyter](../Sources/Pictures/Clustering_Algorithms/聚类算法在现实中的应用.png)"
   ],
   "id": "dd6d80ace3b43514"
  },
  {
   "metadata": {},
   "cell_type": "markdown",
   "source": [
    "    1.2.聚类算法的概念\n",
    "    聚类算法：\n",
    "        一种典型的无监督学习算法，主要用于将相似的样本自动归到一个类别中。\n",
    "        在聚类算法中根据样本之间的相似性，将样本划分到不同的类别中，对于不同的相似度\n",
    "        计算方法，会得到不同的聚类结果，常用的相似度计算方法有欧式距离法。"
   ],
   "id": "57ef31d4130d82ab"
  },
  {
   "metadata": {},
   "cell_type": "markdown",
   "source": [
    "    1.3 聚类算法与分类算法最大的区别\n",
    "    聚类算法是无监督的学习算法，而分类算法属于监督的学习算法。"
   ],
   "id": "19a1a5e8bbc9a624"
  },
  {
   "metadata": {},
   "cell_type": "markdown",
   "source": "2 小结",
   "id": "7fbc6b70566cf7f7"
  },
  {
   "metadata": {},
   "cell_type": "markdown",
   "source": [
    "    聚类算法分类【了解】\n",
    "        粗聚类\n",
    "        细聚类\n",
    "    聚类的定义【了解】\n",
    "        一种典型的无监督学习算法，\n",
    "        主要用于将相似的样本自动归到一个类别中\n",
    "        计算样本和样本之间的相似性，一般使用欧式距离"
   ],
   "id": "9f477b06aef21dd4"
  }
 ],
 "metadata": {
  "kernelspec": {
   "display_name": "Python 3",
   "language": "python",
   "name": "python3"
  },
  "language_info": {
   "codemirror_mode": {
    "name": "ipython",
    "version": 2
   },
   "file_extension": ".py",
   "mimetype": "text/x-python",
   "name": "python",
   "nbconvert_exporter": "python",
   "pygments_lexer": "ipython2",
   "version": "2.7.6"
  }
 },
 "nbformat": 4,
 "nbformat_minor": 5
}
