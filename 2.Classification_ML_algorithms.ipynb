{
 "cells": [
  {
   "metadata": {},
   "cell_type": "markdown",
   "source": "机器学习算法分类",
   "id": "10d626c06ef2e2bf"
  },
  {
   "metadata": {},
   "cell_type": "markdown",
   "source": [
    "1.监督学习\n",
    "    （1）定义：输入数据是由"
   ],
   "id": "bfc1b8cc3991b20"
  }
 ],
 "metadata": {
  "kernelspec": {
   "display_name": "Python 3",
   "language": "python",
   "name": "python3"
  },
  "language_info": {
   "codemirror_mode": {
    "name": "ipython",
    "version": 2
   },
   "file_extension": ".py",
   "mimetype": "text/x-python",
   "name": "python",
   "nbconvert_exporter": "python",
   "pygments_lexer": "ipython2",
   "version": "2.7.6"
  }
 },
 "nbformat": 4,
 "nbformat_minor": 5
}
